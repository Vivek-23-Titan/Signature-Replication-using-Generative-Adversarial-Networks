{
  "nbformat": 4,
  "nbformat_minor": 0,
  "metadata": {
    "colab": {
      "name": "Copy of Signatures CGAN.ipynb",
      "provenance": [],
      "collapsed_sections": [],
      "authorship_tag": "ABX9TyOWO0HXExjwJmYEh1aFzx5n",
      "include_colab_link": true
    },
    "kernelspec": {
      "name": "python3",
      "display_name": "Python 3"
    },
    "accelerator": "GPU"
  },
  "cells": [
    {
      "cell_type": "markdown",
      "metadata": {
        "id": "view-in-github",
        "colab_type": "text"
      },
      "source": [
        "<a href=\"https://colab.research.google.com/github/Vivek-23-Titan/Signature-Replication-using-Generative-Adversarial-Networks/blob/master/Copy_of_Signatures_CGAN.ipynb\" target=\"_parent\"><img src=\"https://colab.research.google.com/assets/colab-badge.svg\" alt=\"Open In Colab\"/></a>"
      ]
    },
    {
      "cell_type": "markdown",
      "metadata": {
        "id": "nzdg_1WB5YgF",
        "colab_type": "text"
      },
      "source": [
        "##**Import Libraries**##"
      ]
    },
    {
      "cell_type": "code",
      "metadata": {
        "id": "3XM6ZBcgNEKQ",
        "colab_type": "code",
        "colab": {}
      },
      "source": [
        "!pip install --upgrade tensorflow==1.15 #Required for running the CGAN\n",
        "import tensorflow as tf\n",
        "print(tf.__version__)\n",
        "\n",
        "from keras.models import Sequential, Model\n",
        "from keras.layers import Input, Dense, LeakyReLU, BatchNormalization, ReLU, Dropout\n",
        "from keras.layers import Conv2D, Conv2DTranspose, Reshape, Flatten, Activation, ZeroPadding2D, UpSampling2D, MaxPooling2D\n",
        "from keras.optimizers import Adam, RMSprop\n",
        "from keras import initializers\n",
        "from keras.utils import plot_model, np_utils\n",
        "from keras import backend as K\n",
        "import numpy as np\n",
        "import matplotlib.pyplot as plt\n",
        "\n",
        "from tensorflow.keras.preprocessing.image import ImageDataGenerator\n",
        "import tensorflow as tf\n",
        "import keras_preprocessing\n",
        "from keras_preprocessing import image\n",
        "\n",
        "from __future__ import print_function, division\n",
        "\n",
        "from keras.layers.advanced_activations import LeakyReLU\n",
        "from keras.layers import BatchNormalization, Dropout\n",
        "from keras.layers.merge import concatenate\n",
        "from keras.utils import to_categorical, plot_model\n",
        "import keras\n",
        "import matplotlib.cm as cm\n",
        "from sklearn import metrics\n",
        "import seaborn as sns"
      ],
      "execution_count": null,
      "outputs": []
    },
    {
      "cell_type": "code",
      "metadata": {
        "id": "PIt_E9gZNLbj",
        "colab_type": "code",
        "colab": {}
      },
      "source": [
        "from google.colab import drive\n",
        "drive.mount('/content/drive')"
      ],
      "execution_count": null,
      "outputs": []
    },
    {
      "cell_type": "markdown",
      "metadata": {
        "id": "9hM7XKVg5jlU",
        "colab_type": "text"
      },
      "source": [
        "##**Load the Dataset from Drive**##"
      ]
    },
    {
      "cell_type": "code",
      "metadata": {
        "id": "xrNTpxK4SJ_j",
        "colab_type": "code",
        "colab": {}
      },
      "source": [
        "import glob\n",
        "import cv2\n",
        "import PIL\n",
        "from PIL import ImageOps\n",
        "\n",
        "path = glob.glob(r\"/content/drive/My Drive/My Segmented Signatures/X_train/amit/*.PNG\")\n",
        "X_train1 = []\n",
        "Y_train1 = []\n",
        "dim = (64,64) # (width = cols, height = rows)\n",
        "\n",
        "for img in path:\n",
        "    n = cv2.imread(img,0)    \n",
        "    resized = cv2.resize(n, dim)\n",
        "    (thresh, im_bw) = cv2.threshold(resized, 128, 255, cv2.THRESH_BINARY | cv2.THRESH_OTSU)\n",
        "    im_bw = cv2.bitwise_not(im_bw)\n",
        "    X_train1.append(im_bw)\n",
        "    Y_train1.append([0])\n",
        "\n",
        "Y_train1 = np.array(Y_train1)"
      ],
      "execution_count": null,
      "outputs": []
    },
    {
      "cell_type": "code",
      "metadata": {
        "id": "jicLaNcSUHIu",
        "colab_type": "code",
        "colab": {}
      },
      "source": [
        "path = glob.glob(r\"/content/drive/My Drive/My Segmented Signatures/X_train/aswal/*.PNG\")\n",
        "X_train2 = []\n",
        "Y_train2 = []\n",
        "#dim = (64,64) # (width = cols, height = rows)\n",
        "\n",
        "for img in path:\n",
        "    n = cv2.imread(img,0)    \n",
        "    resized = cv2.resize(n, dim)\n",
        "    (thresh, im_bw) = cv2.threshold(resized, 128, 255, cv2.THRESH_BINARY | cv2.THRESH_OTSU)\n",
        "    im_bw = cv2.bitwise_not(im_bw)\n",
        "    X_train2.append(im_bw)\n",
        "    Y_train2.append([1])\n",
        "\n",
        "Y_train2 = np.array(Y_train2)"
      ],
      "execution_count": null,
      "outputs": []
    },
    {
      "cell_type": "code",
      "metadata": {
        "id": "1AGx1MVBUMkk",
        "colab_type": "code",
        "colab": {}
      },
      "source": [
        "path = glob.glob(r\"/content/drive/My Drive/My Segmented Signatures/X_train/daniel/*.PNG\")\n",
        "X_train3 = []\n",
        "Y_train3 = []\n",
        "#dim = (64,64) # (width = cols, height = rows)\n",
        "\n",
        "for img in path:\n",
        "    n = cv2.imread(img,0)    \n",
        "    resized = cv2.resize(n, dim)\n",
        "    (thresh, im_bw) = cv2.threshold(resized, 128, 255, cv2.THRESH_BINARY | cv2.THRESH_OTSU)\n",
        "    im_bw = cv2.bitwise_not(im_bw)\n",
        "    X_train3.append(im_bw)\n",
        "    Y_train3.append([2])\n",
        "\n",
        "Y_train3 = np.array(Y_train3)"
      ],
      "execution_count": null,
      "outputs": []
    },
    {
      "cell_type": "code",
      "metadata": {
        "id": "IjRestUGUNP4",
        "colab_type": "code",
        "colab": {}
      },
      "source": [
        "path = glob.glob(r\"/content/drive/My Drive/My Segmented Signatures/X_train/john/*.PNG\")\n",
        "X_train4 = []\n",
        "Y_train4 = []\n",
        "#dim = (64,64) # (width = cols, height = rows)\n",
        "\n",
        "for img in path:\n",
        "    n = cv2.imread(img,0)    \n",
        "    resized = cv2.resize(n, dim)\n",
        "    (thresh, im_bw) = cv2.threshold(resized, 128, 255, cv2.THRESH_BINARY | cv2.THRESH_OTSU)\n",
        "    im_bw = cv2.bitwise_not(im_bw)\n",
        "    X_train4.append(im_bw)\n",
        "    Y_train4.append([3])\n",
        "\n",
        "Y_train4 = np.array(Y_train4)"
      ],
      "execution_count": null,
      "outputs": []
    },
    {
      "cell_type": "code",
      "metadata": {
        "id": "Ab4T5ddfUN21",
        "colab_type": "code",
        "colab": {}
      },
      "source": [
        "path = glob.glob(r\"/content/drive/My Drive/My Segmented Signatures/X_train/kevin/*.PNG\")\n",
        "X_train5 = []\n",
        "Y_train5 = []\n",
        "#dim = (64,64) # (width = cols, height = rows)\n",
        "\n",
        "for img in path:\n",
        "    n = cv2.imread(img,0)    \n",
        "    resized = cv2.resize(n, dim)\n",
        "    (thresh, im_bw) = cv2.threshold(resized, 128, 255, cv2.THRESH_BINARY | cv2.THRESH_OTSU)\n",
        "    im_bw = cv2.bitwise_not(im_bw)\n",
        "    X_train5.append(im_bw)\n",
        "    Y_train5.append([4])\n",
        "\n",
        "Y_train5 = np.array(Y_train5)"
      ],
      "execution_count": null,
      "outputs": []
    },
    {
      "cell_type": "code",
      "metadata": {
        "id": "KxIQeYC8UOzF",
        "colab_type": "code",
        "colab": {}
      },
      "source": [
        "path = glob.glob(r\"/content/drive/My Drive/My Segmented Signatures/X_train/lalita/*.PNG\")\n",
        "X_train6 = []\n",
        "Y_train6 = []\n",
        "#dim = (64,64) # (width = cols, height = rows)\n",
        "\n",
        "for img in path:\n",
        "    n = cv2.imread(img,0)    \n",
        "    resized = cv2.resize(n, dim)\n",
        "    (thresh, im_bw) = cv2.threshold(resized, 128, 255, cv2.THRESH_BINARY | cv2.THRESH_OTSU)\n",
        "    im_bw = cv2.bitwise_not(im_bw)\n",
        "    X_train6.append(im_bw)\n",
        "    Y_train6.append([5])\n",
        "\n",
        "Y_train6 = np.array(Y_train6)"
      ],
      "execution_count": null,
      "outputs": []
    },
    {
      "cell_type": "code",
      "metadata": {
        "id": "16d-PjWTUQCp",
        "colab_type": "code",
        "colab": {}
      },
      "source": [
        "path = glob.glob(r\"/content/drive/My Drive/My Segmented Signatures/X_train/ram/*.PNG\")\n",
        "X_train7 = []\n",
        "Y_train7 = []\n",
        "#dim = (64,64) # (width = cols, height = rows)\n",
        "\n",
        "for img in path:\n",
        "    n = cv2.imread(img,0)    \n",
        "    resized = cv2.resize(n, dim)\n",
        "    (thresh, im_bw) = cv2.threshold(resized, 128, 255, cv2.THRESH_BINARY | cv2.THRESH_OTSU)\n",
        "    im_bw = cv2.bitwise_not(im_bw)\n",
        "    X_train7.append(im_bw)\n",
        "    Y_train7.append([6])\n",
        "\n",
        "Y_train7 = np.array(Y_train7)"
      ],
      "execution_count": null,
      "outputs": []
    },
    {
      "cell_type": "code",
      "metadata": {
        "id": "5Md2RIyNUQ2v",
        "colab_type": "code",
        "colab": {}
      },
      "source": [
        "path = glob.glob(r\"/content/drive/My Drive/My Segmented Signatures/X_train/sancho/*.PNG\")\n",
        "X_train8 = []\n",
        "Y_train8 = []\n",
        "#dim = (64,64) # (width = cols, height = rows)\n",
        "\n",
        "for img in path:\n",
        "    n = cv2.imread(img,0)    \n",
        "    resized = cv2.resize(n, dim)\n",
        "    (thresh, im_bw) = cv2.threshold(resized, 128, 255, cv2.THRESH_BINARY | cv2.THRESH_OTSU)\n",
        "    im_bw = cv2.bitwise_not(im_bw)\n",
        "    X_train8.append(im_bw)\n",
        "    Y_train8.append([7])\n",
        "\n",
        "Y_train8 = np.array(Y_train8)"
      ],
      "execution_count": null,
      "outputs": []
    },
    {
      "cell_type": "code",
      "metadata": {
        "id": "VuxvUQDqURd2",
        "colab_type": "code",
        "colab": {}
      },
      "source": [
        "path = glob.glob(r\"/content/drive/My Drive/My Segmented Signatures/X_train/vinod/*.PNG\")\n",
        "X_train9 = []\n",
        "Y_train9 = []\n",
        "#dim = (64,64) # (width = cols, height = rows)\n",
        "\n",
        "for img in path:\n",
        "    n = cv2.imread(img,0)    \n",
        "    resized = cv2.resize(n, dim)\n",
        "    (thresh, im_bw) = cv2.threshold(resized, 128, 255, cv2.THRESH_BINARY | cv2.THRESH_OTSU)\n",
        "    im_bw = cv2.bitwise_not(im_bw)\n",
        "    X_train9.append(im_bw)\n",
        "    Y_train9.append([8])\n",
        "\n",
        "Y_train9 = np.array(Y_train9)"
      ],
      "execution_count": null,
      "outputs": []
    },
    {
      "cell_type": "code",
      "metadata": {
        "id": "bV3RwWwvUSS8",
        "colab_type": "code",
        "colab": {}
      },
      "source": [
        "path = glob.glob(r\"/content/drive/My Drive/My Segmented Signatures/X_train/vivek/*.PNG\")\n",
        "X_train10 = []\n",
        "Y_train10 = []\n",
        "#dim = (64,64) # (width = cols, height = rows)\n",
        "\n",
        "for img in path:\n",
        "    n = cv2.imread(img,0)    \n",
        "    resized = cv2.resize(n, dim)\n",
        "    (thresh, im_bw) = cv2.threshold(resized, 128, 255, cv2.THRESH_BINARY | cv2.THRESH_OTSU)\n",
        "    im_bw = cv2.bitwise_not(im_bw)\n",
        "    X_train10.append(im_bw)\n",
        "    Y_train10.append([9])\n",
        "\n",
        "Y_train10 = np.array(Y_train10)"
      ],
      "execution_count": null,
      "outputs": []
    },
    {
      "cell_type": "code",
      "metadata": {
        "id": "wCbDnoNCWiCP",
        "colab_type": "code",
        "colab": {
          "base_uri": "https://localhost:8080/",
          "height": 52
        },
        "outputId": "c34072fa-e4ab-467e-8255-0d9f36a7549f"
      },
      "source": [
        "#Compile all the classes to form the training dataset\n",
        "X_train = np.concatenate([X_train1,X_train2,X_train3,X_train4,X_train5,X_train6,X_train7,X_train8,X_train9,X_train10])\n",
        "Y_train = np.concatenate([Y_train1,Y_train2,Y_train3,Y_train4,Y_train5,Y_train6,Y_train7,Y_train8,Y_train9,Y_train10])\n",
        "\n",
        "X_train = np.array(X_train)\n",
        "Y_train = np.array(Y_train)\n",
        "\n",
        "X = X_train\n",
        "Y = Y_train\n",
        "print(X_train.shape)\n",
        "print(Y_train.shape)"
      ],
      "execution_count": null,
      "outputs": [
        {
          "output_type": "stream",
          "text": [
            "(1000, 64, 64)\n",
            "(1000, 1)\n"
          ],
          "name": "stdout"
        }
      ]
    },
    {
      "cell_type": "code",
      "metadata": {
        "id": "8VtUsiaZbHUf",
        "colab_type": "code",
        "colab": {}
      },
      "source": [
        "!rm -rf images\n",
        "!mkdir -p images"
      ],
      "execution_count": null,
      "outputs": []
    },
    {
      "cell_type": "markdown",
      "metadata": {
        "id": "ySGid7e35xdn",
        "colab_type": "text"
      },
      "source": [
        "##**CGAN Model**##"
      ]
    },
    {
      "cell_type": "code",
      "metadata": {
        "id": "KJqa2eynJrHY",
        "colab_type": "code",
        "colab": {}
      },
      "source": [
        "X_test = []\n",
        "Y_test = []\n",
        "\n",
        "Labels = ['Amit','Aswal','Daniel','John','Kevin','Lalita','Ram','Sancho','Vinod','Vivek']\n",
        "\n",
        "class CGAN:\n",
        "    def __init__(self, img_width, img_height, n_channels, n_classes):\n",
        "        self.img_width = img_width\n",
        "        self.img_height = img_height\n",
        "        self.n_channels = n_channels\n",
        "        self.img_shape = (self.img_width, self.img_height, self.n_channels)\n",
        "        self.n_classes = n_classes\n",
        "        self.latent_dim = 100\n",
        "\n",
        "        optimizer = Adam(0.0002, 0.5)\n",
        "\n",
        "        # Build and compile the discriminator\n",
        "        self.discriminator = self.build_discriminator_model()\n",
        "        self.discriminator.compile(loss=['binary_crossentropy'],\n",
        "                                   optimizer=optimizer,\n",
        "                                   metrics=['accuracy'])\n",
        "\n",
        "        self.generator = self.build_generator()\n",
        "\n",
        "        noise = Input(shape=(self.latent_dim, ))\n",
        "        label = Input(shape=(self.n_classes,))\n",
        "        img = self.generator([noise, label])\n",
        "\n",
        "        # during generator updating,  the discriminator is fixed (will not be updated).\n",
        "        self.discriminator.trainable = False\n",
        "\n",
        "        # The discriminator takes generated image and label as input and determines its validity\n",
        "        validity = self.discriminator([img, label])\n",
        "\n",
        "        self.cgan_model = Model(input=[noise, label], output=validity)\n",
        "        self.cgan_model.compile(loss=['binary_crossentropy'],\n",
        "                                optimizer=optimizer,\n",
        "                                metrics=['accuracy'])\n",
        "\n",
        "        plot_model(self.cgan_model, show_shapes=True, to_file='cgan-adversarial_model.png')\n",
        "        plot_model(self.generator, show_shapes=True, to_file='cgan-generator_model.png')\n",
        "        plot_model(self.discriminator, show_shapes=True, to_file='cgan-discriminator.png')\n",
        "\n",
        "    def build_discriminator_model(self):\n",
        "\n",
        "        model_input = Input(shape=(self.img_width, self.img_height, self.n_channels), name='discriminator_input')\n",
        "\n",
        "        x = model_input\n",
        "\n",
        "        labels = Input(shape=(self.n_classes,))\n",
        "        # labels_embedded = Flatten()(Embedding(self.num_classes, self.latent_dim)(labels))\n",
        "        labels_embedded = Dense(self.img_width * self.img_width)(labels)\n",
        "        labels_embedded = Reshape((self.img_width, self.img_height, self.n_channels))(labels_embedded)\n",
        "\n",
        "        x = concatenate([x, labels_embedded])\n",
        "        x = LeakyReLU(alpha=0.1)(x)\n",
        "\n",
        "        x = Conv2D(filters=32, kernel_size=5, strides=2, padding='same')(x)\n",
        "        x = LeakyReLU(alpha=0.1)(x)\n",
        "\n",
        "        x = Conv2D(filters=64, kernel_size=5, strides=2, padding='same')(x)\n",
        "        x = LeakyReLU(alpha=0.1)(x)\n",
        "\n",
        "        x = Conv2D(filters=128, kernel_size=5, strides=2, padding='same')(x)\n",
        "        x = LeakyReLU(alpha=0.1)(x)\n",
        "\n",
        "        x = Conv2D(filters=256, kernel_size=5, strides=1, padding='same')(x)\n",
        "        x = LeakyReLU(alpha=0.1)(x)\n",
        "\n",
        "        x = Flatten()(x)\n",
        "        x = Dense(1)(x)\n",
        "        x = Activation('sigmoid')(x)\n",
        "        # model_input is conditioned by labels\n",
        "        discriminator = Model([model_input, labels], x, name='discriminator')\n",
        "\n",
        "        return discriminator\n",
        "\n",
        "    def build_generator(self):\n",
        "        image_resize = self.img_height // 4\n",
        "\n",
        "        inputs = Input(shape=(self.latent_dim,), name='z_input')\n",
        "        labels = Input(shape=(self.n_classes,), name='class_labels')\n",
        "\n",
        "        x = concatenate([inputs, labels], axis=1)\n",
        "        x = Dense(image_resize * image_resize * 128)(x)\n",
        "        x = Reshape((image_resize, image_resize, 128))(x)\n",
        "\n",
        "        x = BatchNormalization()(x)\n",
        "        x = Activation('relu')(x)\n",
        "        x = Conv2DTranspose(filters=128, kernel_size=5, strides=2, padding='same')(x)\n",
        "\n",
        "        x = BatchNormalization()(x)\n",
        "        x = Activation('relu')(x)\n",
        "        x = Conv2DTranspose(filters=64, kernel_size=5, strides=2, padding='same')(x)\n",
        "\n",
        "        x = BatchNormalization()(x)\n",
        "        x = Activation('relu')(x)\n",
        "        x = Conv2DTranspose(filters=32, kernel_size=5, strides=1, padding='same')(x)\n",
        "\n",
        "        x = BatchNormalization()(x)\n",
        "        x = Activation('relu')(x)\n",
        "        x = Conv2DTranspose(filters=1, kernel_size=5, strides=1, padding='same')(x)\n",
        "\n",
        "        x = Activation('sigmoid')(x)\n",
        "        # input is conditioned by labels\n",
        "        generator = Model(input=[inputs, labels], output=x, name='generator')\n",
        "        return generator\n",
        "\n",
        "    def train(self, x_train, y_train, epochs=1000, batch_size=128, sample_interval=50):\n",
        "\n",
        "        x_train = np.reshape(x_train, [-1, self.img_width, self.img_height, self.n_channels])\n",
        "        x_train = x_train.astype('float32') / 255\n",
        "\n",
        "        y_train = to_categorical(y_train)\n",
        "\n",
        "        # Adversarial ground truths\n",
        "        real = np.ones((batch_size, 1))\n",
        "        fake = np.zeros((batch_size, 1))\n",
        "\n",
        "        for epoch in range(epochs):\n",
        "\n",
        "            #  --------------------- Train Discriminator ---------------------\n",
        "            # Select a random half batch of images\n",
        "            idx = np.random.randint(0, x_train.shape[0], size=batch_size)\n",
        "            imgs, labels = x_train[idx], y_train[idx]\n",
        "\n",
        "            # Generate sample noise for generator input\n",
        "            noise = self.generate_noise(\"uniform_noise\", batch_size)\n",
        "\n",
        "            # Generate a half batch of new images\n",
        "            # we can use labels instead of fake_labels; because it is fake for noise\n",
        "            gen_imgs = self.generator.predict([noise, labels])\n",
        "\n",
        "            # --------------------- Train the Discriminator ---------------------\n",
        "            d_loss_real = self.discriminator.train_on_batch([imgs, labels], real)\n",
        "            d_loss_fake = self.discriminator.train_on_batch([gen_imgs, labels], fake)\n",
        "            d_loss = 0.5 * np.add(d_loss_real, d_loss_fake)\n",
        "\n",
        "            #  --------------------- Train the Generator ---------------------\n",
        "            # Condition on labels (random one-hot labels)\n",
        "            fake_labels = np.eye(self.n_classes)[np.random.choice(self.n_classes, batch_size)]\n",
        "\n",
        "            # Train the generator\n",
        "            cgan_loss, acc = self.cgan_model.train_on_batch([noise, fake_labels], real)\n",
        "\n",
        "            # Plot the progress\n",
        "            print(\"%d [D loss: %f, acc.: %.2f%%] [G loss: %f]\" % (epoch, d_loss[0], 100*d_loss[1], cgan_loss))\n",
        "\n",
        "            # If at save interval => save generated image samples\n",
        "            if epoch % sample_interval == 0:\n",
        "                self.sample_images(epoch)\n",
        "\n",
        "    def sample_images(self, epoch):\n",
        "\n",
        "        r, c = 2, 5\n",
        "        noise = np.random.uniform(-1.0, 1.0, size=[r * c, self.latent_dim])\n",
        "\n",
        "        sampled_labels = np.arange(0, 10).reshape(-1, 1)\n",
        "        sampled_labels_categorical = to_categorical(sampled_labels)\n",
        "\n",
        "        gen_imgs = self.generator.predict([noise, sampled_labels_categorical])\n",
        "\n",
        "        # Rescale images 0 - 1\n",
        "        # gen_imgs = 0.5 * gen_imgs + 0.5\n",
        "        \n",
        "        #for epoch>70:\n",
        "        X_test.append(gen_imgs)\n",
        "        Y_test.append(sampled_labels)\n",
        "        sampled_labels = np.array(sampled_labels)\n",
        "\n",
        "\n",
        "        fig, axs = plt.subplots(r, c)\n",
        "        cnt = 0\n",
        "        for i in range(r):\n",
        "            for j in range(c):\n",
        "                axs[i, j].imshow(gen_imgs[cnt, :, :, 0], cmap='gray')\n",
        "                axs[i, j].set_title(Labels[int(sampled_labels[cnt])])\n",
        "                axs[i, j].axis('off')\n",
        "                cnt += 1\n",
        "        fig.savefig(\"images/%d.png\" % epoch, bbox_inches='tight', dpi=200)\n",
        "        fig = np.array(fig)\n",
        "        plt.close()\n",
        "        \n",
        "\n",
        "    def generate_noise(self, type_of_noise, batch_size):\n",
        "        if type_of_noise == \"normal_noise\":\n",
        "            return np.random.normal(0, 1, size=[batch_size, self.latent_dim])\n",
        "\n",
        "        elif type_of_noise == \"uniform_noise\":\n",
        "            return np.random.uniform(-1.0, 1.0, size=[batch_size, self.latent_dim])\n",
        "\n",
        "\n",
        "if __name__ == '__main__':\n",
        "    # Load the dataset\n",
        "\n",
        "    X_train = X\n",
        "    Y_train = Y\n",
        "\n",
        "    num_classes = 10\n",
        "\n",
        "    img_w, img_h = X_train[0].shape\n",
        "    num_channels = 1\n",
        "\n",
        "    cgan = CGAN(img_w, img_h, num_channels, num_classes)\n",
        "\n",
        "    cgan.train(X_train, Y_train, epochs=20000, batch_size=64, sample_interval=50)"
      ],
      "execution_count": null,
      "outputs": []
    },
    {
      "cell_type": "code",
      "metadata": {
        "id": "gxCiUKYIHqJj",
        "colab_type": "code",
        "colab": {
          "base_uri": "https://localhost:8080/",
          "height": 52
        },
        "outputId": "53bf0353-23ca-4341-a98a-1bb55dc35efb"
      },
      "source": [
        "# Converting into numpy arrays\n",
        "X_test = np.array(X_test)\n",
        "Y_test = np.array(Y_test)\n",
        "Y1 = Y_test\n",
        "X1 = X_test\n",
        "print(X_test.shape)\n",
        "print(Y_test.shape)"
      ],
      "execution_count": null,
      "outputs": [
        {
          "output_type": "stream",
          "text": [
            "(4000, 64, 64, 1)\n",
            "(4000, 1)\n"
          ],
          "name": "stdout"
        }
      ]
    },
    {
      "cell_type": "code",
      "metadata": {
        "id": "8XBZFDUMyztS",
        "colab_type": "code",
        "colab": {
          "base_uri": "https://localhost:8080/",
          "height": 52
        },
        "outputId": "845b1e47-06a6-4bc8-a3e7-b05d7ba01e8d"
      },
      "source": [
        "#Reshaping the 10 batches of signatures\n",
        "X_test = np.array(X_test)\n",
        "Y_test = np.array(Y_test)\n",
        "X_test = np.reshape(X_test,(4000,64,64,1))\n",
        "Y_test = np.reshape(Y_test,(4000,1))\n",
        "\n",
        "print(X_test.shape)\n",
        "print(Y_test.shape)"
      ],
      "execution_count": null,
      "outputs": [
        {
          "output_type": "stream",
          "text": [
            "(4000, 64, 64, 1)\n",
            "(4000, 1)\n"
          ],
          "name": "stdout"
        }
      ]
    },
    {
      "cell_type": "code",
      "metadata": {
        "id": "OlzMoKPa1t2y",
        "colab_type": "code",
        "colab": {
          "base_uri": "https://localhost:8080/",
          "height": 87
        },
        "outputId": "33e7a81b-ddff-4111-8eb2-f0ccec2bc0a7"
      },
      "source": [
        "#Since the images start to form in the beginning\n",
        "#The first 1000 images are omitting\n",
        "X1_test = X_test[1000:]\n",
        "Y1_test = Y_test[1000:]\n",
        "\n",
        "X1_train = X_train\n",
        "Y1_train = Y_train\n",
        "X1_train = np.expand_dims(X1_train, 3)\n",
        "\n",
        "print(X1_train.shape)\n",
        "print(Y1_train.shape)\n",
        "print(X1_test.shape)\n",
        "print(Y1_test.shape)"
      ],
      "execution_count": null,
      "outputs": [
        {
          "output_type": "stream",
          "text": [
            "(1000, 64, 64, 1)\n",
            "(1000, 1)\n",
            "(3000, 64, 64, 1)\n",
            "(3000, 1)\n"
          ],
          "name": "stdout"
        }
      ]
    },
    {
      "cell_type": "markdown",
      "metadata": {
        "id": "CRZ-7jgC57tG",
        "colab_type": "text"
      },
      "source": [
        "##**Compare the generated and original signatures**##"
      ]
    },
    {
      "cell_type": "code",
      "metadata": {
        "id": "GH4zf4rOPFFl",
        "colab_type": "code",
        "colab": {
          "base_uri": "https://localhost:8080/",
          "height": 682
        },
        "outputId": "d5696c1f-3c03-44b3-e469-dbcf32ceacf7"
      },
      "source": [
        "print(\"The Original Signatures\")\n",
        "X1_train = np.squeeze(X1_train)\n",
        "fig=plt.figure(figsize=(8, 6))\n",
        "columns = 5\n",
        "rows = 2\n",
        "loc = [1,101,201,301,401,501,601,701,801,901]\n",
        "for i in range(1, columns*rows +1):\n",
        "  try:\n",
        "      fig.add_subplot(rows, columns, i)\n",
        "      plt.imshow(X1_train[loc[i-1]], cmap = 'gray')\n",
        "      plt.axis(\"off\")\n",
        "      plt.title(Labels[int(Y1_train[loc[i-1]])])\n",
        "  except:\n",
        "      continue\n",
        "\n",
        "plt.tight_layout()\n",
        "plt.show()\n",
        "X1_train = np.expand_dims(X1_train, 3)\n",
        "\n",
        "print(\"The Generated Signatures\")\n",
        "X1_test = np.squeeze(X1_test)\n",
        "fig=plt.figure(figsize=(8, 6))\n",
        "columns = 5\n",
        "rows = 2\n",
        "loc = 729\n",
        "for i in range(1, columns*rows +1):\n",
        "\n",
        "# load the photo and extract the face\n",
        "  try:\n",
        "      fig.add_subplot(rows, columns, i)\n",
        "      plt.imshow(X1_test[i+loc], cmap = 'gray')\n",
        "      plt.axis(\"off\")\n",
        "      plt.title(Labels[int(Y1_test[i+loc])])\n",
        "  except:\n",
        "    continue\n",
        "\n",
        "plt.tight_layout()\n",
        "plt.show()\n",
        "X1_test = np.expand_dims(X1_test, 3)"
      ],
      "execution_count": null,
      "outputs": [
        {
          "output_type": "stream",
          "text": [
            "The Original Signatures\n"
          ],
          "name": "stdout"
        },
        {
          "output_type": "display_data",
          "data": {
            "image/png": "[encoded data removed]",
            "text/plain": [
              "<Figure size 576x432 with 10 Axes>"
            ]
          },
          "metadata": {
            "tags": [],
            "needs_background": "light"
          }
        },
        {
          "output_type": "stream",
          "text": [
            "The Generated Signatures\n"
          ],
          "name": "stdout"
        },
        {
          "output_type": "display_data",
          "data": {
            "image/png": "[encoded data removed]",
            "text/plain": [
              "<Figure size 576x432 with 10 Axes>"
            ]
          },
          "metadata": {
            "tags": [],
            "needs_background": "light"
          }
        }
      ]
    },
    {
      "cell_type": "code",
      "metadata": {
        "id": "EN-SCKBAzEY4",
        "colab_type": "code",
        "colab": {}
      },
      "source": [
        "#One hot encoding\n",
        "from keras.utils import to_categorical\n",
        "\n",
        "Y1_train = to_categorical(Y1_train)\n",
        "Y1_test = to_categorical(Y1_test)"
      ],
      "execution_count": null,
      "outputs": []
    },
    {
      "cell_type": "code",
      "metadata": {
        "id": "-Yu94aaMETyi",
        "colab_type": "code",
        "colab": {}
      },
      "source": [
        "#Shuffle\n",
        "for i in range(20):\n",
        "  from sklearn.utils import shuffle\n",
        "  X1_train, Y1_train = shuffle(X1_train, Y1_train, random_state=0)\n",
        "  from sklearn.utils import shuffle\n",
        "  X1_test, Y1_test = shuffle(X1_test, Y1_test, random_state=0)"
      ],
      "execution_count": null,
      "outputs": []
    },
    {
      "cell_type": "markdown",
      "metadata": {
        "id": "i6ZCTxL_6Jqf",
        "colab_type": "text"
      },
      "source": [
        "##**Convolutional Classifier Model**##"
      ]
    },
    {
      "cell_type": "code",
      "metadata": {
        "id": "fuK0fFz4H5fU",
        "colab_type": "code",
        "colab": {
          "base_uri": "https://localhost:8080/",
          "height": 592
        },
        "outputId": "26dec89f-e311-4b8b-c9ef-5b7b975a8a44"
      },
      "source": [
        "model = Sequential()\n",
        "model.add(Dense(32, input_shape=((64,64,1))))\n",
        "model.add(LeakyReLU(alpha=0.2))\n",
        "model.add(Dropout(0.6))\n",
        "\n",
        "model.add(Dense(64))\n",
        "model.add(BatchNormalization(momentum=0.8))\n",
        "model.add(LeakyReLU(alpha=0.2))\n",
        "model.add(Dropout(0.6))\n",
        "\n",
        "model.add(Flatten())\n",
        "\n",
        "model.add(Dense(512))\n",
        "model.add(Dropout(0.6))\n",
        "\n",
        "model.add(Dense(10, activation='softmax'))\n",
        "\n",
        "model.summary()"
      ],
      "execution_count": null,
      "outputs": [
        {
          "output_type": "stream",
          "text": [
            "WARNING:tensorflow:Large dropout rate: 0.6 (>0.5). In TensorFlow 2.x, dropout() uses dropout rate instead of keep_prob. Please ensure that this is intended.\n",
            "WARNING:tensorflow:Large dropout rate: 0.6 (>0.5). In TensorFlow 2.x, dropout() uses dropout rate instead of keep_prob. Please ensure that this is intended.\n",
            "Model: \"sequential_3\"\n",
            "_________________________________________________________________\n",
            "Layer (type)                 Output Shape              Param #   \n",
            "=================================================================\n",
            "dense_12 (Dense)             (None, 64, 64, 32)        64        \n",
            "_________________________________________________________________\n",
            "leaky_re_lu_10 (LeakyReLU)   (None, 64, 64, 32)        0         \n",
            "_________________________________________________________________\n",
            "dropout_7 (Dropout)          (None, 64, 64, 32)        0         \n",
            "_________________________________________________________________\n",
            "dense_13 (Dense)             (None, 64, 64, 64)        2112      \n",
            "_________________________________________________________________\n",
            "batch_normalization_7 (Batch (None, 64, 64, 64)        256       \n",
            "_________________________________________________________________\n",
            "leaky_re_lu_11 (LeakyReLU)   (None, 64, 64, 64)        0         \n",
            "_________________________________________________________________\n",
            "dropout_8 (Dropout)          (None, 64, 64, 64)        0         \n",
            "_________________________________________________________________\n",
            "flatten_4 (Flatten)          (None, 262144)            0         \n",
            "_________________________________________________________________\n",
            "dense_14 (Dense)             (None, 512)               134218240 \n",
            "_________________________________________________________________\n",
            "dropout_9 (Dropout)          (None, 512)               0         \n",
            "_________________________________________________________________\n",
            "dense_15 (Dense)             (None, 10)                5130      \n",
            "=================================================================\n",
            "Total params: 134,225,802\n",
            "Trainable params: 134,225,674\n",
            "Non-trainable params: 128\n",
            "_________________________________________________________________\n"
          ],
          "name": "stdout"
        }
      ]
    },
    {
      "cell_type": "code",
      "metadata": {
        "id": "LD5okg-xvrVy",
        "colab_type": "code",
        "colab": {}
      },
      "source": [
        "optimizer = Adam(lr=0.00001)\n",
        "model.compile(loss = 'categorical_crossentropy', optimizer=optimizer, metrics=['accuracy'])"
      ],
      "execution_count": null,
      "outputs": []
    },
    {
      "cell_type": "code",
      "metadata": {
        "id": "7CZ0OBFjPbg8",
        "colab_type": "code",
        "colab": {
          "base_uri": "https://localhost:8080/",
          "height": 401
        },
        "outputId": "9785b1ec-c3d9-4c98-d569-1deb6602c6dd"
      },
      "source": [
        "history = model.fit(X1_test, Y1_test, epochs=10, validation_data = (X1_train, Y1_train), shuffle = True, verbose = 1)"
      ],
      "execution_count": null,
      "outputs": [
        {
          "output_type": "stream",
          "text": [
            "Train on 3000 samples, validate on 1000 samples\n",
            "Epoch 1/10\n",
            "3000/3000 [==============================] - 5s 2ms/step - loss: 1.9171 - accuracy: 0.6180 - val_loss: 16.0506 - val_accuracy: 0.9710\n",
            "Epoch 2/10\n",
            "3000/3000 [==============================] - 5s 2ms/step - loss: 0.8955 - accuracy: 0.8203 - val_loss: 13.8128 - val_accuracy: 0.9770\n",
            "Epoch 3/10\n",
            "3000/3000 [==============================] - 5s 2ms/step - loss: 0.7149 - accuracy: 0.8530 - val_loss: 12.1296 - val_accuracy: 0.9730\n",
            "Epoch 4/10\n",
            "3000/3000 [==============================] - 5s 2ms/step - loss: 0.6221 - accuracy: 0.8750 - val_loss: 12.2170 - val_accuracy: 0.9770\n",
            "Epoch 5/10\n",
            "3000/3000 [==============================] - 5s 2ms/step - loss: 0.5307 - accuracy: 0.8860 - val_loss: 13.6962 - val_accuracy: 0.9810\n",
            "Epoch 6/10\n",
            "3000/3000 [==============================] - 5s 2ms/step - loss: 0.4530 - accuracy: 0.9020 - val_loss: 12.8204 - val_accuracy: 0.9780\n",
            "Epoch 7/10\n",
            "3000/3000 [==============================] - 5s 2ms/step - loss: 0.4586 - accuracy: 0.9037 - val_loss: 15.3814 - val_accuracy: 0.9820\n",
            "Epoch 8/10\n",
            "3000/3000 [==============================] - 5s 2ms/step - loss: 0.4186 - accuracy: 0.9100 - val_loss: 17.7007 - val_accuracy: 0.9810\n",
            "Epoch 9/10\n",
            "3000/3000 [==============================] - 5s 2ms/step - loss: 0.3351 - accuracy: 0.9240 - val_loss: 13.9081 - val_accuracy: 0.9820\n",
            "Epoch 10/10\n",
            "3000/3000 [==============================] - 5s 2ms/step - loss: 0.3564 - accuracy: 0.9180 - val_loss: 12.0384 - val_accuracy: 0.9800\n"
          ],
          "name": "stdout"
        }
      ]
    },
    {
      "cell_type": "code",
      "metadata": {
        "id": "XZN5WTrqIkjt",
        "colab_type": "code",
        "colab": {}
      },
      "source": [
        "#Plot the training history of the CNN\n",
        "import matplotlib.pyplot as plt\n",
        "acc = history.history['accuracy']\n",
        "val_acc = history.history['val_accuracy']\n",
        "loss = history.history['loss']\n",
        "val_loss = history.history['val_loss']\n",
        "\n",
        "epochs = range(len(acc))\n",
        "\n",
        "plt.plot(epochs, acc, 'r', label='Training accuracy')\n",
        "plt.plot(epochs, val_acc, 'b', label='Validation accuracy')\n",
        "plt.title('Training and validation accuracy')\n",
        "plt.legend(loc=0)\n",
        "plt.figure()\n",
        "plt.show()"
      ],
      "execution_count": null,
      "outputs": []
    },
    {
      "cell_type": "code",
      "metadata": {
        "id": "ME06iT-I-A4R",
        "colab_type": "code",
        "colab": {
          "base_uri": "https://localhost:8080/",
          "height": 52
        },
        "outputId": "ac5d1cb7-420a-442c-f7a1-b7937337041e"
      },
      "source": [
        "#Evalute the final accuracy of the CNN\n",
        "results = model.evaluate(x=X1_train, y= Y1_train, batch_size=64, verbose=1)\n",
        "print('Test Loss:', results[0],\"Test Accuracy:\", results[1]*100)"
      ],
      "execution_count": null,
      "outputs": [
        {
          "output_type": "stream",
          "text": [
            "1000/1000 [==============================] - 0s 180us/step\n",
            "Test Loss: 12.038420837402343 Test Accuracy: 98.00000190734863\n"
          ],
          "name": "stdout"
        }
      ]
    },
    {
      "cell_type": "code",
      "metadata": {
        "id": "zcrnxllAUXy_",
        "colab_type": "code",
        "colab": {
          "base_uri": "https://localhost:8080/",
          "height": 404
        },
        "outputId": "95e90662-63d6-43fb-a09d-2914eb240f5d"
      },
      "source": [
        "#Display the confusion matrix\n",
        "def show_confusion_matrix(validations, predictions):\n",
        "\n",
        "    matrix = metrics.confusion_matrix(validations, predictions)\n",
        "    plt.figure(figsize=(9, 6))\n",
        "    sns.heatmap(matrix,\n",
        "                cmap='coolwarm',\n",
        "                linecolor='white',\n",
        "                linewidths=1,\n",
        "                xticklabels=Labels,\n",
        "                yticklabels=Labels,\n",
        "                annot=True,\n",
        "                fmt='d')\n",
        "    plt.title('Confusion Matrix')\n",
        "    plt.ylabel('True Label')\n",
        "    plt.xlabel('Predicted Label')\n",
        "    plt.show()\n",
        "\n",
        "y_pred_test = model.predict(X1_test)\n",
        "# Take the class with the highest probability from the test predictions\n",
        "max_y_pred_test = np.argmax(y_pred_test, axis=1)\n",
        "max_y_test = np.argmax(Y1_test, axis=1)\n",
        "\n",
        "show_confusion_matrix(max_y_test, max_y_pred_test)"
      ],
      "execution_count": null,
      "outputs": [
        {
          "output_type": "display_data",
          "data": {
            "image/png": "[encoded data removed]",
            "text/plain": [
              "<Figure size 648x432 with 2 Axes>"
            ]
          },
          "metadata": {
            "tags": [],
            "needs_background": "light"
          }
        }
      ]
    }
  ]
}