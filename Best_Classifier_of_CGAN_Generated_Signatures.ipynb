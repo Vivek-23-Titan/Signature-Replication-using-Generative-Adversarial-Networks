{
  "nbformat": 4,
  "nbformat_minor": 0,
  "metadata": {
    "colab": {
      "name": "Best Classifier of CGAN Generated_Signatures.ipynb",
      "provenance": [],
      "collapsed_sections": [],
      "toc_visible": true,
      "authorship_tag": "ABX9TyPir0cWkxIPlpKI5HVLZytY",
      "include_colab_link": true
    },
    "kernelspec": {
      "name": "python3",
      "display_name": "Python 3"
    },
    "accelerator": "GPU"
  },
  "cells": [
    {
      "cell_type": "markdown",
      "metadata": {
        "id": "view-in-github",
        "colab_type": "text"
      },
      "source": [
        "<a href=\"https://colab.research.google.com/github/Vivek-23-Titan/Signature-Replication-using-Generative-Adversarial-Networks/blob/master/Best_Classifier_of_CGAN_Generated_Signatures.ipynb\" target=\"_parent\"><img src=\"https://colab.research.google.com/assets/colab-badge.svg\" alt=\"Open In Colab\"/></a>"
      ]
    },
    {
      "cell_type": "markdown",
      "metadata": {
        "id": "nzdg_1WB5YgF"
      },
      "source": [
        "##**Import Libraries**##"
      ]
    },
    {
      "cell_type": "code",
      "metadata": {
        "id": "3XM6ZBcgNEKQ",
        "colab": {
          "base_uri": "https://localhost:8080/"
        },
        "outputId": "65d74b32-40b9-4bf9-882d-a58e09ade53a"
      },
      "source": [
        "from __future__ import print_function\n",
        "import tensorflow as tf\n",
        "print(tf.__version__)\n",
        "\n",
        "import keras\n",
        "from keras.models import Sequential\n",
        "from keras.layers import Input, Dense, LeakyReLU, BatchNormalization, ReLU, Dropout, ReLU\n",
        "from keras.layers import Conv2D, Reshape, Flatten, Activation\n",
        "from keras.layers.merge import concatenate\n",
        "from keras.optimizers import Adam\n",
        "from keras import initializers\n",
        "from keras.utils import plot_model, np_utils, to_categorical\n",
        "from keras import backend as K\n",
        "\n",
        "import numpy as np\n",
        "import matplotlib.pyplot as plt\n",
        "%matplotlib inline\n",
        "\n",
        "import matplotlib.cm as cm\n",
        "from sklearn import metrics\n",
        "from sklearn.metrics import classification_report\n",
        "from sklearn import preprocessing\n",
        "import seaborn as sns"
      ],
      "execution_count": 1,
      "outputs": [
        {
          "output_type": "stream",
          "text": [
            "2.4.0\n"
          ],
          "name": "stdout"
        }
      ]
    },
    {
      "cell_type": "code",
      "metadata": {
        "id": "PIt_E9gZNLbj",
        "colab": {
          "base_uri": "https://localhost:8080/"
        },
        "outputId": "6d8de77c-6a0b-4543-b3d2-e7547f1a34d7"
      },
      "source": [
        "from google.colab import drive\n",
        "drive.mount('/content/drive')"
      ],
      "execution_count": 2,
      "outputs": [
        {
          "output_type": "stream",
          "text": [
            "Mounted at /content/drive\n"
          ],
          "name": "stdout"
        }
      ]
    },
    {
      "cell_type": "markdown",
      "metadata": {
        "id": "9hM7XKVg5jlU"
      },
      "source": [
        "##**Load the Dataset from Drive**##"
      ]
    },
    {
      "cell_type": "code",
      "metadata": {
        "id": "w2rDxW5aa1O3"
      },
      "source": [
        "!cp \"/content/drive/MyDrive/My Segmented Signatures/Original_Images_Folder.zip\" /content/"
      ],
      "execution_count": 3,
      "outputs": []
    },
    {
      "cell_type": "code",
      "metadata": {
        "id": "toSNfUc0ckdf"
      },
      "source": [
        "from zipfile import ZipFile\r\n",
        "with ZipFile('/content/Original_Images_Folder.zip', 'r') as zip:\r\n",
        "  zip.extractall()"
      ],
      "execution_count": 4,
      "outputs": []
    },
    {
      "cell_type": "code",
      "metadata": {
        "id": "xrNTpxK4SJ_j"
      },
      "source": [
        "import glob\n",
        "import cv2\n",
        "import PIL\n",
        "from PIL import ImageOps\n",
        "\n",
        "path = glob.glob(r\"/content/X_train/amit/*.PNG\")\n",
        "X_train1 = []\n",
        "Y_train1 = []\n",
        "dim = (64,64) # (width = cols, height = rows)\n",
        "\n",
        "for img in path:\n",
        "    n = cv2.imread(img,0)    \n",
        "    resized = cv2.resize(n, dim)\n",
        "    (thresh, im_bw) = cv2.threshold(resized, 128, 255, cv2.THRESH_BINARY | cv2.THRESH_OTSU)\n",
        "    im_bw = cv2.bitwise_not(im_bw)\n",
        "    X_train1.append(im_bw)\n",
        "    Y_train1.append([0])\n",
        "\n",
        "Y_train1 = np.array(Y_train1)"
      ],
      "execution_count": 11,
      "outputs": []
    },
    {
      "cell_type": "code",
      "metadata": {
        "id": "jicLaNcSUHIu"
      },
      "source": [
        "path = glob.glob(r\"/content/X_train/aswal/*.PNG\")\n",
        "X_train2 = []\n",
        "Y_train2 = []\n",
        "\n",
        "for img in path:\n",
        "    n = cv2.imread(img,0)    \n",
        "    resized = cv2.resize(n, dim)\n",
        "    (thresh, im_bw) = cv2.threshold(resized, 128, 255, cv2.THRESH_BINARY | cv2.THRESH_OTSU)\n",
        "    im_bw = cv2.bitwise_not(im_bw)\n",
        "    X_train2.append(im_bw)\n",
        "    Y_train2.append([1])\n",
        "\n",
        "Y_train2 = np.array(Y_train2)"
      ],
      "execution_count": 22,
      "outputs": []
    },
    {
      "cell_type": "code",
      "metadata": {
        "id": "1AGx1MVBUMkk"
      },
      "source": [
        "path = glob.glob(r\"/content/X_train/daniel/*.PNG\")\n",
        "X_train3 = []\n",
        "Y_train3 = []\n",
        "\n",
        "for img in path:\n",
        "    n = cv2.imread(img,0)    \n",
        "    resized = cv2.resize(n, dim)\n",
        "    (thresh, im_bw) = cv2.threshold(resized, 128, 255, cv2.THRESH_BINARY | cv2.THRESH_OTSU)\n",
        "    im_bw = cv2.bitwise_not(im_bw)\n",
        "    X_train3.append(im_bw)\n",
        "    Y_train3.append([2])\n",
        "\n",
        "Y_train3 = np.array(Y_train3)"
      ],
      "execution_count": 13,
      "outputs": []
    },
    {
      "cell_type": "code",
      "metadata": {
        "id": "IjRestUGUNP4"
      },
      "source": [
        "path = glob.glob(r\"/content/X_train/john/*.PNG\")\n",
        "X_train4 = []\n",
        "Y_train4 = []\n",
        "\n",
        "for img in path:\n",
        "    n = cv2.imread(img,0)    \n",
        "    resized = cv2.resize(n, dim)\n",
        "    (thresh, im_bw) = cv2.threshold(resized, 128, 255, cv2.THRESH_BINARY | cv2.THRESH_OTSU)\n",
        "    im_bw = cv2.bitwise_not(im_bw)\n",
        "    X_train4.append(im_bw)\n",
        "    Y_train4.append([3])\n",
        "\n",
        "Y_train4 = np.array(Y_train4)"
      ],
      "execution_count": 14,
      "outputs": []
    },
    {
      "cell_type": "code",
      "metadata": {
        "id": "Ab4T5ddfUN21"
      },
      "source": [
        "path = glob.glob(r\"/content/X_train/kevin/*.PNG\")\n",
        "X_train5 = []\n",
        "Y_train5 = []\n",
        "\n",
        "for img in path:\n",
        "    n = cv2.imread(img,0)    \n",
        "    resized = cv2.resize(n, dim)\n",
        "    (thresh, im_bw) = cv2.threshold(resized, 128, 255, cv2.THRESH_BINARY | cv2.THRESH_OTSU)\n",
        "    im_bw = cv2.bitwise_not(im_bw)\n",
        "    X_train5.append(im_bw)\n",
        "    Y_train5.append([4])\n",
        "\n",
        "Y_train5 = np.array(Y_train5)"
      ],
      "execution_count": 15,
      "outputs": []
    },
    {
      "cell_type": "code",
      "metadata": {
        "id": "KxIQeYC8UOzF"
      },
      "source": [
        "path = glob.glob(r\"/content/X_train/lalita/*.PNG\")\n",
        "X_train6 = []\n",
        "Y_train6 = []\n",
        "\n",
        "for img in path:\n",
        "    n = cv2.imread(img,0)    \n",
        "    resized = cv2.resize(n, dim)\n",
        "    (thresh, im_bw) = cv2.threshold(resized, 128, 255, cv2.THRESH_BINARY | cv2.THRESH_OTSU)\n",
        "    im_bw = cv2.bitwise_not(im_bw)\n",
        "    X_train6.append(im_bw)\n",
        "    Y_train6.append([5])\n",
        "\n",
        "Y_train6 = np.array(Y_train6)"
      ],
      "execution_count": 16,
      "outputs": []
    },
    {
      "cell_type": "code",
      "metadata": {
        "id": "16d-PjWTUQCp"
      },
      "source": [
        "path = glob.glob(r\"/content/X_train/ram/*.PNG\")\n",
        "X_train7 = []\n",
        "Y_train7 = []\n",
        "\n",
        "for img in path:\n",
        "    n = cv2.imread(img,0)    \n",
        "    resized = cv2.resize(n, dim)\n",
        "    (thresh, im_bw) = cv2.threshold(resized, 128, 255, cv2.THRESH_BINARY | cv2.THRESH_OTSU)\n",
        "    im_bw = cv2.bitwise_not(im_bw)\n",
        "    X_train7.append(im_bw)\n",
        "    Y_train7.append([6])\n",
        "\n",
        "Y_train7 = np.array(Y_train7)"
      ],
      "execution_count": 17,
      "outputs": []
    },
    {
      "cell_type": "code",
      "metadata": {
        "id": "5Md2RIyNUQ2v"
      },
      "source": [
        "path = glob.glob(r\"/content/X_train/sancho/*.PNG\")\n",
        "X_train8 = []\n",
        "Y_train8 = []\n",
        "\n",
        "for img in path:\n",
        "    n = cv2.imread(img,0)    \n",
        "    resized = cv2.resize(n, dim)\n",
        "    (thresh, im_bw) = cv2.threshold(resized, 128, 255, cv2.THRESH_BINARY | cv2.THRESH_OTSU)\n",
        "    im_bw = cv2.bitwise_not(im_bw)\n",
        "    X_train8.append(im_bw)\n",
        "    Y_train8.append([7])\n",
        "\n",
        "Y_train8 = np.array(Y_train8)"
      ],
      "execution_count": 18,
      "outputs": []
    },
    {
      "cell_type": "code",
      "metadata": {
        "id": "VuxvUQDqURd2"
      },
      "source": [
        "path = glob.glob(r\"/content/X_train/vinod/*.PNG\")\n",
        "X_train9 = []\n",
        "Y_train9 = []\n",
        "\n",
        "for img in path:\n",
        "    n = cv2.imread(img,0)    \n",
        "    resized = cv2.resize(n, dim)\n",
        "    (thresh, im_bw) = cv2.threshold(resized, 128, 255, cv2.THRESH_BINARY | cv2.THRESH_OTSU)\n",
        "    im_bw = cv2.bitwise_not(im_bw)\n",
        "    X_train9.append(im_bw)\n",
        "    Y_train9.append([8])\n",
        "\n",
        "Y_train9 = np.array(Y_train9)"
      ],
      "execution_count": 19,
      "outputs": []
    },
    {
      "cell_type": "code",
      "metadata": {
        "id": "bV3RwWwvUSS8"
      },
      "source": [
        "path = glob.glob(r\"/content/X_train/vivek/*.PNG\")\n",
        "X_train10 = []\n",
        "Y_train10 = []\n",
        "\n",
        "for img in path:\n",
        "    n = cv2.imread(img,0)    \n",
        "    resized = cv2.resize(n, dim)\n",
        "    (thresh, im_bw) = cv2.threshold(resized, 128, 255, cv2.THRESH_BINARY | cv2.THRESH_OTSU)\n",
        "    im_bw = cv2.bitwise_not(im_bw)\n",
        "    X_train10.append(im_bw)\n",
        "    Y_train10.append([9])\n",
        "\n",
        "Y_train10 = np.array(Y_train10)"
      ],
      "execution_count": 20,
      "outputs": []
    },
    {
      "cell_type": "code",
      "metadata": {
        "id": "wCbDnoNCWiCP",
        "colab": {
          "base_uri": "https://localhost:8080/"
        },
        "outputId": "aa1cb718-8cb5-4e98-9538-817d70c40617"
      },
      "source": [
        "#Compile all the classes to form the training dataset\n",
        "X_train = np.concatenate([X_train1,X_train2,X_train3,X_train4,X_train5,X_train6,X_train7,X_train8,X_train9,X_train10])\n",
        "Y_train = np.concatenate([Y_train1,Y_train2,Y_train3,Y_train4,Y_train5,Y_train6,Y_train7,Y_train8,Y_train9,Y_train10])\n",
        "\n",
        "X_train = np.array(X_train)\n",
        "Y_train = np.array(Y_train)\n",
        "\n",
        "X = X_train\n",
        "Y = Y_train\n",
        "print(X_train.shape)\n",
        "print(Y_train.shape)"
      ],
      "execution_count": 23,
      "outputs": [
        {
          "output_type": "stream",
          "text": [
            "(1000, 64, 64)\n",
            "(1000, 1)\n"
          ],
          "name": "stdout"
        }
      ]
    },
    {
      "cell_type": "code",
      "metadata": {
        "id": "OikY9CAv0kX9"
      },
      "source": [
        "for i in range(0, 1000, 50):\r\n",
        "  plt.imshow(np.squeeze(X_train[i]))\r\n",
        "  plt.show()\r\n",
        "  print(Y_train1[i])"
      ],
      "execution_count": null,
      "outputs": []
    },
    {
      "cell_type": "markdown",
      "metadata": {
        "id": "V0PbISifp1RC"
      },
      "source": [
        "##**Test Dataset**##"
      ]
    },
    {
      "cell_type": "code",
      "metadata": {
        "id": "SPxizvTygSwy"
      },
      "source": [
        "!cp \"/content/drive/MyDrive/My Segmented Signatures/New_Generated_Signatures.zip\" /content/"
      ],
      "execution_count": 24,
      "outputs": []
    },
    {
      "cell_type": "code",
      "metadata": {
        "id": "m02B5G-tgvAw"
      },
      "source": [
        "with ZipFile('/content/New_Generated_Signatures.zip', 'r') as zip:\r\n",
        "  zip.extractall()"
      ],
      "execution_count": 25,
      "outputs": []
    },
    {
      "cell_type": "code",
      "metadata": {
        "colab": {
          "base_uri": "https://localhost:8080/"
        },
        "id": "IZOWrOEvxCmA",
        "outputId": "ee7f95d7-5792-4d85-dd6e-125215719b42"
      },
      "source": [
        "X1_test = []\r\n",
        "for i in range(3000):\r\n",
        "    path = glob.glob(r\"/content/New_Generated_Signatures/\" + str(i) + \".png\")\r\n",
        "    n = cv2.imread(path[0], 0)\r\n",
        "    X1_test.append(n)\r\n",
        "\r\n",
        "X1_test = np.array(X1_test)\r\n",
        "X1_test = np.expand_dims(X1_test, -1)\r\n",
        "print(X1_test.shape)"
      ],
      "execution_count": 27,
      "outputs": [
        {
          "output_type": "stream",
          "text": [
            "(3000, 64, 64, 1)\n"
          ],
          "name": "stdout"
        }
      ]
    },
    {
      "cell_type": "code",
      "metadata": {
        "id": "bCdm33g-pWJO",
        "colab": {
          "base_uri": "https://localhost:8080/"
        },
        "outputId": "cfcfccd5-a7af-486a-ab56-8ce7bf3d2360"
      },
      "source": [
        "Y1_test = []\n",
        "for i in range(len(X1_test)):\n",
        "  Y1_test.append([(i%10)])\n",
        "Y1_test = np.array(Y1_test)\n",
        "print(Y1_test.shape)"
      ],
      "execution_count": 28,
      "outputs": [
        {
          "output_type": "stream",
          "text": [
            "(3000, 1)\n"
          ],
          "name": "stdout"
        }
      ]
    },
    {
      "cell_type": "code",
      "metadata": {
        "id": "udzTedH6ue3b"
      },
      "source": [
        "X1_train = np.expand_dims(X_train, -1)"
      ],
      "execution_count": 29,
      "outputs": []
    },
    {
      "cell_type": "code",
      "metadata": {
        "id": "1st6KvFp5l3T"
      },
      "source": [
        "#One hot encoding\n",
        "from keras.utils import to_categorical\n",
        "\n",
        "Y_train1 = to_categorical(Y_train)\n",
        "Y_test1 = to_categorical(Y1_test)"
      ],
      "execution_count": 30,
      "outputs": []
    },
    {
      "cell_type": "code",
      "metadata": {
        "id": "N9D4zuGS5tVq",
        "colab": {
          "base_uri": "https://localhost:8080/"
        },
        "outputId": "455a052b-b6ed-454c-b8a7-cbd29e78d5a1"
      },
      "source": [
        "print(X1_train.shape, X1_test.shape)\n",
        "print(Y_train1.shape, Y_test1.shape)"
      ],
      "execution_count": 31,
      "outputs": [
        {
          "output_type": "stream",
          "text": [
            "(1000, 64, 64, 1) (3000, 64, 64, 1)\n",
            "(1000, 10) (3000, 10)\n"
          ],
          "name": "stdout"
        }
      ]
    },
    {
      "cell_type": "code",
      "metadata": {
        "id": "p85Uz9Pan-1t"
      },
      "source": [
        "#Shuffle\r\n",
        "from sklearn.utils import shuffle\r\n",
        "for i in range(100):\r\n",
        "  X1_train, Y_train1 = shuffle(X1_train, Y_train1, random_state=0)\r\n",
        "  X1_test, Y_test1 = shuffle(X1_test, Y_test1, random_state=0)"
      ],
      "execution_count": 52,
      "outputs": []
    },
    {
      "cell_type": "markdown",
      "metadata": {
        "id": "i6ZCTxL_6Jqf"
      },
      "source": [
        "##**Convolutional Classifier Model**##"
      ]
    },
    {
      "cell_type": "code",
      "metadata": {
        "id": "mPRU6iRcy35Z"
      },
      "source": [
        "model = Sequential()\n",
        "\n",
        "model.add(Conv2D(32, kernel_size=5, strides=2, input_shape=((64,64, 1)), padding=\"same\"))\n",
        "model.add(LeakyReLU(alpha=0.2))\n",
        "model.add(Dropout(0.3))\n",
        "model.add(Conv2D(64, kernel_size=5, strides=2, padding=\"same\"))\n",
        "model.add(BatchNormalization(momentum=0.8))\n",
        "model.add(LeakyReLU(alpha=0.2))\n",
        "model.add(Dropout(0.3))\n",
        "model.add(Conv2D(64, kernel_size=5, strides=2, padding=\"same\"))\n",
        "model.add(BatchNormalization(momentum=0.8))\n",
        "model.add(LeakyReLU(alpha=0.2))\n",
        "model.add(Dropout(0.3))\n",
        "model.add(Conv2D(128, kernel_size=3, strides=2, padding=\"same\"))\n",
        "model.add(BatchNormalization(momentum=0.8))\n",
        "model.add(LeakyReLU(alpha=0.2))\n",
        "model.add(Dropout(0.3))\n",
        "model.add(Conv2D(128, kernel_size=3, strides=2, padding=\"same\"))\n",
        "model.add(BatchNormalization(momentum=0.8))\n",
        "model.add(LeakyReLU(alpha=0.2))\n",
        "model.add(Dropout(0.3))\n",
        "model.add(Conv2D(256, kernel_size=3, strides=2, padding=\"same\"))\n",
        "model.add(BatchNormalization(momentum=0.8))\n",
        "model.add(LeakyReLU(alpha=0.2))\n",
        "model.add(Dropout(0.3))\n",
        "model.add(Conv2D(512, kernel_size=3, strides=2, padding=\"same\"))\n",
        "model.add(BatchNormalization(momentum=0.8))\n",
        "model.add(LeakyReLU(alpha=0.2))\n",
        "model.add(Dropout(0.3))\n",
        "\n",
        "model.add(Flatten())\n",
        "model.add(Dense(512))\n",
        "model.add(LeakyReLU(alpha=0.2))\n",
        "model.add(Dropout(0.2))\n",
        "model.add(Dense(10, activation='softmax'))\n",
        "\n",
        "#model.summary()"
      ],
      "execution_count": 66,
      "outputs": []
    },
    {
      "cell_type": "code",
      "metadata": {
        "id": "ke2VxBkjy_mK"
      },
      "source": [
        "optimizer = Adam(lr=0.00011)\n",
        "model.compile(loss = 'categorical_crossentropy', optimizer=optimizer, metrics=['accuracy'])"
      ],
      "execution_count": 67,
      "outputs": []
    },
    {
      "cell_type": "code",
      "metadata": {
        "colab": {
          "base_uri": "https://localhost:8080/"
        },
        "id": "VcM4oq1kxxFO",
        "outputId": "b6ece23a-7d29-4c89-b9b3-4673ea3608ea"
      },
      "source": [
        "history = model.fit(X1_train, Y_train1, batch_size = 100, epochs=100, validation_data = (X1_test, Y_test1), shuffle = True, verbose = 1)"
      ],
      "execution_count": 55,
      "outputs": [
        {
          "output_type": "stream",
          "text": [
            "Epoch 1/100\n",
            "10/10 [==============================] - 2s 66ms/step - loss: 2.6261 - accuracy: 0.1022 - val_loss: 2.2552 - val_accuracy: 0.2167\n",
            "Epoch 2/100\n",
            "10/10 [==============================] - 0s 33ms/step - loss: 2.3642 - accuracy: 0.1490 - val_loss: 2.1015 - val_accuracy: 0.3597\n",
            "Epoch 3/100\n",
            "10/10 [==============================] - 0s 33ms/step - loss: 2.2421 - accuracy: 0.1950 - val_loss: 1.9486 - val_accuracy: 0.3737\n",
            "Epoch 4/100\n",
            "10/10 [==============================] - 0s 34ms/step - loss: 2.1394 - accuracy: 0.2185 - val_loss: 1.7902 - val_accuracy: 0.4030\n",
            "Epoch 5/100\n",
            "10/10 [==============================] - 0s 34ms/step - loss: 1.9808 - accuracy: 0.2820 - val_loss: 1.6261 - val_accuracy: 0.3967\n",
            "Epoch 6/100\n",
            "10/10 [==============================] - 0s 33ms/step - loss: 1.7723 - accuracy: 0.3404 - val_loss: 1.4613 - val_accuracy: 0.4657\n",
            "Epoch 7/100\n",
            "10/10 [==============================] - 0s 34ms/step - loss: 1.5681 - accuracy: 0.4267 - val_loss: 1.3031 - val_accuracy: 0.5353\n",
            "Epoch 8/100\n",
            "10/10 [==============================] - 0s 33ms/step - loss: 1.4577 - accuracy: 0.4477 - val_loss: 1.1861 - val_accuracy: 0.5687\n",
            "Epoch 9/100\n",
            "10/10 [==============================] - 0s 33ms/step - loss: 1.3650 - accuracy: 0.5126 - val_loss: 1.0424 - val_accuracy: 0.6413\n",
            "Epoch 10/100\n",
            "10/10 [==============================] - 0s 33ms/step - loss: 1.1712 - accuracy: 0.5840 - val_loss: 0.8555 - val_accuracy: 0.7193\n",
            "Epoch 11/100\n",
            "10/10 [==============================] - 0s 33ms/step - loss: 1.0107 - accuracy: 0.6449 - val_loss: 0.7264 - val_accuracy: 0.7623\n",
            "Epoch 12/100\n",
            "10/10 [==============================] - 0s 33ms/step - loss: 0.9017 - accuracy: 0.6836 - val_loss: 0.6522 - val_accuracy: 0.7633\n",
            "Epoch 13/100\n",
            "10/10 [==============================] - 0s 33ms/step - loss: 0.7867 - accuracy: 0.7339 - val_loss: 0.5309 - val_accuracy: 0.8183\n",
            "Epoch 14/100\n",
            "10/10 [==============================] - 0s 32ms/step - loss: 0.7203 - accuracy: 0.7605 - val_loss: 0.4547 - val_accuracy: 0.8357\n",
            "Epoch 15/100\n",
            "10/10 [==============================] - 0s 33ms/step - loss: 0.6424 - accuracy: 0.7784 - val_loss: 0.3334 - val_accuracy: 0.9010\n",
            "Epoch 16/100\n",
            "10/10 [==============================] - 0s 32ms/step - loss: 0.5250 - accuracy: 0.8312 - val_loss: 0.3001 - val_accuracy: 0.9053\n",
            "Epoch 17/100\n",
            "10/10 [==============================] - 0s 33ms/step - loss: 0.4991 - accuracy: 0.8391 - val_loss: 0.2524 - val_accuracy: 0.9190\n",
            "Epoch 18/100\n",
            "10/10 [==============================] - 0s 33ms/step - loss: 0.4152 - accuracy: 0.8735 - val_loss: 0.1944 - val_accuracy: 0.9520\n",
            "Epoch 19/100\n",
            "10/10 [==============================] - 0s 33ms/step - loss: 0.3830 - accuracy: 0.9116 - val_loss: 0.1678 - val_accuracy: 0.9670\n",
            "Epoch 20/100\n",
            "10/10 [==============================] - 0s 34ms/step - loss: 0.2910 - accuracy: 0.9202 - val_loss: 0.1259 - val_accuracy: 0.9777\n",
            "Epoch 21/100\n",
            "10/10 [==============================] - 0s 33ms/step - loss: 0.3148 - accuracy: 0.9042 - val_loss: 0.0994 - val_accuracy: 0.9837\n",
            "Epoch 22/100\n",
            "10/10 [==============================] - 0s 32ms/step - loss: 0.2890 - accuracy: 0.9196 - val_loss: 0.1044 - val_accuracy: 0.9763\n",
            "Epoch 23/100\n",
            "10/10 [==============================] - 0s 33ms/step - loss: 0.2682 - accuracy: 0.9173 - val_loss: 0.0840 - val_accuracy: 0.9853\n",
            "Epoch 24/100\n",
            "10/10 [==============================] - 0s 33ms/step - loss: 0.2446 - accuracy: 0.9243 - val_loss: 0.0665 - val_accuracy: 0.9903\n",
            "Epoch 25/100\n",
            "10/10 [==============================] - 0s 34ms/step - loss: 0.2449 - accuracy: 0.9185 - val_loss: 0.0575 - val_accuracy: 0.9907\n",
            "Epoch 26/100\n",
            "10/10 [==============================] - 0s 33ms/step - loss: 0.1968 - accuracy: 0.9562 - val_loss: 0.0442 - val_accuracy: 0.9947\n",
            "Epoch 27/100\n",
            "10/10 [==============================] - 0s 35ms/step - loss: 0.1990 - accuracy: 0.9315 - val_loss: 0.0350 - val_accuracy: 0.9970\n",
            "Epoch 28/100\n",
            "10/10 [==============================] - 0s 33ms/step - loss: 0.1399 - accuracy: 0.9616 - val_loss: 0.0305 - val_accuracy: 0.9980\n",
            "Epoch 29/100\n",
            "10/10 [==============================] - 0s 33ms/step - loss: 0.1532 - accuracy: 0.9586 - val_loss: 0.0269 - val_accuracy: 0.9983\n",
            "Epoch 30/100\n",
            "10/10 [==============================] - 0s 34ms/step - loss: 0.1304 - accuracy: 0.9689 - val_loss: 0.0238 - val_accuracy: 0.9980\n",
            "Epoch 31/100\n",
            "10/10 [==============================] - 0s 34ms/step - loss: 0.1221 - accuracy: 0.9662 - val_loss: 0.0201 - val_accuracy: 0.9983\n",
            "Epoch 32/100\n",
            "10/10 [==============================] - 0s 34ms/step - loss: 0.1149 - accuracy: 0.9754 - val_loss: 0.0177 - val_accuracy: 0.9987\n",
            "Epoch 33/100\n",
            "10/10 [==============================] - 0s 34ms/step - loss: 0.1032 - accuracy: 0.9713 - val_loss: 0.0158 - val_accuracy: 0.9990\n",
            "Epoch 34/100\n",
            "10/10 [==============================] - 0s 34ms/step - loss: 0.1065 - accuracy: 0.9718 - val_loss: 0.0170 - val_accuracy: 0.9987\n",
            "Epoch 35/100\n",
            "10/10 [==============================] - 0s 34ms/step - loss: 0.1295 - accuracy: 0.9611 - val_loss: 0.0122 - val_accuracy: 0.9993\n",
            "Epoch 36/100\n",
            "10/10 [==============================] - 0s 34ms/step - loss: 0.1019 - accuracy: 0.9686 - val_loss: 0.0113 - val_accuracy: 0.9993\n",
            "Epoch 37/100\n",
            "10/10 [==============================] - 0s 34ms/step - loss: 0.0761 - accuracy: 0.9807 - val_loss: 0.0112 - val_accuracy: 0.9990\n",
            "Epoch 38/100\n",
            "10/10 [==============================] - 0s 34ms/step - loss: 0.0767 - accuracy: 0.9800 - val_loss: 0.0099 - val_accuracy: 0.9997\n",
            "Epoch 39/100\n",
            "10/10 [==============================] - 0s 34ms/step - loss: 0.0993 - accuracy: 0.9689 - val_loss: 0.0090 - val_accuracy: 0.9997\n",
            "Epoch 40/100\n",
            "10/10 [==============================] - 0s 34ms/step - loss: 0.0707 - accuracy: 0.9777 - val_loss: 0.0081 - val_accuracy: 1.0000\n",
            "Epoch 41/100\n",
            "10/10 [==============================] - 0s 48ms/step - loss: 0.1033 - accuracy: 0.9707 - val_loss: 0.0085 - val_accuracy: 0.9997\n",
            "Epoch 42/100\n",
            "10/10 [==============================] - 0s 34ms/step - loss: 0.0672 - accuracy: 0.9791 - val_loss: 0.0071 - val_accuracy: 0.9997\n",
            "Epoch 43/100\n",
            "10/10 [==============================] - 0s 33ms/step - loss: 0.0552 - accuracy: 0.9815 - val_loss: 0.0076 - val_accuracy: 1.0000\n",
            "Epoch 44/100\n",
            "10/10 [==============================] - 0s 33ms/step - loss: 0.0589 - accuracy: 0.9844 - val_loss: 0.0074 - val_accuracy: 0.9993\n",
            "Epoch 45/100\n",
            "10/10 [==============================] - 0s 33ms/step - loss: 0.0665 - accuracy: 0.9860 - val_loss: 0.0070 - val_accuracy: 0.9997\n",
            "Epoch 46/100\n",
            "10/10 [==============================] - 0s 33ms/step - loss: 0.0612 - accuracy: 0.9849 - val_loss: 0.0056 - val_accuracy: 1.0000\n",
            "Epoch 47/100\n",
            "10/10 [==============================] - 0s 34ms/step - loss: 0.0823 - accuracy: 0.9698 - val_loss: 0.0059 - val_accuracy: 1.0000\n",
            "Epoch 48/100\n",
            "10/10 [==============================] - 0s 33ms/step - loss: 0.0505 - accuracy: 0.9840 - val_loss: 0.0065 - val_accuracy: 1.0000\n",
            "Epoch 49/100\n",
            "10/10 [==============================] - 0s 33ms/step - loss: 0.0542 - accuracy: 0.9842 - val_loss: 0.0053 - val_accuracy: 1.0000\n",
            "Epoch 50/100\n",
            "10/10 [==============================] - 0s 34ms/step - loss: 0.0344 - accuracy: 0.9958 - val_loss: 0.0045 - val_accuracy: 1.0000\n",
            "Epoch 51/100\n",
            "10/10 [==============================] - 0s 33ms/step - loss: 0.0461 - accuracy: 0.9842 - val_loss: 0.0036 - val_accuracy: 1.0000\n",
            "Epoch 52/100\n",
            "10/10 [==============================] - 0s 33ms/step - loss: 0.0339 - accuracy: 0.9951 - val_loss: 0.0032 - val_accuracy: 1.0000\n",
            "Epoch 53/100\n",
            "10/10 [==============================] - 0s 33ms/step - loss: 0.0332 - accuracy: 0.9908 - val_loss: 0.0033 - val_accuracy: 1.0000\n",
            "Epoch 54/100\n",
            "10/10 [==============================] - 0s 33ms/step - loss: 0.0405 - accuracy: 0.9898 - val_loss: 0.0033 - val_accuracy: 1.0000\n",
            "Epoch 55/100\n",
            "10/10 [==============================] - 0s 33ms/step - loss: 0.0382 - accuracy: 0.9896 - val_loss: 0.0038 - val_accuracy: 1.0000\n",
            "Epoch 56/100\n",
            "10/10 [==============================] - 0s 34ms/step - loss: 0.0360 - accuracy: 0.9939 - val_loss: 0.0033 - val_accuracy: 1.0000\n",
            "Epoch 57/100\n",
            "10/10 [==============================] - 0s 34ms/step - loss: 0.0228 - accuracy: 0.9954 - val_loss: 0.0035 - val_accuracy: 1.0000\n",
            "Epoch 58/100\n",
            "10/10 [==============================] - 0s 34ms/step - loss: 0.0304 - accuracy: 0.9917 - val_loss: 0.0033 - val_accuracy: 1.0000\n",
            "Epoch 59/100\n",
            "10/10 [==============================] - 0s 34ms/step - loss: 0.0444 - accuracy: 0.9887 - val_loss: 0.0027 - val_accuracy: 1.0000\n",
            "Epoch 60/100\n",
            "10/10 [==============================] - 0s 33ms/step - loss: 0.0280 - accuracy: 0.9947 - val_loss: 0.0025 - val_accuracy: 1.0000\n",
            "Epoch 61/100\n",
            "10/10 [==============================] - 0s 33ms/step - loss: 0.0366 - accuracy: 0.9918 - val_loss: 0.0024 - val_accuracy: 1.0000\n",
            "Epoch 62/100\n",
            "10/10 [==============================] - 0s 33ms/step - loss: 0.0299 - accuracy: 0.9941 - val_loss: 0.0019 - val_accuracy: 1.0000\n",
            "Epoch 63/100\n",
            "10/10 [==============================] - 0s 34ms/step - loss: 0.0194 - accuracy: 0.9986 - val_loss: 0.0023 - val_accuracy: 1.0000\n",
            "Epoch 64/100\n",
            "10/10 [==============================] - 0s 36ms/step - loss: 0.0245 - accuracy: 0.9931 - val_loss: 0.0021 - val_accuracy: 1.0000\n",
            "Epoch 65/100\n",
            "10/10 [==============================] - 0s 34ms/step - loss: 0.0297 - accuracy: 0.9903 - val_loss: 0.0019 - val_accuracy: 1.0000\n",
            "Epoch 66/100\n",
            "10/10 [==============================] - 0s 34ms/step - loss: 0.0191 - accuracy: 0.9938 - val_loss: 0.0019 - val_accuracy: 1.0000\n",
            "Epoch 67/100\n",
            "10/10 [==============================] - 0s 35ms/step - loss: 0.0255 - accuracy: 0.9914 - val_loss: 0.0018 - val_accuracy: 1.0000\n",
            "Epoch 68/100\n",
            "10/10 [==============================] - 0s 34ms/step - loss: 0.0239 - accuracy: 0.9970 - val_loss: 0.0023 - val_accuracy: 1.0000\n",
            "Epoch 69/100\n",
            "10/10 [==============================] - 0s 34ms/step - loss: 0.0224 - accuracy: 0.9956 - val_loss: 0.0022 - val_accuracy: 1.0000\n",
            "Epoch 70/100\n",
            "10/10 [==============================] - 0s 34ms/step - loss: 0.0297 - accuracy: 0.9901 - val_loss: 0.0016 - val_accuracy: 1.0000\n",
            "Epoch 71/100\n",
            "10/10 [==============================] - 0s 35ms/step - loss: 0.0202 - accuracy: 0.9964 - val_loss: 0.0014 - val_accuracy: 1.0000\n",
            "Epoch 72/100\n",
            "10/10 [==============================] - 0s 34ms/step - loss: 0.0250 - accuracy: 0.9942 - val_loss: 0.0014 - val_accuracy: 1.0000\n",
            "Epoch 73/100\n",
            "10/10 [==============================] - 0s 35ms/step - loss: 0.0261 - accuracy: 0.9914 - val_loss: 0.0015 - val_accuracy: 1.0000\n",
            "Epoch 74/100\n",
            "10/10 [==============================] - 0s 35ms/step - loss: 0.0173 - accuracy: 0.9950 - val_loss: 0.0018 - val_accuracy: 1.0000\n",
            "Epoch 75/100\n",
            "10/10 [==============================] - 0s 34ms/step - loss: 0.0159 - accuracy: 0.9966 - val_loss: 0.0019 - val_accuracy: 1.0000\n",
            "Epoch 76/100\n",
            "10/10 [==============================] - 0s 35ms/step - loss: 0.0304 - accuracy: 0.9877 - val_loss: 0.0013 - val_accuracy: 1.0000\n",
            "Epoch 77/100\n",
            "10/10 [==============================] - 0s 34ms/step - loss: 0.0269 - accuracy: 0.9919 - val_loss: 0.0014 - val_accuracy: 1.0000\n",
            "Epoch 78/100\n",
            "10/10 [==============================] - 0s 34ms/step - loss: 0.0179 - accuracy: 0.9943 - val_loss: 0.0011 - val_accuracy: 1.0000\n",
            "Epoch 79/100\n",
            "10/10 [==============================] - 0s 34ms/step - loss: 0.0185 - accuracy: 0.9959 - val_loss: 0.0011 - val_accuracy: 1.0000\n",
            "Epoch 80/100\n",
            "10/10 [==============================] - 0s 34ms/step - loss: 0.0289 - accuracy: 0.9891 - val_loss: 0.0010 - val_accuracy: 1.0000\n",
            "Epoch 81/100\n",
            "10/10 [==============================] - 0s 34ms/step - loss: 0.0134 - accuracy: 0.9981 - val_loss: 0.0010 - val_accuracy: 1.0000\n",
            "Epoch 82/100\n",
            "10/10 [==============================] - 0s 34ms/step - loss: 0.0140 - accuracy: 0.9978 - val_loss: 0.0010 - val_accuracy: 1.0000\n",
            "Epoch 83/100\n",
            "10/10 [==============================] - 0s 34ms/step - loss: 0.0148 - accuracy: 0.9966 - val_loss: 0.0011 - val_accuracy: 1.0000\n",
            "Epoch 84/100\n",
            "10/10 [==============================] - 0s 34ms/step - loss: 0.0156 - accuracy: 0.9960 - val_loss: 0.0010 - val_accuracy: 1.0000\n",
            "Epoch 85/100\n",
            "10/10 [==============================] - 0s 34ms/step - loss: 0.0171 - accuracy: 0.9967 - val_loss: 0.0011 - val_accuracy: 1.0000\n",
            "Epoch 86/100\n",
            "10/10 [==============================] - 0s 34ms/step - loss: 0.0187 - accuracy: 0.9943 - val_loss: 0.0013 - val_accuracy: 1.0000\n",
            "Epoch 87/100\n",
            "10/10 [==============================] - 0s 35ms/step - loss: 0.0195 - accuracy: 0.9936 - val_loss: 0.0010 - val_accuracy: 1.0000\n",
            "Epoch 88/100\n",
            "10/10 [==============================] - 0s 34ms/step - loss: 0.0182 - accuracy: 0.9936 - val_loss: 0.0011 - val_accuracy: 1.0000\n",
            "Epoch 89/100\n",
            "10/10 [==============================] - 0s 35ms/step - loss: 0.0181 - accuracy: 0.9958 - val_loss: 9.9145e-04 - val_accuracy: 1.0000\n",
            "Epoch 90/100\n",
            "10/10 [==============================] - 0s 34ms/step - loss: 0.0108 - accuracy: 0.9983 - val_loss: 7.8408e-04 - val_accuracy: 1.0000\n",
            "Epoch 91/100\n",
            "10/10 [==============================] - 0s 34ms/step - loss: 0.0150 - accuracy: 0.9964 - val_loss: 8.0508e-04 - val_accuracy: 1.0000\n",
            "Epoch 92/100\n",
            "10/10 [==============================] - 0s 35ms/step - loss: 0.0126 - accuracy: 0.9986 - val_loss: 8.9251e-04 - val_accuracy: 1.0000\n",
            "Epoch 93/100\n",
            "10/10 [==============================] - 0s 35ms/step - loss: 0.0169 - accuracy: 0.9965 - val_loss: 8.3334e-04 - val_accuracy: 1.0000\n",
            "Epoch 94/100\n",
            "10/10 [==============================] - 0s 34ms/step - loss: 0.0146 - accuracy: 0.9957 - val_loss: 8.1183e-04 - val_accuracy: 1.0000\n",
            "Epoch 95/100\n",
            "10/10 [==============================] - 0s 34ms/step - loss: 0.0060 - accuracy: 0.9996 - val_loss: 7.8834e-04 - val_accuracy: 1.0000\n",
            "Epoch 96/100\n",
            "10/10 [==============================] - 0s 35ms/step - loss: 0.0125 - accuracy: 1.0000 - val_loss: 7.6951e-04 - val_accuracy: 1.0000\n",
            "Epoch 97/100\n",
            "10/10 [==============================] - 0s 35ms/step - loss: 0.0165 - accuracy: 0.9930 - val_loss: 8.3989e-04 - val_accuracy: 1.0000\n",
            "Epoch 98/100\n",
            "10/10 [==============================] - 0s 35ms/step - loss: 0.0104 - accuracy: 0.9965 - val_loss: 7.1604e-04 - val_accuracy: 1.0000\n",
            "Epoch 99/100\n",
            "10/10 [==============================] - 0s 35ms/step - loss: 0.0099 - accuracy: 0.9957 - val_loss: 6.3667e-04 - val_accuracy: 1.0000\n",
            "Epoch 100/100\n",
            "10/10 [==============================] - 0s 35ms/step - loss: 0.0068 - accuracy: 0.9982 - val_loss: 6.8616e-04 - val_accuracy: 1.0000\n"
          ],
          "name": "stdout"
        }
      ]
    },
    {
      "cell_type": "code",
      "metadata": {
        "colab": {
          "base_uri": "https://localhost:8080/",
          "height": 482
        },
        "id": "JlETHCUy4Yd7",
        "outputId": "e79bc38e-6405-43b3-b1df-6ded824dc760"
      },
      "source": [
        "#Plot the training history of the CNN\r\n",
        "import matplotlib.pyplot as plt\r\n",
        "from matplotlib.pyplot import figure\r\n",
        "acc = history.history['accuracy']\r\n",
        "val_acc = history.history['val_accuracy']\r\n",
        "loss = history.history['loss']\r\n",
        "val_loss = history.history['val_loss']\r\n",
        "\r\n",
        "epochs = range(len(acc))\r\n",
        "\r\n",
        "plt.figure(figsize=(6,4), dpi=120)\r\n",
        "\r\n",
        "plt.plot(epochs, acc, 'r', label='Training accuracy')\r\n",
        "plt.plot(epochs, val_acc, 'b', label='Validation accuracy')\r\n",
        "plt.title('Training and validation accuracy')\r\n",
        "plt.xlabel('Epochs')\r\n",
        "plt.ylabel('Accuracy')\r\n",
        "plt.legend(loc=0)\r\n",
        "plt.show()"
      ],
      "execution_count": 57,
      "outputs": [
        {
          "output_type": "display_data",
          "data": {
            "image/png": "[encoded data removed]",
            "text/plain": [
              "<Figure size 720x480 with 1 Axes>"
            ]
          },
          "metadata": {
            "tags": [],
            "needs_background": "light"
          }
        }
      ]
    },
    {
      "cell_type": "code",
      "metadata": {
        "colab": {
          "base_uri": "https://localhost:8080/",
          "height": 701
        },
        "id": "xMhVNOzLn7ta",
        "outputId": "7800332d-4c3f-49fb-cc70-4c2f86276281"
      },
      "source": [
        "Labels = ['Amit', 'Aswal', 'Daniel', 'John', 'Kevin', 'Lalita', 'Ram', 'Sancho', 'Vinod', 'Vivek']\r\n",
        "\r\n",
        "#Display the confusion matrix\r\n",
        "def show_confusion_matrix(validations, predictions):\r\n",
        "\r\n",
        "    matrix = metrics.confusion_matrix(validations, predictions)\r\n",
        "    plt.figure(figsize=(7, 5), dpi=80)\r\n",
        "    #plt.figure(figsize=(9, 6))\r\n",
        "\r\n",
        "    sns.heatmap(matrix,\r\n",
        "                cmap='coolwarm',\r\n",
        "                linecolor='white',\r\n",
        "                linewidths=1,\r\n",
        "                xticklabels=Labels,\r\n",
        "                yticklabels=Labels,\r\n",
        "                annot=True,\r\n",
        "                fmt='d')\r\n",
        "    plt.title('Confusion Matrix')\r\n",
        "    plt.ylabel('True Label')\r\n",
        "    plt.xlabel('Predicted Label')\r\n",
        "    plt.show()\r\n",
        "    #fig.savefig('Confusion_Matrix.png')\r\n",
        "\r\n",
        "\r\n",
        "y_pred_test = model.predict(X1_test)\r\n",
        "# Take the class with the highest probability from the test predictions\r\n",
        "max_y_pred_test = np.argmax(y_pred_test, axis=1)\r\n",
        "max_y_test = np.argmax(Y_test1, axis=1)\r\n",
        "\r\n",
        "show_confusion_matrix(max_y_test, max_y_pred_test)\r\n",
        "print(classification_report(max_y_test, max_y_pred_test))"
      ],
      "execution_count": 59,
      "outputs": [
        {
          "output_type": "display_data",
          "data": {
            "image/png": "[encoded data removed]",
            "text/plain": [
              "<Figure size 560x400 with 2 Axes>"
            ]
          },
          "metadata": {
            "tags": [],
            "needs_background": "light"
          }
        },
        {
          "output_type": "stream",
          "text": [
            "              precision    recall  f1-score   support\n",
            "\n",
            "           0       1.00      1.00      1.00       300\n",
            "           1       1.00      1.00      1.00       300\n",
            "           2       1.00      1.00      1.00       300\n",
            "           3       1.00      1.00      1.00       300\n",
            "           4       1.00      1.00      1.00       300\n",
            "           5       1.00      1.00      1.00       300\n",
            "           6       1.00      1.00      1.00       300\n",
            "           7       1.00      1.00      1.00       300\n",
            "           8       1.00      1.00      1.00       300\n",
            "           9       1.00      1.00      1.00       300\n",
            "\n",
            "    accuracy                           1.00      3000\n",
            "   macro avg       1.00      1.00      1.00      3000\n",
            "weighted avg       1.00      1.00      1.00      3000\n",
            "\n"
          ],
          "name": "stdout"
        }
      ]
    }
  ]
}