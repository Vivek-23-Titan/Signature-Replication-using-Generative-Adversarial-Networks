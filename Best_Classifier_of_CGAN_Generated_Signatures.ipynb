{
  "nbformat": 4,
  "nbformat_minor": 0,
  "metadata": {
    "colab": {
      "name": "Best Classifier of CGAN Generated_Signatures.ipynb",
      "provenance": [],
      "collapsed_sections": [],
      "toc_visible": true,
      "authorship_tag": "ABX9TyNWOGxLQGf+d8IxtwRmcnc7",
      "include_colab_link": true
    },
    "kernelspec": {
      "name": "python3",
      "display_name": "Python 3"
    },
    "accelerator": "GPU"
  },
  "cells": [
    {
      "cell_type": "markdown",
      "metadata": {
        "id": "view-in-github",
        "colab_type": "text"
      },
      "source": [
        "<a href=\"https://colab.research.google.com/github/Vivek-23-Titan/Signature-Replication-using-Generative-Adversarial-Networks/blob/master/Best_Classifier_of_CGAN_Generated_Signatures.ipynb\" target=\"_parent\"><img src=\"https://colab.research.google.com/assets/colab-badge.svg\" alt=\"Open In Colab\"/></a>"
      ]
    },
    {
      "cell_type": "markdown",
      "metadata": {
        "id": "nzdg_1WB5YgF"
      },
      "source": [
        "##**Import Libraries**##"
      ]
    },
    {
      "cell_type": "code",
      "metadata": {
        "id": "3XM6ZBcgNEKQ",
        "colab": {
          "base_uri": "https://localhost:8080/"
        },
        "outputId": "714c32e5-3501-4557-b64b-c879531947f2"
      },
      "source": [
        "from __future__ import print_function\n",
        "import tensorflow as tf\n",
        "print(tf.__version__)\n",
        "\n",
        "import keras\n",
        "from keras.models import Sequential\n",
        "from keras.layers import Input, Dense, LeakyReLU, BatchNormalization, ReLU, Dropout, ReLU\n",
        "from keras.layers import Conv2D, Reshape, Flatten, Activation\n",
        "from keras.layers.merge import concatenate\n",
        "from keras.optimizers import Adam\n",
        "from keras import initializers\n",
        "from keras.utils import plot_model, np_utils, to_categorical\n",
        "from keras import backend as K\n",
        "\n",
        "import numpy as np\n",
        "import matplotlib.pyplot as plt\n",
        "%matplotlib inline\n",
        "\n",
        "import matplotlib.cm as cm\n",
        "from sklearn import metrics\n",
        "from sklearn.metrics import classification_report\n",
        "from sklearn import preprocessing\n",
        "import seaborn as sns"
      ],
      "execution_count": null,
      "outputs": [
        {
          "output_type": "stream",
          "text": [
            "2.4.0\n"
          ],
          "name": "stdout"
        }
      ]
    },
    {
      "cell_type": "code",
      "metadata": {
        "id": "PIt_E9gZNLbj",
        "colab": {
          "base_uri": "https://localhost:8080/"
        },
        "outputId": "49fba818-edb2-40cd-d68b-744194cc5e40"
      },
      "source": [
        "from google.colab import drive\n",
        "drive.mount('/content/drive')"
      ],
      "execution_count": null,
      "outputs": [
        {
          "output_type": "stream",
          "text": [
            "Mounted at /content/drive\n"
          ],
          "name": "stdout"
        }
      ]
    },
    {
      "cell_type": "markdown",
      "metadata": {
        "id": "9hM7XKVg5jlU"
      },
      "source": [
        "##**Load the Dataset from Drive**##"
      ]
    },
    {
      "cell_type": "code",
      "metadata": {
        "id": "w2rDxW5aa1O3"
      },
      "source": [
        "!cp \"/content/drive/MyDrive/My Segmented Signatures/Original_Images_Folder.zip\" /content/"
      ],
      "execution_count": null,
      "outputs": []
    },
    {
      "cell_type": "code",
      "metadata": {
        "id": "toSNfUc0ckdf"
      },
      "source": [
        "from zipfile import ZipFile\r\n",
        "with ZipFile('/content/Original_Images_Folder.zip', 'r') as zip:\r\n",
        "  zip.extractall()"
      ],
      "execution_count": null,
      "outputs": []
    },
    {
      "cell_type": "code",
      "metadata": {
        "id": "xrNTpxK4SJ_j"
      },
      "source": [
        "import glob\n",
        "import cv2\n",
        "import PIL\n",
        "from PIL import ImageOps\n",
        "\n",
        "path = glob.glob(r\"/content/X_train/amit/*.PNG\")\n",
        "X_train1 = []\n",
        "Y_train1 = []\n",
        "\n",
        "for img in path:\n",
        "    n = cv2.imread(img,0)    \n",
        "    resized = cv2.resize(n, dim)\n",
        "    (thresh, im_bw) = cv2.threshold(resized, 128, 255, cv2.THRESH_BINARY | cv2.THRESH_OTSU)\n",
        "    im_bw = cv2.bitwise_not(im_bw)\n",
        "    X_train1.append(im_bw)\n",
        "    Y_train1.append([0])\n",
        "\n",
        "Y_train1 = np.array(Y_train1)"
      ],
      "execution_count": null,
      "outputs": []
    },
    {
      "cell_type": "code",
      "metadata": {
        "id": "jicLaNcSUHIu"
      },
      "source": [
        "path = glob.glob(r\"/content/X_train/aswal/*.PNG\")\n",
        "X_train2 = []\n",
        "Y_train2 = []\n",
        "=\n",
        "for img in path:\n",
        "    n = cv2.imread(img,0)    \n",
        "    resized = cv2.resize(n, dim)\n",
        "    (thresh, im_bw) = cv2.threshold(resized, 128, 255, cv2.THRESH_BINARY | cv2.THRESH_OTSU)\n",
        "    im_bw = cv2.bitwise_not(im_bw)\n",
        "    X_train2.append(im_bw)\n",
        "    Y_train2.append([1])\n",
        "\n",
        "Y_train2 = np.array(Y_train2)"
      ],
      "execution_count": null,
      "outputs": []
    },
    {
      "cell_type": "code",
      "metadata": {
        "id": "1AGx1MVBUMkk"
      },
      "source": [
        "path = glob.glob(r\"/content/X_train/daniel/*.PNG\")\n",
        "X_train3 = []\n",
        "Y_train3 = []\n",
        "\n",
        "for img in path:\n",
        "    n = cv2.imread(img,0)    \n",
        "    resized = cv2.resize(n, dim)\n",
        "    (thresh, im_bw) = cv2.threshold(resized, 128, 255, cv2.THRESH_BINARY | cv2.THRESH_OTSU)\n",
        "    im_bw = cv2.bitwise_not(im_bw)\n",
        "    X_train3.append(im_bw)\n",
        "    Y_train3.append([2])\n",
        "\n",
        "Y_train3 = np.array(Y_train3)"
      ],
      "execution_count": null,
      "outputs": []
    },
    {
      "cell_type": "code",
      "metadata": {
        "id": "IjRestUGUNP4"
      },
      "source": [
        "path = glob.glob(r\"/content/X_train/john/*.PNG\")\n",
        "X_train4 = []\n",
        "Y_train4 = []\n",
        "\n",
        "for img in path:\n",
        "    n = cv2.imread(img,0)    \n",
        "    resized = cv2.resize(n, dim)\n",
        "    (thresh, im_bw) = cv2.threshold(resized, 128, 255, cv2.THRESH_BINARY | cv2.THRESH_OTSU)\n",
        "    im_bw = cv2.bitwise_not(im_bw)\n",
        "    X_train4.append(im_bw)\n",
        "    Y_train4.append([3])\n",
        "\n",
        "Y_train4 = np.array(Y_train4)"
      ],
      "execution_count": null,
      "outputs": []
    },
    {
      "cell_type": "code",
      "metadata": {
        "id": "Ab4T5ddfUN21"
      },
      "source": [
        "path = glob.glob(r\"/content/X_train/kevin/*.PNG\")\n",
        "X_train5 = []\n",
        "Y_train5 = []\n",
        "\n",
        "for img in path:\n",
        "    n = cv2.imread(img,0)    \n",
        "    resized = cv2.resize(n, dim)\n",
        "    (thresh, im_bw) = cv2.threshold(resized, 128, 255, cv2.THRESH_BINARY | cv2.THRESH_OTSU)\n",
        "    im_bw = cv2.bitwise_not(im_bw)\n",
        "    X_train5.append(im_bw)\n",
        "    Y_train5.append([4])\n",
        "\n",
        "Y_train5 = np.array(Y_train5)"
      ],
      "execution_count": null,
      "outputs": []
    },
    {
      "cell_type": "code",
      "metadata": {
        "id": "KxIQeYC8UOzF"
      },
      "source": [
        "path = glob.glob(r\"/content/X_train/lalita/*.PNG\")\n",
        "X_train6 = []\n",
        "Y_train6 = []\n",
        "\n",
        "for img in path:\n",
        "    n = cv2.imread(img,0)    \n",
        "    resized = cv2.resize(n, dim)\n",
        "    (thresh, im_bw) = cv2.threshold(resized, 128, 255, cv2.THRESH_BINARY | cv2.THRESH_OTSU)\n",
        "    im_bw = cv2.bitwise_not(im_bw)\n",
        "    X_train6.append(im_bw)\n",
        "    Y_train6.append([5])\n",
        "\n",
        "Y_train6 = np.array(Y_train6)"
      ],
      "execution_count": null,
      "outputs": []
    },
    {
      "cell_type": "code",
      "metadata": {
        "id": "16d-PjWTUQCp"
      },
      "source": [
        "path = glob.glob(r\"/content/X_train/ram/*.PNG\")\n",
        "X_train7 = []\n",
        "Y_train7 = []\n",
        "\n",
        "for img in path:\n",
        "    n = cv2.imread(img,0)    \n",
        "    resized = cv2.resize(n, dim)\n",
        "    (thresh, im_bw) = cv2.threshold(resized, 128, 255, cv2.THRESH_BINARY | cv2.THRESH_OTSU)\n",
        "    im_bw = cv2.bitwise_not(im_bw)\n",
        "    X_train7.append(im_bw)\n",
        "    Y_train7.append([6])\n",
        "\n",
        "Y_train7 = np.array(Y_train7)"
      ],
      "execution_count": null,
      "outputs": []
    },
    {
      "cell_type": "code",
      "metadata": {
        "id": "5Md2RIyNUQ2v"
      },
      "source": [
        "path = glob.glob(r\"/content/X_train/sancho/*.PNG\")\n",
        "X_train8 = []\n",
        "Y_train8 = []\n",
        "\n",
        "for img in path:\n",
        "    n = cv2.imread(img,0)    \n",
        "    resized = cv2.resize(n, dim)\n",
        "    (thresh, im_bw) = cv2.threshold(resized, 128, 255, cv2.THRESH_BINARY | cv2.THRESH_OTSU)\n",
        "    im_bw = cv2.bitwise_not(im_bw)\n",
        "    X_train8.append(im_bw)\n",
        "    Y_train8.append([7])\n",
        "\n",
        "Y_train8 = np.array(Y_train8)"
      ],
      "execution_count": null,
      "outputs": []
    },
    {
      "cell_type": "code",
      "metadata": {
        "id": "VuxvUQDqURd2"
      },
      "source": [
        "path = glob.glob(r\"/content/X_train/vinod/*.PNG\")\n",
        "X_train9 = []\n",
        "Y_train9 = []\n",
        "\n",
        "for img in path:\n",
        "    n = cv2.imread(img,0)    \n",
        "    resized = cv2.resize(n, dim)\n",
        "    (thresh, im_bw) = cv2.threshold(resized, 128, 255, cv2.THRESH_BINARY | cv2.THRESH_OTSU)\n",
        "    im_bw = cv2.bitwise_not(im_bw)\n",
        "    X_train9.append(im_bw)\n",
        "    Y_train9.append([8])\n",
        "\n",
        "Y_train9 = np.array(Y_train9)"
      ],
      "execution_count": null,
      "outputs": []
    },
    {
      "cell_type": "code",
      "metadata": {
        "id": "bV3RwWwvUSS8"
      },
      "source": [
        "path = glob.glob(r\"/content/X_train/vivek/*.PNG\")\n",
        "X_train10 = []\n",
        "Y_train10 = []\n",
        "\n",
        "for img in path:\n",
        "    n = cv2.imread(img,0)    \n",
        "    resized = cv2.resize(n, dim)\n",
        "    (thresh, im_bw) = cv2.threshold(resized, 128, 255, cv2.THRESH_BINARY | cv2.THRESH_OTSU)\n",
        "    im_bw = cv2.bitwise_not(im_bw)\n",
        "    X_train10.append(im_bw)\n",
        "    Y_train10.append([9])\n",
        "\n",
        "Y_train10 = np.array(Y_train10)"
      ],
      "execution_count": null,
      "outputs": []
    },
    {
      "cell_type": "code",
      "metadata": {
        "id": "wCbDnoNCWiCP",
        "colab": {
          "base_uri": "https://localhost:8080/"
        },
        "outputId": "8e8590da-e0bd-4eb9-d29e-fbd951893bac"
      },
      "source": [
        "#Compile all the classes to form the training dataset\n",
        "X_train = np.concatenate([X_train1,X_train2,X_train3,X_train4,X_train5,X_train6,X_train7,X_train8,X_train9,X_train10])\n",
        "Y_train = np.concatenate([Y_train1,Y_train2,Y_train3,Y_train4,Y_train5,Y_train6,Y_train7,Y_train8,Y_train9,Y_train10])\n",
        "\n",
        "X_train = np.array(X_train)\n",
        "Y_train = np.array(Y_train)\n",
        "\n",
        "X = X_train\n",
        "Y = Y_train\n",
        "print(X_train.shape)\n",
        "print(Y_train.shape)"
      ],
      "execution_count": null,
      "outputs": [
        {
          "output_type": "stream",
          "text": [
            "(1000, 64, 64)\n",
            "(1000, 1)\n"
          ],
          "name": "stdout"
        }
      ]
    },
    {
      "cell_type": "code",
      "metadata": {
        "id": "OikY9CAv0kX9"
      },
      "source": [
        "for i in range(0, 1000, 50):\r\n",
        "  plt.imshow(np.squeeze(X_train[i]))\r\n",
        "  plt.show()\r\n",
        "  print(Y_train1[i])"
      ],
      "execution_count": null,
      "outputs": []
    },
    {
      "cell_type": "markdown",
      "metadata": {
        "id": "V0PbISifp1RC"
      },
      "source": [
        "##**Test Dataset**##"
      ]
    },
    {
      "cell_type": "code",
      "metadata": {
        "id": "SPxizvTygSwy"
      },
      "source": [
        "!cp \"/content/drive/MyDrive/My Segmented Signatures/New_Generated_Signatures.zip\" /content/"
      ],
      "execution_count": null,
      "outputs": []
    },
    {
      "cell_type": "code",
      "metadata": {
        "id": "m02B5G-tgvAw"
      },
      "source": [
        "with ZipFile('/content/New_Generated_Signatures.zip', 'r') as zip:\r\n",
        "  zip.extractall()"
      ],
      "execution_count": null,
      "outputs": []
    },
    {
      "cell_type": "code",
      "metadata": {
        "colab": {
          "base_uri": "https://localhost:8080/"
        },
        "id": "IZOWrOEvxCmA",
        "outputId": "33142f39-e531-41f8-d145-448c4a4faa34"
      },
      "source": [
        "count = 0\r\n",
        "X1_test = []\r\n",
        "for i in range(3000):\r\n",
        "    path = glob.glob(r\"/content/New_Generated_Signatures/\" + str(i) + \".png\")\r\n",
        "    n = cv2.imread(path[0], 0)\r\n",
        "    X1_test.append(n)\r\n",
        "    count+=1\r\n",
        "    if count%200==0:\r\n",
        "      print(count)\r\n",
        "\r\n",
        "X1_test = np.array(X1_test)\r\n",
        "X1_test = np.expand_dims(X1_test, -1)\r\n",
        "print(X1_test.shape)"
      ],
      "execution_count": null,
      "outputs": [
        {
          "output_type": "stream",
          "text": [
            "200\n",
            "400\n",
            "600\n",
            "800\n",
            "1000\n",
            "1200\n",
            "1400\n",
            "1600\n",
            "1800\n",
            "2000\n",
            "2200\n",
            "2400\n",
            "2600\n",
            "2800\n",
            "3000\n",
            "(3000, 64, 64, 1)\n"
          ],
          "name": "stdout"
        }
      ]
    },
    {
      "cell_type": "code",
      "metadata": {
        "id": "bCdm33g-pWJO",
        "colab": {
          "base_uri": "https://localhost:8080/"
        },
        "outputId": "d0318d89-7f54-4369-ddf0-a45efa9008ca"
      },
      "source": [
        "Y1_test = []\n",
        "for i in range(len(X1_test)):\n",
        "  Y1_test.append([(i%10)])\n",
        "Y1_test = np.array(Y1_test)\n",
        "print(Y1_test.shape)"
      ],
      "execution_count": null,
      "outputs": [
        {
          "output_type": "stream",
          "text": [
            "(3000, 1)\n"
          ],
          "name": "stdout"
        }
      ]
    },
    {
      "cell_type": "code",
      "metadata": {
        "id": "QWCyPfS56Aww",
        "colab": {
          "base_uri": "https://localhost:8080/"
        },
        "outputId": "b8551ebb-37f2-4acf-857c-dd69b6ed243c"
      },
      "source": [
        "print(X1_test.shape, Y1_test.shape)"
      ],
      "execution_count": null,
      "outputs": [
        {
          "output_type": "stream",
          "text": [
            "(3000, 64, 64, 1) (3000, 1)\n"
          ],
          "name": "stdout"
        }
      ]
    },
    {
      "cell_type": "code",
      "metadata": {
        "id": "udzTedH6ue3b"
      },
      "source": [
        "X1_train = np.expand_dims(X_train, -1)"
      ],
      "execution_count": null,
      "outputs": []
    },
    {
      "cell_type": "code",
      "metadata": {
        "id": "1st6KvFp5l3T"
      },
      "source": [
        "#One hot encoding\n",
        "from keras.utils import to_categorical\n",
        "\n",
        "Y_train1 = to_categorical(Y_train)\n",
        "Y_test1 = to_categorical(Y1_test)"
      ],
      "execution_count": null,
      "outputs": []
    },
    {
      "cell_type": "code",
      "metadata": {
        "id": "GDSVM7mQFzW1",
        "colab": {
          "base_uri": "https://localhost:8080/"
        },
        "outputId": "79a09efd-5624-4db9-80bd-81c62e01e777"
      },
      "source": [
        "print(Y_train1.shape, Y_test1.shape)"
      ],
      "execution_count": null,
      "outputs": [
        {
          "output_type": "stream",
          "text": [
            "(1000, 10) (3000, 10)\n"
          ],
          "name": "stdout"
        }
      ]
    },
    {
      "cell_type": "code",
      "metadata": {
        "id": "N9D4zuGS5tVq",
        "colab": {
          "base_uri": "https://localhost:8080/"
        },
        "outputId": "2067f4d5-5e99-4776-c753-8107d02a0591"
      },
      "source": [
        "print(X1_train.shape, X1_test.shape)\n",
        "print(Y_train1.shape, Y_test1.shape)"
      ],
      "execution_count": null,
      "outputs": [
        {
          "output_type": "stream",
          "text": [
            "(1000, 64, 64, 1) (3000, 64, 64, 1)\n",
            "(1000, 10) (3000, 10)\n"
          ],
          "name": "stdout"
        }
      ]
    },
    {
      "cell_type": "code",
      "metadata": {
        "id": "p85Uz9Pan-1t"
      },
      "source": [
        "#Shuffle\r\n",
        "from sklearn.utils import shuffle\r\n",
        "for i in range(100):\r\n",
        "  X1_train, Y_train1 = shuffle(X1_train, Y_train1, random_state=0)\r\n",
        "  X1_test, Y_test1 = shuffle(X1_test, Y_test1, random_state=0)"
      ],
      "execution_count": null,
      "outputs": []
    },
    {
      "cell_type": "markdown",
      "metadata": {
        "id": "i6ZCTxL_6Jqf"
      },
      "source": [
        "##**Convolutional Classifier Model**##"
      ]
    },
    {
      "cell_type": "code",
      "metadata": {
        "id": "mPRU6iRcy35Z"
      },
      "source": [
        "    modelC = Sequential()\n",
        "\n",
        "    modelC.add(Conv2D(32, kernel_size=5, strides=2, input_shape=((64,64, 1)), padding=\"same\"))\n",
        "    modelC.add(LeakyReLU(alpha=0.2))\n",
        "    modelC.add(Dropout(0.2))\n",
        "    modelC.add(Conv2D(64, kernel_size=5, strides=2, padding=\"same\"))\n",
        "    modelC.add(BatchNormalization(momentum=0.8))\n",
        "    modelC.add(LeakyReLU(alpha=0.2))\n",
        "    modelC.add(Dropout(0.3))\n",
        "    modelC.add(Conv2D(64, kernel_size=5, strides=2, padding=\"same\"))\n",
        "    modelC.add(BatchNormalization(momentum=0.8))\n",
        "    modelC.add(LeakyReLU(alpha=0.2))\n",
        "    modelC.add(Dropout(0.3))\n",
        "    modelC.add(Conv2D(128, kernel_size=3, strides=2, padding=\"same\"))\n",
        "    modelC.add(BatchNormalization(momentum=0.8))\n",
        "    modelC.add(LeakyReLU(alpha=0.2))\n",
        "    modelC.add(Dropout(0.3))\n",
        "    modelC.add(Conv2D(256, kernel_size=3, strides=2, padding=\"same\"))\n",
        "    modelC.add(BatchNormalization(momentum=0.8))\n",
        "    modelC.add(LeakyReLU(alpha=0.2))\n",
        "    modelC.add(Dropout(0.3))\n",
        "    modelC.add(Conv2D(512, kernel_size=3, strides=2, padding=\"same\"))\n",
        "    modelC.add(BatchNormalization(momentum=0.8))\n",
        "    modelC.add(LeakyReLU(alpha=0.2))\n",
        "    modelC.add(Dropout(0.45))\n",
        "    modelC.add(Conv2D(128, kernel_size=3, strides=2, padding=\"same\"))\n",
        "    modelC.add(BatchNormalization(momentum=0.8))\n",
        "    modelC.add(LeakyReLU(alpha=0.2))\n",
        "    modelC.add(Dropout(0.35))\n",
        "\n",
        "    modelC.add(Flatten())\n",
        "    modelC.add(Dense(512))\n",
        "    modelC.add(LeakyReLU(alpha=0.2))\n",
        "    modelC.add(Dropout(0.25))\n",
        "    modelC.add(Dense(10, activation='softmax'))\n",
        "\n",
        "    #model.summary()"
      ],
      "execution_count": null,
      "outputs": []
    },
    {
      "cell_type": "code",
      "metadata": {
        "id": "ke2VxBkjy_mK"
      },
      "source": [
        "optimizer = Adam(lr=0.00011)\n",
        "modelC.compile(loss = 'categorical_crossentropy', optimizer=optimizer, metrics=['accuracy'])"
      ],
      "execution_count": null,
      "outputs": []
    },
    {
      "cell_type": "code",
      "metadata": {
        "colab": {
          "base_uri": "https://localhost:8080/"
        },
        "id": "VcM4oq1kxxFO",
        "outputId": "4e71f21b-88ac-49a7-b1b2-188d31bc5392"
      },
      "source": [
        "historyC = modelC.fit(X1_train, Y_train1, batch_size = 100, epochs=100, validation_data = (X1_test, Y_test1), shuffle = True, verbose = 1)"
      ],
      "execution_count": null,
      "outputs": [
        {
          "output_type": "stream",
          "text": [
            "Epoch 1/100\n",
            "10/10 [==============================] - 1s 65ms/step - loss: 2.4784 - accuracy: 0.1102 - val_loss: 2.2523 - val_accuracy: 0.2270\n",
            "Epoch 2/100\n",
            "10/10 [==============================] - 0s 34ms/step - loss: 2.3501 - accuracy: 0.1512 - val_loss: 2.1497 - val_accuracy: 0.3690\n",
            "Epoch 3/100\n",
            "10/10 [==============================] - 0s 34ms/step - loss: 2.2208 - accuracy: 0.1850 - val_loss: 2.0497 - val_accuracy: 0.5270\n",
            "Epoch 4/100\n",
            "10/10 [==============================] - 0s 33ms/step - loss: 2.0966 - accuracy: 0.2342 - val_loss: 1.9495 - val_accuracy: 0.5653\n",
            "Epoch 5/100\n",
            "10/10 [==============================] - 0s 33ms/step - loss: 1.9763 - accuracy: 0.2876 - val_loss: 1.8178 - val_accuracy: 0.6277\n",
            "Epoch 6/100\n",
            "10/10 [==============================] - 0s 33ms/step - loss: 1.8555 - accuracy: 0.3630 - val_loss: 1.6784 - val_accuracy: 0.6617\n",
            "Epoch 7/100\n",
            "10/10 [==============================] - 0s 33ms/step - loss: 1.7309 - accuracy: 0.3737 - val_loss: 1.5403 - val_accuracy: 0.6997\n",
            "Epoch 8/100\n",
            "10/10 [==============================] - 0s 33ms/step - loss: 1.5857 - accuracy: 0.4760 - val_loss: 1.3964 - val_accuracy: 0.7297\n",
            "Epoch 9/100\n",
            "10/10 [==============================] - 0s 33ms/step - loss: 1.4705 - accuracy: 0.5215 - val_loss: 1.2356 - val_accuracy: 0.7783\n",
            "Epoch 10/100\n",
            "10/10 [==============================] - 0s 34ms/step - loss: 1.3389 - accuracy: 0.5715 - val_loss: 1.0863 - val_accuracy: 0.8027\n",
            "Epoch 11/100\n",
            "10/10 [==============================] - 0s 33ms/step - loss: 1.1838 - accuracy: 0.6645 - val_loss: 0.9453 - val_accuracy: 0.8223\n",
            "Epoch 12/100\n",
            "10/10 [==============================] - 0s 34ms/step - loss: 1.0888 - accuracy: 0.6928 - val_loss: 0.7896 - val_accuracy: 0.8520\n",
            "Epoch 13/100\n",
            "10/10 [==============================] - 0s 34ms/step - loss: 0.9478 - accuracy: 0.7408 - val_loss: 0.6683 - val_accuracy: 0.8570\n",
            "Epoch 14/100\n",
            "10/10 [==============================] - 0s 33ms/step - loss: 0.8535 - accuracy: 0.7900 - val_loss: 0.5514 - val_accuracy: 0.8827\n",
            "Epoch 15/100\n",
            "10/10 [==============================] - 0s 33ms/step - loss: 0.7485 - accuracy: 0.8254 - val_loss: 0.4636 - val_accuracy: 0.9047\n",
            "Epoch 16/100\n",
            "10/10 [==============================] - 0s 33ms/step - loss: 0.6423 - accuracy: 0.8492 - val_loss: 0.3700 - val_accuracy: 0.9257\n",
            "Epoch 17/100\n",
            "10/10 [==============================] - 0s 33ms/step - loss: 0.6118 - accuracy: 0.8575 - val_loss: 0.3165 - val_accuracy: 0.9270\n",
            "Epoch 18/100\n",
            "10/10 [==============================] - 0s 33ms/step - loss: 0.5237 - accuracy: 0.8891 - val_loss: 0.2578 - val_accuracy: 0.9570\n",
            "Epoch 19/100\n",
            "10/10 [==============================] - 0s 33ms/step - loss: 0.4654 - accuracy: 0.8890 - val_loss: 0.1999 - val_accuracy: 0.9767\n",
            "Epoch 20/100\n",
            "10/10 [==============================] - 0s 33ms/step - loss: 0.4048 - accuracy: 0.9292 - val_loss: 0.1654 - val_accuracy: 0.9837\n",
            "Epoch 21/100\n",
            "10/10 [==============================] - 0s 33ms/step - loss: 0.3646 - accuracy: 0.9089 - val_loss: 0.1292 - val_accuracy: 0.9893\n",
            "Epoch 22/100\n",
            "10/10 [==============================] - 0s 33ms/step - loss: 0.3051 - accuracy: 0.9543 - val_loss: 0.1092 - val_accuracy: 0.9933\n",
            "Epoch 23/100\n",
            "10/10 [==============================] - 0s 34ms/step - loss: 0.2505 - accuracy: 0.9604 - val_loss: 0.0933 - val_accuracy: 0.9927\n",
            "Epoch 24/100\n",
            "10/10 [==============================] - 0s 35ms/step - loss: 0.2434 - accuracy: 0.9689 - val_loss: 0.0752 - val_accuracy: 0.9957\n",
            "Epoch 25/100\n",
            "10/10 [==============================] - 0s 33ms/step - loss: 0.2416 - accuracy: 0.9558 - val_loss: 0.0616 - val_accuracy: 0.9970\n",
            "Epoch 26/100\n",
            "10/10 [==============================] - 0s 53ms/step - loss: 0.2046 - accuracy: 0.9719 - val_loss: 0.0518 - val_accuracy: 0.9987\n",
            "Epoch 27/100\n",
            "10/10 [==============================] - 0s 34ms/step - loss: 0.1888 - accuracy: 0.9691 - val_loss: 0.0432 - val_accuracy: 0.9983\n",
            "Epoch 28/100\n",
            "10/10 [==============================] - 0s 33ms/step - loss: 0.1592 - accuracy: 0.9814 - val_loss: 0.0400 - val_accuracy: 0.9983\n",
            "Epoch 29/100\n",
            "10/10 [==============================] - 0s 33ms/step - loss: 0.1565 - accuracy: 0.9766 - val_loss: 0.0332 - val_accuracy: 0.9997\n",
            "Epoch 30/100\n",
            "10/10 [==============================] - 0s 33ms/step - loss: 0.1612 - accuracy: 0.9753 - val_loss: 0.0307 - val_accuracy: 0.9997\n",
            "Epoch 31/100\n",
            "10/10 [==============================] - 0s 35ms/step - loss: 0.1413 - accuracy: 0.9774 - val_loss: 0.0276 - val_accuracy: 0.9997\n",
            "Epoch 32/100\n",
            "10/10 [==============================] - 0s 34ms/step - loss: 0.1299 - accuracy: 0.9854 - val_loss: 0.0233 - val_accuracy: 0.9997\n",
            "Epoch 33/100\n",
            "10/10 [==============================] - 0s 34ms/step - loss: 0.1115 - accuracy: 0.9829 - val_loss: 0.0194 - val_accuracy: 0.9997\n",
            "Epoch 34/100\n",
            "10/10 [==============================] - 0s 34ms/step - loss: 0.1096 - accuracy: 0.9861 - val_loss: 0.0199 - val_accuracy: 0.9997\n",
            "Epoch 35/100\n",
            "10/10 [==============================] - 0s 34ms/step - loss: 0.1116 - accuracy: 0.9814 - val_loss: 0.0193 - val_accuracy: 0.9997\n",
            "Epoch 36/100\n",
            "10/10 [==============================] - 0s 34ms/step - loss: 0.1086 - accuracy: 0.9809 - val_loss: 0.0149 - val_accuracy: 0.9997\n",
            "Epoch 37/100\n",
            "10/10 [==============================] - 0s 33ms/step - loss: 0.0880 - accuracy: 0.9944 - val_loss: 0.0138 - val_accuracy: 0.9997\n",
            "Epoch 38/100\n",
            "10/10 [==============================] - 0s 34ms/step - loss: 0.0872 - accuracy: 0.9844 - val_loss: 0.0125 - val_accuracy: 0.9997\n",
            "Epoch 39/100\n",
            "10/10 [==============================] - 0s 34ms/step - loss: 0.0785 - accuracy: 0.9925 - val_loss: 0.0103 - val_accuracy: 1.0000\n",
            "Epoch 40/100\n",
            "10/10 [==============================] - 0s 33ms/step - loss: 0.0660 - accuracy: 0.9877 - val_loss: 0.0101 - val_accuracy: 0.9997\n",
            "Epoch 41/100\n",
            "10/10 [==============================] - 0s 34ms/step - loss: 0.0748 - accuracy: 0.9820 - val_loss: 0.0091 - val_accuracy: 1.0000\n",
            "Epoch 42/100\n",
            "10/10 [==============================] - 0s 34ms/step - loss: 0.0745 - accuracy: 0.9867 - val_loss: 0.0096 - val_accuracy: 0.9997\n",
            "Epoch 43/100\n",
            "10/10 [==============================] - 0s 33ms/step - loss: 0.0640 - accuracy: 0.9916 - val_loss: 0.0081 - val_accuracy: 1.0000\n",
            "Epoch 44/100\n",
            "10/10 [==============================] - 0s 33ms/step - loss: 0.0557 - accuracy: 0.9918 - val_loss: 0.0085 - val_accuracy: 1.0000\n",
            "Epoch 45/100\n",
            "10/10 [==============================] - 0s 33ms/step - loss: 0.0619 - accuracy: 0.9883 - val_loss: 0.0077 - val_accuracy: 1.0000\n",
            "Epoch 46/100\n",
            "10/10 [==============================] - 0s 34ms/step - loss: 0.0584 - accuracy: 0.9950 - val_loss: 0.0071 - val_accuracy: 1.0000\n",
            "Epoch 47/100\n",
            "10/10 [==============================] - 0s 33ms/step - loss: 0.0672 - accuracy: 0.9860 - val_loss: 0.0068 - val_accuracy: 1.0000\n",
            "Epoch 48/100\n",
            "10/10 [==============================] - 0s 34ms/step - loss: 0.0544 - accuracy: 0.9950 - val_loss: 0.0061 - val_accuracy: 1.0000\n",
            "Epoch 49/100\n",
            "10/10 [==============================] - 0s 33ms/step - loss: 0.0430 - accuracy: 0.9946 - val_loss: 0.0053 - val_accuracy: 1.0000\n",
            "Epoch 50/100\n",
            "10/10 [==============================] - 0s 33ms/step - loss: 0.0495 - accuracy: 0.9921 - val_loss: 0.0046 - val_accuracy: 1.0000\n",
            "Epoch 51/100\n",
            "10/10 [==============================] - 0s 33ms/step - loss: 0.0408 - accuracy: 0.9941 - val_loss: 0.0049 - val_accuracy: 1.0000\n",
            "Epoch 52/100\n",
            "10/10 [==============================] - 0s 34ms/step - loss: 0.0329 - accuracy: 0.9979 - val_loss: 0.0044 - val_accuracy: 1.0000\n",
            "Epoch 53/100\n",
            "10/10 [==============================] - 0s 33ms/step - loss: 0.0322 - accuracy: 0.9991 - val_loss: 0.0047 - val_accuracy: 1.0000\n",
            "Epoch 54/100\n",
            "10/10 [==============================] - 0s 33ms/step - loss: 0.0408 - accuracy: 0.9919 - val_loss: 0.0039 - val_accuracy: 1.0000\n",
            "Epoch 55/100\n",
            "10/10 [==============================] - 0s 34ms/step - loss: 0.0374 - accuracy: 0.9952 - val_loss: 0.0038 - val_accuracy: 1.0000\n",
            "Epoch 56/100\n",
            "10/10 [==============================] - 0s 33ms/step - loss: 0.0308 - accuracy: 0.9982 - val_loss: 0.0038 - val_accuracy: 1.0000\n",
            "Epoch 57/100\n",
            "10/10 [==============================] - 0s 48ms/step - loss: 0.0424 - accuracy: 0.9941 - val_loss: 0.0038 - val_accuracy: 1.0000\n",
            "Epoch 58/100\n",
            "10/10 [==============================] - 0s 34ms/step - loss: 0.0292 - accuracy: 0.9971 - val_loss: 0.0041 - val_accuracy: 1.0000\n",
            "Epoch 59/100\n",
            "10/10 [==============================] - 0s 34ms/step - loss: 0.0374 - accuracy: 0.9956 - val_loss: 0.0034 - val_accuracy: 1.0000\n",
            "Epoch 60/100\n",
            "10/10 [==============================] - 0s 34ms/step - loss: 0.0316 - accuracy: 0.9978 - val_loss: 0.0032 - val_accuracy: 1.0000\n",
            "Epoch 61/100\n",
            "10/10 [==============================] - 0s 34ms/step - loss: 0.0276 - accuracy: 0.9985 - val_loss: 0.0028 - val_accuracy: 1.0000\n",
            "Epoch 62/100\n",
            "10/10 [==============================] - 0s 34ms/step - loss: 0.0205 - accuracy: 0.9991 - val_loss: 0.0029 - val_accuracy: 1.0000\n",
            "Epoch 63/100\n",
            "10/10 [==============================] - 0s 34ms/step - loss: 0.0332 - accuracy: 0.9960 - val_loss: 0.0028 - val_accuracy: 1.0000\n",
            "Epoch 64/100\n",
            "10/10 [==============================] - 0s 35ms/step - loss: 0.0341 - accuracy: 0.9931 - val_loss: 0.0027 - val_accuracy: 1.0000\n",
            "Epoch 65/100\n",
            "10/10 [==============================] - 0s 34ms/step - loss: 0.0230 - accuracy: 0.9986 - val_loss: 0.0027 - val_accuracy: 1.0000\n",
            "Epoch 66/100\n",
            "10/10 [==============================] - 0s 33ms/step - loss: 0.0212 - accuracy: 0.9971 - val_loss: 0.0025 - val_accuracy: 1.0000\n",
            "Epoch 67/100\n",
            "10/10 [==============================] - 0s 33ms/step - loss: 0.0265 - accuracy: 0.9966 - val_loss: 0.0028 - val_accuracy: 1.0000\n",
            "Epoch 68/100\n",
            "10/10 [==============================] - 0s 33ms/step - loss: 0.0283 - accuracy: 0.9972 - val_loss: 0.0027 - val_accuracy: 1.0000\n",
            "Epoch 69/100\n",
            "10/10 [==============================] - 0s 33ms/step - loss: 0.0251 - accuracy: 0.9976 - val_loss: 0.0024 - val_accuracy: 1.0000\n",
            "Epoch 70/100\n",
            "10/10 [==============================] - 0s 34ms/step - loss: 0.0256 - accuracy: 0.9950 - val_loss: 0.0022 - val_accuracy: 1.0000\n",
            "Epoch 71/100\n",
            "10/10 [==============================] - 0s 33ms/step - loss: 0.0285 - accuracy: 0.9969 - val_loss: 0.0022 - val_accuracy: 1.0000\n",
            "Epoch 72/100\n",
            "10/10 [==============================] - 0s 34ms/step - loss: 0.0201 - accuracy: 0.9987 - val_loss: 0.0020 - val_accuracy: 1.0000\n",
            "Epoch 73/100\n",
            "10/10 [==============================] - 0s 33ms/step - loss: 0.0215 - accuracy: 0.9951 - val_loss: 0.0022 - val_accuracy: 1.0000\n",
            "Epoch 74/100\n",
            "10/10 [==============================] - 0s 33ms/step - loss: 0.0214 - accuracy: 0.9987 - val_loss: 0.0020 - val_accuracy: 1.0000\n",
            "Epoch 75/100\n",
            "10/10 [==============================] - 0s 34ms/step - loss: 0.0185 - accuracy: 0.9995 - val_loss: 0.0021 - val_accuracy: 1.0000\n",
            "Epoch 76/100\n",
            "10/10 [==============================] - 0s 34ms/step - loss: 0.0180 - accuracy: 0.9998 - val_loss: 0.0018 - val_accuracy: 1.0000\n",
            "Epoch 77/100\n",
            "10/10 [==============================] - 0s 33ms/step - loss: 0.0288 - accuracy: 0.9945 - val_loss: 0.0017 - val_accuracy: 1.0000\n",
            "Epoch 78/100\n",
            "10/10 [==============================] - 0s 33ms/step - loss: 0.0204 - accuracy: 0.9962 - val_loss: 0.0015 - val_accuracy: 1.0000\n",
            "Epoch 79/100\n",
            "10/10 [==============================] - 0s 34ms/step - loss: 0.0190 - accuracy: 1.0000 - val_loss: 0.0017 - val_accuracy: 1.0000\n",
            "Epoch 80/100\n",
            "10/10 [==============================] - 0s 34ms/step - loss: 0.0166 - accuracy: 0.9991 - val_loss: 0.0016 - val_accuracy: 1.0000\n",
            "Epoch 81/100\n",
            "10/10 [==============================] - 0s 34ms/step - loss: 0.0191 - accuracy: 0.9993 - val_loss: 0.0017 - val_accuracy: 1.0000\n",
            "Epoch 82/100\n",
            "10/10 [==============================] - 0s 48ms/step - loss: 0.0178 - accuracy: 1.0000 - val_loss: 0.0016 - val_accuracy: 1.0000\n",
            "Epoch 83/100\n",
            "10/10 [==============================] - 0s 34ms/step - loss: 0.0201 - accuracy: 0.9972 - val_loss: 0.0019 - val_accuracy: 0.9993\n",
            "Epoch 84/100\n",
            "10/10 [==============================] - 0s 33ms/step - loss: 0.0203 - accuracy: 0.9995 - val_loss: 0.0016 - val_accuracy: 0.9997\n",
            "Epoch 85/100\n",
            "10/10 [==============================] - 0s 33ms/step - loss: 0.0189 - accuracy: 0.9974 - val_loss: 0.0016 - val_accuracy: 0.9997\n",
            "Epoch 86/100\n",
            "10/10 [==============================] - 0s 33ms/step - loss: 0.0121 - accuracy: 1.0000 - val_loss: 0.0015 - val_accuracy: 0.9997\n",
            "Epoch 87/100\n",
            "10/10 [==============================] - 0s 34ms/step - loss: 0.0131 - accuracy: 0.9976 - val_loss: 0.0015 - val_accuracy: 0.9997\n",
            "Epoch 88/100\n",
            "10/10 [==============================] - 0s 35ms/step - loss: 0.0153 - accuracy: 0.9975 - val_loss: 0.0016 - val_accuracy: 0.9993\n",
            "Epoch 89/100\n",
            "10/10 [==============================] - 0s 35ms/step - loss: 0.0098 - accuracy: 1.0000 - val_loss: 0.0016 - val_accuracy: 0.9993\n",
            "Epoch 90/100\n",
            "10/10 [==============================] - 0s 33ms/step - loss: 0.0149 - accuracy: 0.9997 - val_loss: 0.0014 - val_accuracy: 0.9997\n",
            "Epoch 91/100\n",
            "10/10 [==============================] - 0s 34ms/step - loss: 0.0131 - accuracy: 0.9989 - val_loss: 0.0012 - val_accuracy: 1.0000\n",
            "Epoch 92/100\n",
            "10/10 [==============================] - 0s 33ms/step - loss: 0.0138 - accuracy: 0.9983 - val_loss: 0.0013 - val_accuracy: 1.0000\n",
            "Epoch 93/100\n",
            "10/10 [==============================] - 0s 33ms/step - loss: 0.0126 - accuracy: 0.9991 - val_loss: 0.0012 - val_accuracy: 1.0000\n",
            "Epoch 94/100\n",
            "10/10 [==============================] - 0s 33ms/step - loss: 0.0172 - accuracy: 0.9982 - val_loss: 0.0011 - val_accuracy: 1.0000\n",
            "Epoch 95/100\n",
            "10/10 [==============================] - 0s 34ms/step - loss: 0.0117 - accuracy: 0.9990 - val_loss: 0.0010 - val_accuracy: 1.0000\n",
            "Epoch 96/100\n",
            "10/10 [==============================] - 0s 34ms/step - loss: 0.0074 - accuracy: 1.0000 - val_loss: 0.0010 - val_accuracy: 1.0000\n",
            "Epoch 97/100\n",
            "10/10 [==============================] - 0s 35ms/step - loss: 0.0137 - accuracy: 0.9972 - val_loss: 0.0011 - val_accuracy: 1.0000\n",
            "Epoch 98/100\n",
            "10/10 [==============================] - 0s 33ms/step - loss: 0.0102 - accuracy: 1.0000 - val_loss: 9.5586e-04 - val_accuracy: 1.0000\n",
            "Epoch 99/100\n",
            "10/10 [==============================] - 0s 33ms/step - loss: 0.0081 - accuracy: 1.0000 - val_loss: 0.0010 - val_accuracy: 1.0000\n",
            "Epoch 100/100\n",
            "10/10 [==============================] - 0s 35ms/step - loss: 0.0101 - accuracy: 0.9996 - val_loss: 0.0011 - val_accuracy: 1.0000\n"
          ],
          "name": "stdout"
        }
      ]
    },
    {
      "cell_type": "code",
      "metadata": {
        "colab": {
          "base_uri": "https://localhost:8080/",
          "height": 482
        },
        "id": "JlETHCUy4Yd7",
        "outputId": "dd01366d-97cd-4ed6-e4b4-951aa5b7593b"
      },
      "source": [
        "#Plot the training history of the CNN\r\n",
        "import matplotlib.pyplot as plt\r\n",
        "from matplotlib.pyplot import figure\r\n",
        "acc = historyC.history['accuracy']\r\n",
        "val_acc = historyC.history['val_accuracy']\r\n",
        "loss = historyC.history['loss']\r\n",
        "val_loss = historyC.history['val_loss']\r\n",
        "\r\n",
        "epochs = range(len(acc))\r\n",
        "\r\n",
        "plt.figure(figsize=(6,4), dpi=120)\r\n",
        "\r\n",
        "plt.plot(epochs, acc, 'r', label='Training accuracy')\r\n",
        "plt.plot(epochs, val_acc, 'b', label='Validation accuracy')\r\n",
        "plt.title('Training and validation accuracy')\r\n",
        "plt.xlabel('Epochs')\r\n",
        "plt.ylabel('Accuracy')\r\n",
        "plt.legend(loc=0)\r\n",
        "plt.show()"
      ],
      "execution_count": null,
      "outputs": [
        {
          "output_type": "display_data",
          "data": {
            "image/png": "[encoded data removed]",
            "text/plain": [
              "<Figure size 720x480 with 1 Axes>"
            ]
          },
          "metadata": {
            "tags": [],
            "needs_background": "light"
          }
        }
      ]
    },
    {
      "cell_type": "code",
      "metadata": {
        "colab": {
          "base_uri": "https://localhost:8080/",
          "height": 701
        },
        "id": "xMhVNOzLn7ta",
        "outputId": "9ddbd43f-5b04-4ee5-b361-09ff915f9d63"
      },
      "source": [
        "Labels = ['Amit', 'Aswal', 'Daniel', 'John', 'Kevin', 'Lalita', 'Ram', 'Sancho', 'Vinod', 'Vivek']\r\n",
        "\r\n",
        "#Display the confusion matrix\r\n",
        "def show_confusion_matrix(validations, predictions):\r\n",
        "\r\n",
        "    matrix = metrics.confusion_matrix(validations, predictions)\r\n",
        "    plt.figure(figsize=(7, 5), dpi=80)\r\n",
        "    #plt.figure(figsize=(9, 6))\r\n",
        "\r\n",
        "    sns.heatmap(matrix,\r\n",
        "                cmap='coolwarm',\r\n",
        "                linecolor='white',\r\n",
        "                linewidths=1,\r\n",
        "                xticklabels=Labels,\r\n",
        "                yticklabels=Labels,\r\n",
        "                annot=True,\r\n",
        "                fmt='d')\r\n",
        "    plt.title('Confusion Matrix')\r\n",
        "    plt.ylabel('True Label')\r\n",
        "    plt.xlabel('Predicted Label')\r\n",
        "    plt.show()\r\n",
        "    #fig.savefig('Confusion_Matrix.png')\r\n",
        "\r\n",
        "\r\n",
        "y_pred_test = modelC.predict(X1_test)\r\n",
        "# Take the class with the highest probability from the test predictions\r\n",
        "max_y_pred_test = np.argmax(y_pred_test, axis=1)\r\n",
        "max_y_test = np.argmax(Y_test1, axis=1)\r\n",
        "\r\n",
        "show_confusion_matrix(max_y_test, max_y_pred_test)\r\n",
        "print(classification_report(max_y_test, max_y_pred_test))"
      ],
      "execution_count": null,
      "outputs": [
        {
          "output_type": "display_data",
          "data": {
            "image/png": "[encoded data removed]",
            "text/plain": [
              "<Figure size 560x400 with 2 Axes>"
            ]
          },
          "metadata": {
            "tags": [],
            "needs_background": "light"
          }
        },
        {
          "output_type": "stream",
          "text": [
            "              precision    recall  f1-score   support\n",
            "\n",
            "           0       1.00      1.00      1.00       300\n",
            "           1       1.00      1.00      1.00       300\n",
            "           2       1.00      1.00      1.00       300\n",
            "           3       1.00      1.00      1.00       300\n",
            "           4       1.00      1.00      1.00       300\n",
            "           5       1.00      1.00      1.00       300\n",
            "           6       1.00      1.00      1.00       300\n",
            "           7       1.00      1.00      1.00       300\n",
            "           8       1.00      1.00      1.00       300\n",
            "           9       1.00      1.00      1.00       300\n",
            "\n",
            "    accuracy                           1.00      3000\n",
            "   macro avg       1.00      1.00      1.00      3000\n",
            "weighted avg       1.00      1.00      1.00      3000\n",
            "\n"
          ],
          "name": "stdout"
        }
      ]
    }
  ]
}