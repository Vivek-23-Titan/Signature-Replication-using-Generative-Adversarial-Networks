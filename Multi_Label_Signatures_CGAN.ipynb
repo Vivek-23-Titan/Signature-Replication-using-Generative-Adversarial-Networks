{
  "nbformat": 4,
  "nbformat_minor": 0,
  "metadata": {
    "colab": {
      "name": "Multi-Label Signatures CGAN.ipynb",
      "provenance": [],
      "collapsed_sections": [],
      "toc_visible": true,
      "authorship_tag": "ABX9TyOMkGnHS5L2RaXZmVukwZ7c",
      "include_colab_link": true
    },
    "kernelspec": {
      "name": "python3",
      "display_name": "Python 3"
    },
    "accelerator": "GPU"
  },
  "cells": [
    {
      "cell_type": "markdown",
      "metadata": {
        "id": "view-in-github",
        "colab_type": "text"
      },
      "source": [
        "<a href=\"https://colab.research.google.com/github/Vivek-23-Titan/Signature-Replication-using-Generative-Adversarial-Networks/blob/master/Multi_Label_Signatures_CGAN.ipynb\" target=\"_parent\"><img src=\"https://colab.research.google.com/assets/colab-badge.svg\" alt=\"Open In Colab\"/></a>"
      ]
    },
    {
      "cell_type": "markdown",
      "metadata": {
        "id": "opAJF7jd0U-N",
        "colab_type": "text"
      },
      "source": [
        "##**Import Libraries**##"
      ]
    },
    {
      "cell_type": "code",
      "metadata": {
        "id": "3XM6ZBcgNEKQ",
        "colab_type": "code",
        "colab": {
          "base_uri": "https://localhost:8080/",
          "height": 35
        },
        "outputId": "5983b33f-deb5-4b5a-d9b7-847112ee1554"
      },
      "source": [
        "import tensorflow as tf\n",
        "print(tf.__version__)\n",
        "\n",
        "from keras.models import Sequential, Model\n",
        "from keras.layers import Input, Dense, LeakyReLU, BatchNormalization, ReLU, Dropout\n",
        "from keras.layers import Conv2D, Conv2DTranspose, Reshape, Flatten, Activation, ZeroPadding2D, UpSampling2D, MaxPooling2D\n",
        "from keras.optimizers import Adam, RMSprop\n",
        "from keras import initializers\n",
        "from keras.utils import plot_model, np_utils\n",
        "from keras import backend as K\n",
        "import numpy as np\n",
        "import matplotlib.pyplot as plt\n",
        "\n",
        "from tensorflow.keras.preprocessing.image import ImageDataGenerator\n",
        "import tensorflow as tf\n",
        "import keras_preprocessing\n",
        "from keras_preprocessing import image\n",
        "\n",
        "from __future__ import print_function, division\n",
        "\n",
        "from keras.layers.advanced_activations import LeakyReLU\n",
        "from keras.layers import BatchNormalization, Dropout\n",
        "from keras.layers.merge import concatenate\n",
        "from keras.utils import to_categorical, plot_model\n",
        "import keras\n",
        "\n",
        "import matplotlib.cm as cm\n",
        "from sklearn import metrics\n",
        "import seaborn as sns\n",
        "from PIL import Image\n",
        "\n",
        "import imageio\n",
        "from skimage import img_as_ubyte\n",
        "import os"
      ],
      "execution_count": null,
      "outputs": [
        {
          "output_type": "stream",
          "text": [
            "2.3.0\n"
          ],
          "name": "stdout"
        }
      ]
    },
    {
      "cell_type": "code",
      "metadata": {
        "id": "PIt_E9gZNLbj",
        "colab_type": "code",
        "colab": {
          "base_uri": "https://localhost:8080/",
          "height": 124
        },
        "outputId": "c918f6fd-d622-48be-86ab-73391d673a4f"
      },
      "source": [
        "from google.colab import drive\n",
        "drive.mount('/content/drive')"
      ],
      "execution_count": null,
      "outputs": [
        {
          "output_type": "stream",
          "text": [
            "Go to this URL in a browser: https://accounts.google.com/o/oauth2/auth?client_id=947318989803-6bn6qk8qdgf4n4g3pfee6491hc0brc4i.apps.googleusercontent.com&redirect_uri=urn%3aietf%3awg%3aoauth%3a2.0%3aoob&scope=email%20https%3a%2f%2fwww.googleapis.com%2fauth%2fdocs.test%20https%3a%2f%2fwww.googleapis.com%2fauth%2fdrive%20https%3a%2f%2fwww.googleapis.com%2fauth%2fdrive.photos.readonly%20https%3a%2f%2fwww.googleapis.com%2fauth%2fpeopleapi.readonly&response_type=code\n",
            "\n",
            "Enter your authorization code:\n",
            "··········\n",
            "Mounted at /content/drive\n"
          ],
          "name": "stdout"
        }
      ]
    },
    {
      "cell_type": "markdown",
      "metadata": {
        "id": "X6eehz0E0aVa",
        "colab_type": "text"
      },
      "source": [
        "##**Prepare CGAN Training Data**##"
      ]
    },
    {
      "cell_type": "code",
      "metadata": {
        "id": "C_rYfoOY_nLy",
        "colab_type": "code",
        "colab": {
          "base_uri": "https://localhost:8080/",
          "height": 173
        },
        "outputId": "f11a31cb-8592-4a1b-d8a8-47e35895f471"
      },
      "source": [
        "%cd /content/drive/My Drive/My Segmented Signatures\n",
        "%ls\n",
        "!cp ./My_Segmented_Signatures.zip /content/"
      ],
      "execution_count": null,
      "outputs": [
        {
          "output_type": "stream",
          "text": [
            "/content/drive/My Drive/My Segmented Signatures\n",
            " \u001b[0m\u001b[01;34mamit\u001b[0m/                    \u001b[01;34m'My Segmented Signatures'\u001b[0m/      \u001b[01;34mSegmented\u001b[0m/\n",
            " \u001b[01;34maswal\u001b[0m/                    My_Segmented_Signatures.zip    \u001b[01;34mSignatures\u001b[0m/\n",
            " \u001b[01;34mdaniel\u001b[0m/                   \u001b[01;34mMy_signatures\u001b[0m/                 \u001b[01;34mvinod\u001b[0m/\n",
            " Gen_Signatures_3000.zip   My_signatures_1000.zip         \u001b[01;34mvivek\u001b[0m/\n",
            " \u001b[01;34mjohn\u001b[0m/                     New_Generated_Signatures.zip   \u001b[01;34mX_test\u001b[0m/\n",
            " \u001b[01;34mkevin\u001b[0m/                    New_Gen_Signatures_5000.zip    \u001b[01;34mX_train\u001b[0m/\n",
            " \u001b[01;34mlalita\u001b[0m/                   \u001b[01;34mram\u001b[0m/\n",
            " \u001b[01;34mModels\u001b[0m/                   \u001b[01;34msancho\u001b[0m/\n"
          ],
          "name": "stdout"
        }
      ]
    },
    {
      "cell_type": "code",
      "metadata": {
        "id": "4LQbVRITFw4_",
        "colab_type": "code",
        "colab": {
          "base_uri": "https://localhost:8080/",
          "height": 52
        },
        "outputId": "ec7d225e-5ec8-4a87-8bef-f1972aceafeb"
      },
      "source": [
        "%cd /content/\n",
        "\n",
        "from zipfile import ZipFile\n",
        "with ZipFile('/content/My_Segmented_Signatures.zip', 'r') as zip:\n",
        "  zip.extractall()\n",
        "  print(\"Done\")"
      ],
      "execution_count": null,
      "outputs": [
        {
          "output_type": "stream",
          "text": [
            "/content\n",
            "Done\n"
          ],
          "name": "stdout"
        }
      ]
    },
    {
      "cell_type": "code",
      "metadata": {
        "id": "xrNTpxK4SJ_j",
        "colab_type": "code",
        "colab": {}
      },
      "source": [
        "import glob\n",
        "import cv2\n",
        "import PIL\n",
        "from PIL import ImageOps\n",
        "\n",
        "path = glob.glob(r\"/content/My Segmented Signatures/amit/*.PNG\")\n",
        "X_train1 = []\n",
        "Y_train1 = []\n",
        "dim = (64,64) # (width = cols, height = rows)\n",
        "\n",
        "for img in path:\n",
        "    n = cv2.imread(img,0)    \n",
        "    resized = cv2.resize(n, dim)\n",
        "    (thresh, im_bw) = cv2.threshold(resized, 128, 255, cv2.THRESH_BINARY | cv2.THRESH_OTSU)\n",
        "    im_bw = cv2.bitwise_not(im_bw)\n",
        "    X_train1.append(im_bw)\n",
        "    Y_train1.append([0])\n",
        "\n",
        "Y_train1 = np.array(Y_train1)"
      ],
      "execution_count": null,
      "outputs": []
    },
    {
      "cell_type": "code",
      "metadata": {
        "id": "jicLaNcSUHIu",
        "colab_type": "code",
        "colab": {}
      },
      "source": [
        "path = glob.glob(r\"/content/My Segmented Signatures/aswal/*.PNG\")\n",
        "X_train2 = []\n",
        "Y_train2 = []\n",
        "#dim = (64,64) # (width = cols, height = rows)\n",
        "\n",
        "for img in path:\n",
        "    n = cv2.imread(img,0)    \n",
        "    resized = cv2.resize(n, dim)\n",
        "    (thresh, im_bw) = cv2.threshold(resized, 128, 255, cv2.THRESH_BINARY | cv2.THRESH_OTSU)\n",
        "    im_bw = cv2.bitwise_not(im_bw)\n",
        "    X_train2.append(im_bw)\n",
        "    Y_train2.append([1])\n",
        "\n",
        "Y_train2 = np.array(Y_train2)"
      ],
      "execution_count": null,
      "outputs": []
    },
    {
      "cell_type": "code",
      "metadata": {
        "id": "1AGx1MVBUMkk",
        "colab_type": "code",
        "colab": {}
      },
      "source": [
        "path = glob.glob(r\"/content/My Segmented Signatures/daniel/*.PNG\")\n",
        "X_train3 = []\n",
        "Y_train3 = []\n",
        "#dim = (64,64) # (width = cols, height = rows)\n",
        "\n",
        "for img in path:\n",
        "    n = cv2.imread(img,0)    \n",
        "    resized = cv2.resize(n, dim)\n",
        "    (thresh, im_bw) = cv2.threshold(resized, 128, 255, cv2.THRESH_BINARY | cv2.THRESH_OTSU)\n",
        "    im_bw = cv2.bitwise_not(im_bw)\n",
        "    X_train3.append(im_bw)\n",
        "    Y_train3.append([2])\n",
        "\n",
        "Y_train3 = np.array(Y_train3)"
      ],
      "execution_count": null,
      "outputs": []
    },
    {
      "cell_type": "code",
      "metadata": {
        "id": "IjRestUGUNP4",
        "colab_type": "code",
        "colab": {}
      },
      "source": [
        "path = glob.glob(r\"/content/My Segmented Signatures/john/*.PNG\")\n",
        "X_train4 = []\n",
        "Y_train4 = []\n",
        "#dim = (64,64) # (width = cols, height = rows)\n",
        "\n",
        "for img in path:\n",
        "    n = cv2.imread(img,0)    \n",
        "    resized = cv2.resize(n, dim)\n",
        "    (thresh, im_bw) = cv2.threshold(resized, 128, 255, cv2.THRESH_BINARY | cv2.THRESH_OTSU)\n",
        "    im_bw = cv2.bitwise_not(im_bw)\n",
        "    X_train4.append(im_bw)\n",
        "    Y_train4.append([3])\n",
        "\n",
        "Y_train4 = np.array(Y_train4)"
      ],
      "execution_count": null,
      "outputs": []
    },
    {
      "cell_type": "code",
      "metadata": {
        "id": "Ab4T5ddfUN21",
        "colab_type": "code",
        "colab": {}
      },
      "source": [
        "path = glob.glob(r\"/content/My Segmented Signatures/kevin/*.PNG\")\n",
        "X_train5 = []\n",
        "Y_train5 = []\n",
        "#dim = (64,64) # (width = cols, height = rows)\n",
        "\n",
        "for img in path:\n",
        "    n = cv2.imread(img,0)    \n",
        "    resized = cv2.resize(n, dim)\n",
        "    (thresh, im_bw) = cv2.threshold(resized, 128, 255, cv2.THRESH_BINARY | cv2.THRESH_OTSU)\n",
        "    im_bw = cv2.bitwise_not(im_bw)\n",
        "    X_train5.append(im_bw)\n",
        "    Y_train5.append([4])\n",
        "\n",
        "Y_train5 = np.array(Y_train5)"
      ],
      "execution_count": null,
      "outputs": []
    },
    {
      "cell_type": "code",
      "metadata": {
        "id": "KxIQeYC8UOzF",
        "colab_type": "code",
        "colab": {}
      },
      "source": [
        "path = glob.glob(r\"/content/My Segmented Signatures/lalita/*.PNG\")\n",
        "X_train6 = []\n",
        "Y_train6 = []\n",
        "#dim = (64,64) # (width = cols, height = rows)\n",
        "\n",
        "for img in path:\n",
        "    n = cv2.imread(img,0)    \n",
        "    resized = cv2.resize(n, dim)\n",
        "    (thresh, im_bw) = cv2.threshold(resized, 128, 255, cv2.THRESH_BINARY | cv2.THRESH_OTSU)\n",
        "    im_bw = cv2.bitwise_not(im_bw)\n",
        "    X_train6.append(im_bw)\n",
        "    Y_train6.append([5])\n",
        "\n",
        "Y_train6 = np.array(Y_train6)"
      ],
      "execution_count": null,
      "outputs": []
    },
    {
      "cell_type": "code",
      "metadata": {
        "id": "16d-PjWTUQCp",
        "colab_type": "code",
        "colab": {}
      },
      "source": [
        "path = glob.glob(r\"/content/My Segmented Signatures/ram/*.PNG\")\n",
        "X_train7 = []\n",
        "Y_train7 = []\n",
        "#dim = (64,64) # (width = cols, height = rows)\n",
        "\n",
        "for img in path:\n",
        "    n = cv2.imread(img,0)    \n",
        "    resized = cv2.resize(n, dim)\n",
        "    (thresh, im_bw) = cv2.threshold(resized, 128, 255, cv2.THRESH_BINARY | cv2.THRESH_OTSU)\n",
        "    im_bw = cv2.bitwise_not(im_bw)\n",
        "    X_train7.append(im_bw)\n",
        "    Y_train7.append([6])\n",
        "\n",
        "Y_train7 = np.array(Y_train7)"
      ],
      "execution_count": null,
      "outputs": []
    },
    {
      "cell_type": "code",
      "metadata": {
        "id": "5Md2RIyNUQ2v",
        "colab_type": "code",
        "colab": {}
      },
      "source": [
        "path = glob.glob(r\"/content/My Segmented Signatures/sancho/*.PNG\")\n",
        "X_train8 = []\n",
        "Y_train8 = []\n",
        "#dim = (64,64) # (width = cols, height = rows)\n",
        "\n",
        "for img in path:\n",
        "    n = cv2.imread(img,0)    \n",
        "    resized = cv2.resize(n, dim)\n",
        "    (thresh, im_bw) = cv2.threshold(resized, 128, 255, cv2.THRESH_BINARY | cv2.THRESH_OTSU)\n",
        "    im_bw = cv2.bitwise_not(im_bw)\n",
        "    X_train8.append(im_bw)\n",
        "    Y_train8.append([7])\n",
        "\n",
        "Y_train8 = np.array(Y_train8)"
      ],
      "execution_count": null,
      "outputs": []
    },
    {
      "cell_type": "code",
      "metadata": {
        "id": "VuxvUQDqURd2",
        "colab_type": "code",
        "colab": {}
      },
      "source": [
        "path = glob.glob(r\"/content/My Segmented Signatures/vinod/*.PNG\")\n",
        "X_train9 = []\n",
        "Y_train9 = []\n",
        "#dim = (64,64) # (width = cols, height = rows)\n",
        "\n",
        "for img in path:\n",
        "    n = cv2.imread(img,0)    \n",
        "    resized = cv2.resize(n, dim)\n",
        "    (thresh, im_bw) = cv2.threshold(resized, 128, 255, cv2.THRESH_BINARY | cv2.THRESH_OTSU)\n",
        "    im_bw = cv2.bitwise_not(im_bw)\n",
        "    X_train9.append(im_bw)\n",
        "    Y_train9.append([8])\n",
        "\n",
        "Y_train9 = np.array(Y_train9)"
      ],
      "execution_count": null,
      "outputs": []
    },
    {
      "cell_type": "code",
      "metadata": {
        "id": "bV3RwWwvUSS8",
        "colab_type": "code",
        "colab": {}
      },
      "source": [
        "path = glob.glob(r\"/content/My Segmented Signatures/vivek/*.PNG\")\n",
        "X_train10 = []\n",
        "Y_train10 = []\n",
        "#dim = (64,64) # (width = cols, height = rows)\n",
        "\n",
        "for img in path:\n",
        "    n = cv2.imread(img,0)    \n",
        "    resized = cv2.resize(n, dim)\n",
        "    (thresh, im_bw) = cv2.threshold(resized, 128, 255, cv2.THRESH_BINARY | cv2.THRESH_OTSU)\n",
        "    im_bw = cv2.bitwise_not(im_bw)\n",
        "    X_train10.append(im_bw)\n",
        "    Y_train10.append([9])\n",
        "\n",
        "Y_train10 = np.array(Y_train10)"
      ],
      "execution_count": null,
      "outputs": []
    },
    {
      "cell_type": "code",
      "metadata": {
        "id": "wCbDnoNCWiCP",
        "colab_type": "code",
        "colab": {
          "base_uri": "https://localhost:8080/",
          "height": 52
        },
        "outputId": "cd3509df-3e13-4a65-e7c8-182919676fdc"
      },
      "source": [
        "X_train = np.concatenate((X_train1,X_train2,X_train3,X_train4,X_train5,X_train6,X_train7,X_train8,X_train9,X_train10))\n",
        "Y_train = np.concatenate((Y_train1,Y_train2,Y_train3,Y_train4,Y_train5,Y_train6,Y_train7,Y_train8,Y_train9,Y_train10))\n",
        "\n",
        "X_train = np.array(X_train)\n",
        "Y_train = np.array(Y_train)\n",
        "\n",
        "X = X_train\n",
        "Y = Y_train\n",
        "print(X_train.shape)\n",
        "print(Y_train.shape)"
      ],
      "execution_count": null,
      "outputs": [
        {
          "output_type": "stream",
          "text": [
            "(1000, 64, 64)\n",
            "(1000, 1)\n"
          ],
          "name": "stdout"
        }
      ]
    },
    {
      "cell_type": "markdown",
      "metadata": {
        "id": "65GTjLMk0OLB",
        "colab_type": "text"
      },
      "source": [
        "##**CGAN Model**##"
      ]
    },
    {
      "cell_type": "code",
      "metadata": {
        "id": "Vu70GwcJNyfZ",
        "colab_type": "code",
        "colab": {}
      },
      "source": [
        "!rm -rf /content/images/\n",
        "!mkdir -p /content/images/\n",
        "\n",
        "X_test = []\n",
        "Y_test = []"
      ],
      "execution_count": null,
      "outputs": []
    },
    {
      "cell_type": "code",
      "metadata": {
        "id": "9_I15TfDvrfO",
        "colab_type": "code",
        "colab": {}
      },
      "source": [
        "X_test = []\n",
        "Y_test = []\n",
        "\n",
        "Labels = ['Amit','Aswal','Daniel','John','Kevin','Lalita','Ram','Sancho','Vinod','Vivek']\n",
        "\n",
        "class CGAN:\n",
        "    def __init__(self, img_width, img_height, n_channels, n_classes):\n",
        "        self.img_width = img_width\n",
        "        self.img_height = img_height\n",
        "        self.n_channels = n_channels\n",
        "        self.img_shape = (self.img_width, self.img_height, self.n_channels)\n",
        "        self.n_classes = n_classes\n",
        "        self.latent_dim = 100\n",
        "\n",
        "        optimizer = Adam(0.0002, 0.5)\n",
        "\n",
        "        # Build and compile the discriminator\n",
        "        self.discriminator = self.build_discriminator_model()\n",
        "        self.discriminator.compile(loss=['binary_crossentropy'],\n",
        "                                   optimizer=optimizer,\n",
        "                                   metrics=['accuracy'])\n",
        "\n",
        "        self.generator = self.build_generator()\n",
        "\n",
        "        noise = Input(shape=(self.latent_dim, ))\n",
        "        label = Input(shape=(self.n_classes,))\n",
        "        img = self.generator([noise, label])\n",
        "\n",
        "        # during generator updating,  the discriminator is fixed (will not be updated).\n",
        "        self.discriminator.trainable = False\n",
        "\n",
        "        # The discriminator takes generated image and label as input and determines its validity\n",
        "        validity = self.discriminator([img, label])\n",
        "\n",
        "        self.cgan_model = Model([noise, label], validity)\n",
        "        self.cgan_model.compile(loss=['binary_crossentropy'],\n",
        "                                optimizer=optimizer,\n",
        "                                metrics=['accuracy'])\n",
        "\n",
        "        plot_model(self.cgan_model, show_shapes=True, to_file='cgan-adversarial_model.png')\n",
        "        plot_model(self.generator, show_shapes=True, to_file='cgan-generator_model.png')\n",
        "        plot_model(self.discriminator, show_shapes=True, to_file='cgan-discriminator.png')\n",
        "\n",
        "    def build_discriminator_model(self):\n",
        "\n",
        "        model_input = Input(shape=(self.img_width, self.img_height, self.n_channels), name='discriminator_input')\n",
        "\n",
        "        x = model_input\n",
        "\n",
        "        labels = Input(shape=(self.n_classes,))\n",
        "        # labels_embedded = Flatten()(Embedding(self.num_classes, self.latent_dim)(labels))\n",
        "        labels_embedded = Dense(self.img_width * self.img_width)(labels)\n",
        "        labels_embedded = Reshape((self.img_width, self.img_height, self.n_channels))(labels_embedded)\n",
        "\n",
        "        x = concatenate([x, labels_embedded])\n",
        "        x = LeakyReLU(alpha=0.1)(x)\n",
        "\n",
        "        x = Conv2D(filters=32, kernel_size=5, strides=2, padding='same')(x)\n",
        "        x = LeakyReLU(alpha=0.1)(x)\n",
        "\n",
        "        x = Conv2D(filters=64, kernel_size=5, strides=2, padding='same')(x)\n",
        "        x = LeakyReLU(alpha=0.1)(x)\n",
        "\n",
        "        x = Conv2D(filters=128, kernel_size=5, strides=2, padding='same')(x)\n",
        "        x = LeakyReLU(alpha=0.1)(x)\n",
        "\n",
        "        x = Conv2D(filters=256, kernel_size=5, strides=1, padding='same')(x)\n",
        "        x = LeakyReLU(alpha=0.1)(x)\n",
        "\n",
        "        x = Flatten()(x)\n",
        "        x = Dense(1)(x)\n",
        "        x = Activation('sigmoid')(x)\n",
        "        # model_input is conditioned by labels\n",
        "        discriminator = Model([model_input, labels], x, name='discriminator')\n",
        "\n",
        "        return discriminator\n",
        "\n",
        "    def build_generator(self):\n",
        "        image_resize = self.img_height // 4\n",
        "\n",
        "        inputs = Input(shape=(self.latent_dim,), name='z_input')\n",
        "        labels = Input(shape=(self.n_classes,), name='class_labels')\n",
        "\n",
        "        x = concatenate([inputs, labels], axis=1)\n",
        "        x = Dense(image_resize * image_resize * 128)(x)\n",
        "        x = Reshape((image_resize, image_resize, 128))(x)\n",
        "\n",
        "        x = BatchNormalization()(x)\n",
        "        x = Activation('relu')(x)\n",
        "        #x = Dropout(0.25)(x) Didnt work\n",
        "        x = Conv2DTranspose(filters=128, kernel_size=5, strides=2, padding='same')(x)\n",
        "\n",
        "        #x = BatchNormalization()(x)\n",
        "        #x = Activation('relu')(x)\n",
        "        #x = Dropout(0.25)(x)\n",
        "        #x = Conv2DTranspose(filters=128, kernel_size=5, strides=2, padding='same')(x)\n",
        "\n",
        "        x = BatchNormalization()(x)\n",
        "        x = Activation('relu')(x)\n",
        "        x = Conv2DTranspose(filters=64, kernel_size=5, strides=2, padding='same')(x)\n",
        "\n",
        "        x = BatchNormalization()(x)\n",
        "        x = Activation('relu')(x)\n",
        "        x = Conv2DTranspose(filters=32, kernel_size=3, strides=1, padding='same')(x)\n",
        "\n",
        "        x = BatchNormalization()(x)\n",
        "        x = Activation('relu')(x)\n",
        "        x = Conv2DTranspose(filters=1, kernel_size=3, strides=1, padding='same')(x)\n",
        "\n",
        "        x = Activation('sigmoid')(x)\n",
        "        # input is conditioned by labels\n",
        "        generator = Model([inputs, labels], x, name='generator')\n",
        "        return generator\n",
        "\n",
        "    def train(self, x_train, y_train, epochs=1000, batch_size=128, sample_interval=50):\n",
        "\n",
        "        x_train = np.reshape(x_train, [-1, self.img_width, self.img_height, self.n_channels])\n",
        "        x_train = x_train.astype('float32') / 255\n",
        "\n",
        "        y_train = to_categorical(y_train)\n",
        "\n",
        "        # Adversarial ground truths\n",
        "        real = np.ones((batch_size, 1))\n",
        "        fake = np.zeros((batch_size, 1))\n",
        "\n",
        "        for epoch in range(epochs):\n",
        "\n",
        "            #  --------------------- Train Discriminator ---------------------\n",
        "            # Select a random half batch of images\n",
        "            idx = np.random.randint(0, x_train.shape[0], size=batch_size)\n",
        "            imgs, labels = x_train[idx], y_train[idx]\n",
        "\n",
        "            # Generate sample noise for generator input\n",
        "            noise = self.generate_noise(\"uniform_noise\", batch_size)\n",
        "\n",
        "            # Generate a half batch of new images\n",
        "            # we can use labels instead of fake_labels; because it is fake for noise\n",
        "            gen_imgs = self.generator.predict([noise, labels])\n",
        "\n",
        "            # --------------------- Train the Discriminator ---------------------\n",
        "            d_loss_real = self.discriminator.train_on_batch([imgs, labels], real)\n",
        "            d_loss_fake = self.discriminator.train_on_batch([gen_imgs, labels], fake)\n",
        "            d_loss = 0.5 * np.add(d_loss_real, d_loss_fake)\n",
        "\n",
        "            #  --------------------- Train the Generator ---------------------\n",
        "            # Condition on labels (random one-hot labels)\n",
        "            fake_labels = np.eye(self.n_classes)[np.random.choice(self.n_classes, batch_size)]\n",
        "\n",
        "            # Train the generator\n",
        "            cgan_loss, acc = self.cgan_model.train_on_batch([noise, fake_labels], real)\n",
        "\n",
        "            # Plot the progress\n",
        "            print(\"%d [D loss: %f, acc.: %.2f%%] [G loss: %f]\" % (epoch, d_loss[0], 100*d_loss[1], cgan_loss))\n",
        "\n",
        "            # If at save interval => save generated image samples\n",
        "            if epoch % sample_interval == 0:\n",
        "                self.sample_images(epoch)\n",
        "\n",
        "    def sample_images(self, epoch):\n",
        "\n",
        "        r, c = 2, 5\n",
        "        noise = np.random.uniform(-1.0, 1.0, size=[r * c, self.latent_dim])\n",
        "\n",
        "        sampled_labels = np.arange(0, 10).reshape(-1, 1)\n",
        "        sampled_labels_categorical = to_categorical(sampled_labels)\n",
        "\n",
        "        gen_imgs = self.generator.predict([noise, sampled_labels_categorical])\n",
        "\n",
        "        # Rescale images 0 - 1\n",
        "        # gen_imgs = 0.5 * gen_imgs + 0.5\n",
        "        \n",
        "        #for epoch>70:\n",
        "        X_test.append(gen_imgs)\n",
        "        Y_test.append(sampled_labels)\n",
        "        sampled_labels = np.array(sampled_labels)\n",
        "\n",
        "\n",
        "        fig, axs = plt.subplots(r, c)\n",
        "        cnt = 0\n",
        "        for i in range(r):\n",
        "            for j in range(c):\n",
        "                axs[i, j].imshow(gen_imgs[cnt, :, :, 0], cmap='gray')\n",
        "                axs[i, j].set_title(\"%s\" % Labels[cnt])\n",
        "                axs[i, j].axis('off')\n",
        "                cnt += 1\n",
        "        fig.savefig(\"images/%d.png\" % epoch, bbox_inches='tight', dpi=200)\n",
        "        fig = np.array(fig)\n",
        "        plt.close()\n",
        "        \n",
        "\n",
        "    def generate_noise(self, type_of_noise, batch_size):\n",
        "        if type_of_noise == \"normal_noise\":\n",
        "            return np.random.normal(0, 1, size=[batch_size, self.latent_dim])\n",
        "\n",
        "        elif type_of_noise == \"uniform_noise\":\n",
        "            return np.random.uniform(-1.0, 1.0, size=[batch_size, self.latent_dim])\n",
        "\n",
        "\n",
        "if __name__ == '__main__':\n",
        "    # Load the dataset\n",
        "\n",
        "    X_train = X\n",
        "    Y_train = Y\n",
        "\n",
        "    num_classes = 10\n",
        "\n",
        "    img_w, img_h = X_train[0].shape\n",
        "    num_channels = 1\n",
        "\n",
        "    cgan = CGAN(img_w, img_h, num_channels, num_classes)\n",
        "\n",
        "    cgan.train(X_train, Y_train, epochs=20000, batch_size=128, sample_interval=20)"
      ],
      "execution_count": null,
      "outputs": []
    },
    {
      "cell_type": "code",
      "metadata": {
        "id": "gxCiUKYIHqJj",
        "colab_type": "code",
        "colab": {}
      },
      "source": [
        "X_test = np.array(X_test)\n",
        "Y_test = np.array(Y_test)\n",
        "Y1 = Y_test\n",
        "X1 = X_test\n",
        "\n",
        "print(X_test.shape)\n",
        "print(Y_test.shape)"
      ],
      "execution_count": null,
      "outputs": []
    },
    {
      "cell_type": "code",
      "metadata": {
        "id": "8XBZFDUMyztS",
        "colab_type": "code",
        "colab": {
          "base_uri": "https://localhost:8080/",
          "height": 52
        },
        "outputId": "15b49db9-15e4-4103-885a-5aeb3e080950"
      },
      "source": [
        "X_test = np.array(X_test)\n",
        "Y_test = np.array(Y_test)\n",
        "X1_test = np.reshape(X_test,(10000,64,64,1))\n",
        "Y1_test = np.reshape(Y_test,(10000,1))\n",
        "\n",
        "print(X1_test.shape)\n",
        "print(Y1_test.shape)"
      ],
      "execution_count": null,
      "outputs": [
        {
          "output_type": "stream",
          "text": [
            "(10000, 64, 64, 1)\n",
            "(10000, 1)\n"
          ],
          "name": "stdout"
        }
      ]
    },
    {
      "cell_type": "code",
      "metadata": {
        "id": "OlzMoKPa1t2y",
        "colab_type": "code",
        "colab": {}
      },
      "source": [
        "X3 = X1_test[5000:]\n",
        "Y3 = Y1_test[5000:]\n",
        "X2 = X_train\n",
        "Y2 = Y_train\n",
        "\n",
        "print(X3.shape)"
      ],
      "execution_count": null,
      "outputs": []
    },
    {
      "cell_type": "code",
      "metadata": {
        "id": "BuRZ2XDpzeQ7",
        "colab_type": "code",
        "colab": {
          "base_uri": "https://localhost:8080/",
          "height": 285
        },
        "outputId": "92005cfd-4db3-4aca-ce8d-4dc4bc1f93bb"
      },
      "source": [
        "plt.imshow(np.squeeze(X3[3399]),cmap = 'gray')"
      ],
      "execution_count": null,
      "outputs": [
        {
          "output_type": "execute_result",
          "data": {
            "text/plain": [
              "<matplotlib.image.AxesImage at 0x7f3d7fd6f358>"
            ]
          },
          "metadata": {
            "tags": []
          },
          "execution_count": 31
        },
        {
          "output_type": "display_data",
          "data": {
            "image/png": "[encoded data removed]",
            "text/plain": [
              "<Figure size 432x288 with 1 Axes>"
            ]
          },
          "metadata": {
            "tags": [],
            "needs_background": "light"
          }
        }
      ]
    },
    {
      "cell_type": "code",
      "metadata": {
        "id": "KBG39pi41AHy",
        "colab_type": "code",
        "colab": {}
      },
      "source": [
        "for i in range(1000,1100):\n",
        "  plt.imshow(X3[i], cmap='gray')\n",
        "  plt.axis('off')\n",
        "  plt.show()"
      ],
      "execution_count": null,
      "outputs": []
    },
    {
      "cell_type": "markdown",
      "metadata": {
        "id": "OLFu-Uvq0FfY",
        "colab_type": "text"
      },
      "source": [
        "##**Saving the Generated Labels**##"
      ]
    },
    {
      "cell_type": "code",
      "metadata": {
        "id": "Mg8gnEk9vLmN",
        "colab_type": "code",
        "colab": {}
      },
      "source": [
        "!rm -rf /content/Images/amit\n",
        "!rm -rf /content/Images/aswal\n",
        "!rm -rf /content/Images/daniel\n",
        "!rm -rf /content/Images/john\n",
        "!rm -rf /content/Images/kevin\n",
        "!rm -rf /content/Images/lalita\n",
        "!rm -rf /content/Images/ram\n",
        "!rm -rf /content/Images/sancho\n",
        "!rm -rf /content/Images/vinod\n",
        "!rm -rf /content/Images/vivek\n",
        "\n",
        "\n",
        "!mkdir -p /content/Images/amit\n",
        "!mkdir -p /content/Images/aswal\n",
        "!mkdir -p /content/Images/daniel\n",
        "!mkdir -p /content/Images/john\n",
        "!mkdir -p /content/Images/kevin\n",
        "!mkdir -p /content/Images/lalita\n",
        "!mkdir -p /content/Images/ram\n",
        "!mkdir -p /content/Images/sancho\n",
        "!mkdir -p /content/Images/vinod\n",
        "!mkdir -p /content/Images/vivek"
      ],
      "execution_count": null,
      "outputs": []
    },
    {
      "cell_type": "code",
      "metadata": {
        "id": "-NtAstATQGj9",
        "colab_type": "code",
        "colab": {
          "base_uri": "https://localhost:8080/",
          "height": 277
        },
        "outputId": "a9b0fad1-0dd4-4a9f-97b3-ce4702a6e238"
      },
      "source": [
        "labels = ['amit','aswal','daniel','john','kevin','lalita','ram','sancho','vinod','vivek']\n",
        "\n",
        "for i in range(len(X1_test)):\n",
        "  f_name = labels[i%10]\n",
        "  imageio.imsave(os.path.join(\"/content/Images/\"+str(f_name)+\"/%d.png\" %i),img_as_ubyte(X1_test[i]))\n",
        "  if i%200 == 0:\n",
        "    print(i)"
      ],
      "execution_count": null,
      "outputs": [
        {
          "output_type": "stream",
          "text": [
            "0\n",
            "200\n",
            "400\n",
            "600\n",
            "800\n",
            "1000\n",
            "1200\n",
            "1400\n",
            "1600\n",
            "1800\n",
            "2000\n",
            "2200\n",
            "2400\n",
            "2600\n",
            "2800\n"
          ],
          "name": "stdout"
        }
      ]
    },
    {
      "cell_type": "code",
      "metadata": {
        "id": "1F3jdv2uMsav",
        "colab_type": "code",
        "colab": {}
      },
      "source": [
        "path = glob.glob(r\"/content/Images/amit/*.png\")\n",
        "X_test10 = []\n",
        "Y_test10 = []\n",
        "#dim = (64,64) # (width = cols, height = rows)\n",
        "\n",
        "for img in path:\n",
        "    n = cv2.imread(img,0)    \n",
        "    resized = cv2.resize(n, dim)\n",
        "    (thresh, im_bw) = cv2.threshold(resized, 128, 255, cv2.THRESH_BINARY | cv2.THRESH_OTSU)\n",
        "    im_bw = cv2.bitwise_not(im_bw)\n",
        "    X_test10.append(im_bw)\n",
        "    Y_test10.append([0])\n",
        "\n",
        "Y_test10 = np.array(Y_test10)"
      ],
      "execution_count": null,
      "outputs": []
    },
    {
      "cell_type": "code",
      "metadata": {
        "id": "lkQnU6ntM6Ez",
        "colab_type": "code",
        "colab": {}
      },
      "source": [
        "for i in range(len(X_test10)):\n",
        "  plt.imshow(X_test10[i])\n",
        "  plt.axis('off')\n",
        "  plt.show()"
      ],
      "execution_count": null,
      "outputs": []
    },
    {
      "cell_type": "code",
      "metadata": {
        "id": "N-iOf1qywh7q",
        "colab_type": "code",
        "colab": {
          "base_uri": "https://localhost:8080/",
          "height": 53
        },
        "outputId": "f82b0af1-c37e-4383-e008-c097a510ca82"
      },
      "source": [
        "%cd /content/\n",
        "import shutil\n",
        "shutil.make_archive(\"Gen_Signatures_3000\", 'zip', \"/content/Images\")"
      ],
      "execution_count": null,
      "outputs": [
        {
          "output_type": "stream",
          "text": [
            "/content\n"
          ],
          "name": "stdout"
        },
        {
          "output_type": "execute_result",
          "data": {
            "application/vnd.google.colaboratory.intrinsic+json": {
              "type": "string"
            },
            "text/plain": [
              "'/content/Gen_Signatures_3000.zip'"
            ]
          },
          "metadata": {
            "tags": []
          },
          "execution_count": 174
        }
      ]
    },
    {
      "cell_type": "markdown",
      "metadata": {
        "id": "yE-enPbsmQg5",
        "colab_type": "text"
      },
      "source": [
        "##**Import Generator and CGAN model from drive**##"
      ]
    },
    {
      "cell_type": "code",
      "metadata": {
        "id": "HNQt12-Vz1KP",
        "colab_type": "code",
        "colab": {
          "base_uri": "https://localhost:8080/",
          "height": 52
        },
        "outputId": "a8357e32-91de-464b-e497-4404cc0cd21d"
      },
      "source": [
        "%cd /content/drive/My Drive/My Segmented Signatures/\n",
        "!cp /content/Gen_Signatures_3000.zip ./"
      ],
      "execution_count": null,
      "outputs": [
        {
          "output_type": "stream",
          "text": [
            "/content/drive/My Drive/My Segmented Signatures\n",
            "cp: cannot stat '/content/Gen_Signatures_3000.zip': No such file or directory\n"
          ],
          "name": "stdout"
        }
      ]
    },
    {
      "cell_type": "code",
      "metadata": {
        "id": "x6k-UgFRaF6W",
        "colab_type": "code",
        "colab": {}
      },
      "source": [
        "#cgan.generator.save('/content/generator_20000_128x2.h5')\n",
        "#cgan.cgan_model.save('/content/cgan_20000_128x2.h5')"
      ],
      "execution_count": null,
      "outputs": []
    },
    {
      "cell_type": "code",
      "metadata": {
        "id": "cZ7UpfHkb8e8",
        "colab_type": "code",
        "colab": {
          "base_uri": "https://localhost:8080/",
          "height": 69
        },
        "outputId": "8f34a582-bc01-45b7-83f0-c90b7fc4e8b9"
      },
      "source": [
        "%cd /content/drive/My Drive/My Segmented Signatures/Models/\n",
        "!cp ./generator_20000_128x2.h5 /content/\n",
        "!cp ./cgan_20000_128x2.h5 /content/\n",
        "%ls"
      ],
      "execution_count": null,
      "outputs": [
        {
          "output_type": "stream",
          "text": [
            "/content/drive/My Drive/My Segmented Signatures/Models\n",
            "cgan_20000_128x2.h5         cgan-discriminator.png    generator_20000_128x2.h5\n",
            "cgan-adversarial_model.png  cgan-generator_model.png\n"
          ],
          "name": "stdout"
        }
      ]
    },
    {
      "cell_type": "code",
      "metadata": {
        "id": "P_Y9wMLPavP1",
        "colab_type": "code",
        "colab": {
          "base_uri": "https://localhost:8080/",
          "height": 72
        },
        "outputId": "05fed39b-856f-4ea6-efca-a73d459aa198"
      },
      "source": [
        "model_new_generator = keras.models.load_model('/content/generator_20000_128x2.h5')\n",
        "model_new_cgan = keras.models.load_model('/content/cgan_20000_128x2.h5')"
      ],
      "execution_count": null,
      "outputs": [
        {
          "output_type": "stream",
          "text": [
            "WARNING:tensorflow:No training configuration found in the save file, so the model was *not* compiled. Compile it manually.\n",
            "WARNING:tensorflow:Error in loading the saved optimizer state. As a result, your model is starting with a freshly initialized optimizer.\n"
          ],
          "name": "stdout"
        }
      ]
    },
    {
      "cell_type": "markdown",
      "metadata": {
        "id": "yvjx_mN9mjHw",
        "colab_type": "text"
      },
      "source": [
        "##**Generate Conditional Images**##"
      ]
    },
    {
      "cell_type": "code",
      "metadata": {
        "id": "UIIkXtYmbRmp",
        "colab_type": "code",
        "colab": {
          "base_uri": "https://localhost:8080/",
          "height": 35
        },
        "outputId": "e51b9561-df6f-445d-dac9-e2a86d8372af"
      },
      "source": [
        "from keras.utils import to_categorical\n",
        "\n",
        "t_labels = [[0],[1],[2],[3],[4], [5], [6], [7], [8], [9]]\n",
        "\n",
        "t_labels = to_categorical(t_labels, 10)\n",
        "#print(t_labels)\n",
        "\n",
        "batch_size = 10\n",
        "test1_data = []\n",
        "t11_labels = []\n",
        "\n",
        "for _ in range(100):\n",
        "  noise = cgan.generate_noise(\"uniform_noise\", batch_size)\n",
        "  gen_images = model_new_generator.predict([noise, t_labels])\n",
        "  for i in range(len(gen_images)):\n",
        "    #plt.imshow(np.squeeze(gen_images[i]), cmap = 'gray')\n",
        "    #plt.axis('off')\n",
        "    #plt.show()\n",
        "    test1_data.append(gen_images[i])\n",
        "    t11_labels.append(t_labels[i])\n",
        "test1_data = np.array(test1_data)\n",
        "t11_labels = np.array(t11_labels)\n",
        "print(test1_data.shape, t11_labels.shape)"
      ],
      "execution_count": null,
      "outputs": [
        {
          "output_type": "stream",
          "text": [
            "(1000, 64, 64, 1) (1000, 10)\n"
          ],
          "name": "stdout"
        }
      ]
    },
    {
      "cell_type": "code",
      "metadata": {
        "id": "pCQzBUZG39VN",
        "colab_type": "code",
        "colab": {
          "base_uri": "https://localhost:8080/",
          "height": 1000
        },
        "outputId": "50cf0805-867b-4e80-fb73-b83a70eee393"
      },
      "source": [
        "for i in range(20):\n",
        "  plt.imshow(np.squeeze(test1_data[i]), cmap='gray')\n",
        "  plt.axis('off')\n",
        "  plt.show()\n",
        "  print(t11_labels[i])"
      ],
      "execution_count": null,
      "outputs": [
        {
          "output_type": "display_data",
          "data": {
            "image/png": "[encoded data removed]",
            "text/plain": [
              "<Figure size 432x288 with 1 Axes>"
            ]
          },
          "metadata": {
            "tags": [],
            "needs_background": "light"
          }
        },
        {
          "output_type": "stream",
          "text": [
            "[1. 0. 0. 0. 0. 0. 0. 0. 0. 0.]\n"
          ],
          "name": "stdout"
        },
        {
          "output_type": "display_data",
          "data": {
            "image/png": "[encoded data removed]",
            "text/plain": [
              "<Figure size 432x288 with 1 Axes>"
            ]
          },
          "metadata": {
            "tags": [],
            "needs_background": "light"
          }
        },
        {
          "output_type": "stream",
          "text": [
            "[0. 1. 0. 0. 0. 0. 0. 0. 0. 0.]\n"
          ],
          "name": "stdout"
        },
        {
          "output_type": "display_data",
          "data": {
            "image/png": "[encoded data removed]",
            "text/plain": [
              "<Figure size 432x288 with 1 Axes>"
            ]
          },
          "metadata": {
            "tags": [],
            "needs_background": "light"
          }
        },
        {
          "output_type": "stream",
          "text": [
            "[0. 0. 1. 0. 0. 0. 0. 0. 0. 0.]\n"
          ],
          "name": "stdout"
        },
        {
          "output_type": "display_data",
          "data": {
            "image/png": "[encoded data removed]",
            "text/plain": [
              "<Figure size 432x288 with 1 Axes>"
            ]
          },
          "metadata": {
            "tags": [],
            "needs_background": "light"
          }
        },
        {
          "output_type": "stream",
          "text": [
            "[0. 0. 0. 1. 0. 0. 0. 0. 0. 0.]\n"
          ],
          "name": "stdout"
        },
        {
          "output_type": "display_data",
          "data": {
            "image/png": "[encoded data removed]",
            "text/plain": [
              "<Figure size 432x288 with 1 Axes>"
            ]
          },
          "metadata": {
            "tags": [],
            "needs_background": "light"
          }
        },
        {
          "output_type": "stream",
          "text": [
            "[0. 0. 0. 0. 1. 0. 0. 0. 0. 0.]\n"
          ],
          "name": "stdout"
        },
        {
          "output_type": "display_data",
          "data": {
            "image/png": "[encoded data removed]",
            "text/plain": [
              "<Figure size 432x288 with 1 Axes>"
            ]
          },
          "metadata": {
            "tags": [],
            "needs_background": "light"
          }
        },
        {
          "output_type": "stream",
          "text": [
            "[0. 0. 0. 0. 0. 1. 0. 0. 0. 0.]\n"
          ],
          "name": "stdout"
        },
        {
          "output_type": "display_data",
          "data": {
            "image/png": "[encoded data removed]",
            "text/plain": [
              "<Figure size 432x288 with 1 Axes>"
            ]
          },
          "metadata": {
            "tags": [],
            "needs_background": "light"
          }
        },
        {
          "output_type": "stream",
          "text": [
            "[0. 0. 0. 0. 0. 0. 1. 0. 0. 0.]\n"
          ],
          "name": "stdout"
        },
        {
          "output_type": "display_data",
          "data": {
            "image/png": "[encoded data removed]",
            "text/plain": [
              "<Figure size 432x288 with 1 Axes>"
            ]
          },
          "metadata": {
            "tags": [],
            "needs_background": "light"
          }
        },
        {
          "output_type": "stream",
          "text": [
            "[0. 0. 0. 0. 0. 0. 0. 1. 0. 0.]\n"
          ],
          "name": "stdout"
        },
        {
          "output_type": "display_data",
          "data": {
            "image/png": "[encoded data removed]",
            "text/plain": [
              "<Figure size 432x288 with 1 Axes>"
            ]
          },
          "metadata": {
            "tags": [],
            "needs_background": "light"
          }
        },
        {
          "output_type": "stream",
          "text": [
            "[0. 0. 0. 0. 0. 0. 0. 0. 1. 0.]\n"
          ],
          "name": "stdout"
        },
        {
          "output_type": "display_data",
          "data": {
            "image/png": "[encoded data removed]",
            "text/plain": [
              "<Figure size 432x288 with 1 Axes>"
            ]
          },
          "metadata": {
            "tags": [],
            "needs_background": "light"
          }
        },
        {
          "output_type": "stream",
          "text": [
            "[0. 0. 0. 0. 0. 0. 0. 0. 0. 1.]\n"
          ],
          "name": "stdout"
        },
        {
          "output_type": "display_data",
          "data": {
            "image/png": "[encoded data removed]",
            "text/plain": [
              "<Figure size 432x288 with 1 Axes>"
            ]
          },
          "metadata": {
            "tags": [],
            "needs_background": "light"
          }
        },
        {
          "output_type": "stream",
          "text": [
            "[1. 0. 0. 0. 0. 0. 0. 0. 0. 0.]\n"
          ],
          "name": "stdout"
        },
        {
          "output_type": "display_data",
          "data": {
            "image/png": "[encoded data removed]",
            "text/plain": [
              "<Figure size 432x288 with 1 Axes>"
            ]
          },
          "metadata": {
            "tags": [],
            "needs_background": "light"
          }
        },
        {
          "output_type": "stream",
          "text": [
            "[0. 1. 0. 0. 0. 0. 0. 0. 0. 0.]\n"
          ],
          "name": "stdout"
        },
        {
          "output_type": "display_data",
          "data": {
            "image/png": "[encoded data removed]",
            "text/plain": [
              "<Figure size 432x288 with 1 Axes>"
            ]
          },
          "metadata": {
            "tags": [],
            "needs_background": "light"
          }
        },
        {
          "output_type": "stream",
          "text": [
            "[0. 0. 1. 0. 0. 0. 0. 0. 0. 0.]\n"
          ],
          "name": "stdout"
        },
        {
          "output_type": "display_data",
          "data": {
            "image/png": "[encoded data removed]",
            "text/plain": [
              "<Figure size 432x288 with 1 Axes>"
            ]
          },
          "metadata": {
            "tags": [],
            "needs_background": "light"
          }
        },
        {
          "output_type": "stream",
          "text": [
            "[0. 0. 0. 1. 0. 0. 0. 0. 0. 0.]\n"
          ],
          "name": "stdout"
        },
        {
          "output_type": "display_data",
          "data": {
            "image/png": "[encoded data removed]",
            "text/plain": [
              "<Figure size 432x288 with 1 Axes>"
            ]
          },
          "metadata": {
            "tags": [],
            "needs_background": "light"
          }
        },
        {
          "output_type": "stream",
          "text": [
            "[0. 0. 0. 0. 1. 0. 0. 0. 0. 0.]\n"
          ],
          "name": "stdout"
        },
        {
          "output_type": "display_data",
          "data": {
            "image/png": "[encoded data removed]",
            "text/plain": [
              "<Figure size 432x288 with 1 Axes>"
            ]
          },
          "metadata": {
            "tags": [],
            "needs_background": "light"
          }
        },
        {
          "output_type": "stream",
          "text": [
            "[0. 0. 0. 0. 0. 1. 0. 0. 0. 0.]\n"
          ],
          "name": "stdout"
        },
        {
          "output_type": "display_data",
          "data": {
            "image/png": "[encoded data removed]",
            "text/plain": [
              "<Figure size 432x288 with 1 Axes>"
            ]
          },
          "metadata": {
            "tags": [],
            "needs_background": "light"
          }
        },
        {
          "output_type": "stream",
          "text": [
            "[0. 0. 0. 0. 0. 0. 1. 0. 0. 0.]\n"
          ],
          "name": "stdout"
        },
        {
          "output_type": "display_data",
          "data": {
            "image/png": "[encoded data removed]",
            "text/plain": [
              "<Figure size 432x288 with 1 Axes>"
            ]
          },
          "metadata": {
            "tags": [],
            "needs_background": "light"
          }
        },
        {
          "output_type": "stream",
          "text": [
            "[0. 0. 0. 0. 0. 0. 0. 1. 0. 0.]\n"
          ],
          "name": "stdout"
        },
        {
          "output_type": "display_data",
          "data": {
            "image/png": "[encoded data removed]",
            "text/plain": [
              "<Figure size 432x288 with 1 Axes>"
            ]
          },
          "metadata": {
            "tags": [],
            "needs_background": "light"
          }
        },
        {
          "output_type": "stream",
          "text": [
            "[0. 0. 0. 0. 0. 0. 0. 0. 1. 0.]\n"
          ],
          "name": "stdout"
        },
        {
          "output_type": "display_data",
          "data": {
            "image/png": "[encoded data removed]",
            "text/plain": [
              "<Figure size 432x288 with 1 Axes>"
            ]
          },
          "metadata": {
            "tags": [],
            "needs_background": "light"
          }
        },
        {
          "output_type": "stream",
          "text": [
            "[0. 0. 0. 0. 0. 0. 0. 0. 0. 1.]\n"
          ],
          "name": "stdout"
        }
      ]
    },
    {
      "cell_type": "markdown",
      "metadata": {
        "id": "Yr4xlS0zDFy4",
        "colab_type": "text"
      },
      "source": [
        "##**Saved Generated Test Dataset**##"
      ]
    },
    {
      "cell_type": "code",
      "metadata": {
        "id": "GJkYoz-OC_pC",
        "colab_type": "code",
        "colab": {}
      },
      "source": [
        "#Storing the video frames into an array\n",
        "\n",
        "path = glob.glob(r\"/content/drive/My Drive/New_Generated_Signatures/*.png\")\n",
        "count = 0\n",
        "X1_test = []\n",
        "for img in path:\n",
        "    n = cv2.imread(img, 0)\n",
        "    X1_test.append(n)\n",
        "    count+=1\n",
        "    if count%200==0:\n",
        "      print(count)\n",
        "\n",
        "X1_test = np.array(X1_test)\n",
        "X1_test = np.expand_dims(X1_test, -1)\n",
        "print(X1_test.shape)"
      ],
      "execution_count": null,
      "outputs": []
    },
    {
      "cell_type": "code",
      "metadata": {
        "id": "f0v8FsSFC_uT",
        "colab_type": "code",
        "colab": {
          "base_uri": "https://localhost:8080/",
          "height": 35
        },
        "outputId": "edae61ab-c5d9-4cb7-8d2a-b4f7bce6e765"
      },
      "source": [
        "Y1_test = []\n",
        "for i in range(len(X1_test)):\n",
        "  Y1_test.append([i%10])\n",
        "Y1_test = np.array(Y1_test)\n",
        "print(Y1_test.shape)"
      ],
      "execution_count": null,
      "outputs": [
        {
          "output_type": "stream",
          "text": [
            "(3000, 1)\n"
          ],
          "name": "stdout"
        }
      ]
    },
    {
      "cell_type": "code",
      "metadata": {
        "id": "E6E8nDQ6C_i7",
        "colab_type": "code",
        "colab": {}
      },
      "source": [
        "from sklearn.utils import shuffle\n",
        "\n",
        "for i in range(100):\n",
        "  X2_test, Y2_test = shuffle(X1_test, Y1_test, random_state = 0)"
      ],
      "execution_count": null,
      "outputs": []
    },
    {
      "cell_type": "code",
      "metadata": {
        "id": "oX1wZEfVC_e7",
        "colab_type": "code",
        "colab": {}
      },
      "source": [
        "for i in range(20):\n",
        "  plt.imshow(np.squeeze(X2_test[i]), cmap='gray')\n",
        "  plt.axis('off')\n",
        "  plt.show()\n",
        "  print(\"Ground Truth:\", Y2_test[i])"
      ],
      "execution_count": null,
      "outputs": []
    },
    {
      "cell_type": "markdown",
      "metadata": {
        "id": "nhMdXQrYmvwP",
        "colab_type": "text"
      },
      "source": [
        "##**Prepare Data for Training Multi-Label Classifier**##"
      ]
    },
    {
      "cell_type": "code",
      "metadata": {
        "id": "o1WRGWIHfALa",
        "colab_type": "code",
        "colab": {}
      },
      "source": [
        "x_train, y_train = np.expand_dims(X_train, axis = 3), Y_train\n",
        "x_test, y_test = test1_data, t11_labels"
      ],
      "execution_count": null,
      "outputs": []
    },
    {
      "cell_type": "code",
      "metadata": {
        "id": "EN-SCKBAzEY4",
        "colab_type": "code",
        "colab": {}
      },
      "source": [
        "y_test = to_categorical(y_test, 10)"
      ],
      "execution_count": null,
      "outputs": []
    },
    {
      "cell_type": "code",
      "metadata": {
        "id": "FvDyypmCoGyh",
        "colab_type": "code",
        "colab": {
          "base_uri": "https://localhost:8080/",
          "height": 55
        },
        "outputId": "41d6e3ce-f538-456c-8db9-02523ad799d7"
      },
      "source": [
        "c = Y_train\n",
        "\n",
        "y1_train = []\n",
        "for i in range(len(c)):\n",
        "  y1_train.append(list(c[i]))\n",
        "  y1_train[i].append(10)\n",
        "print(y1_train[::50])"
      ],
      "execution_count": null,
      "outputs": [
        {
          "output_type": "stream",
          "text": [
            "[[0, 10], [0, 10], [1, 10], [1, 10], [2, 10], [2, 10], [3, 10], [3, 10], [4, 10], [4, 10], [5, 10], [5, 10], [6, 10], [6, 10], [7, 10], [7, 10], [8, 10], [8, 10], [9, 10], [9, 10]]\n"
          ],
          "name": "stdout"
        }
      ]
    },
    {
      "cell_type": "code",
      "metadata": {
        "id": "Lv-39G68qx5J",
        "colab_type": "code",
        "colab": {
          "base_uri": "https://localhost:8080/",
          "height": 35
        },
        "outputId": "c11194b6-30c7-4c08-af36-920493c195be"
      },
      "source": [
        "y1_test = []\n",
        "for i in range(len(x_test)):\n",
        "  y1_test.append([i%10])\n",
        "y1_test = np.array(y1_test)\n",
        "print(y1_test.shape)"
      ],
      "execution_count": null,
      "outputs": [
        {
          "output_type": "stream",
          "text": [
            "(1000, 1)\n"
          ],
          "name": "stdout"
        }
      ]
    },
    {
      "cell_type": "code",
      "metadata": {
        "id": "53kbsE1grhGe",
        "colab_type": "code",
        "colab": {
          "base_uri": "https://localhost:8080/",
          "height": 35
        },
        "outputId": "476f4a8a-f295-4dae-f18b-62924c2f0858"
      },
      "source": [
        "from sklearn.preprocessing import MultiLabelBinarizer\n",
        "mlb = MultiLabelBinarizer()\n",
        "y1_train = mlb.fit_transform(y1_train)\n",
        "y1_test = to_categorical(y1_test, 11)\n",
        "\n",
        "print(mlb.classes_)\n",
        "y1_test = np.asarray(y1_test).astype('float32')"
      ],
      "execution_count": null,
      "outputs": [
        {
          "output_type": "stream",
          "text": [
            "[0 1 2 3 4 5 6 7 8 9 10]\n"
          ],
          "name": "stdout"
        }
      ]
    },
    {
      "cell_type": "code",
      "metadata": {
        "id": "mKRMXoqLTNGp",
        "colab_type": "code",
        "colab": {
          "base_uri": "https://localhost:8080/",
          "height": 121
        },
        "outputId": "c9812d9b-bf7d-4bfc-b275-f60751c1da3c"
      },
      "source": [
        "X_train_P1 = []\n",
        "X_train_P2 = []\n",
        "X_val = []\n",
        "\n",
        "Y_train_P1 = []\n",
        "Y_train_P2 = []\n",
        "Y_val = []\n",
        "\n",
        "c = 0\n",
        "for i in range(len(x_train)):\n",
        "  if c<40:\n",
        "    X_train_P1.append(x_train[i])\n",
        "    Y_train_P1.append(y1_train[i])\n",
        "  elif c<50:\n",
        "    X_val.append(x_train[i])\n",
        "    Y_val.append(y1_train[i])\n",
        "  elif c<100:\n",
        "    X_train_P2.append(x_train[i])\n",
        "    Y_train_P2.append(y1_train[i])\n",
        "\n",
        "  if c==99:\n",
        "    c = 0\n",
        "  c+=1\n",
        "\n",
        "X_train_P1 = np.array(X_train_P1)\n",
        "X_train_P2 = np.array(X_train_P2)\n",
        "X_val = np.array(X_val)\n",
        "\n",
        "Y_train_P1 = np.array(Y_train_P1)\n",
        "Y_train_P2 = np.array(Y_train_P2)\n",
        "Y_val = np.array(Y_val)\n",
        "\n",
        "\n",
        "print(X_train_P1.shape, Y_train_P1.shape)\n",
        "print(X_train_P2.shape, Y_train_P2.shape)\n",
        "print(X_val.shape, Y_val.shape)\n",
        "\n",
        "XS_train = np.concatenate([X_train_P1, x_test[:400]])\n",
        "YS_train = np.concatenate([Y_train_P1, y1_test[:400]])\n",
        "XS_val = np.concatenate([X_val, x_test[400:500]])\n",
        "YS_val = np.concatenate([Y_val, y1_test[400:500]])\n",
        "XS_test = np.concatenate([X_train_P2, x_test[500:]])\n",
        "YS_test = np.concatenate([Y_train_P2, y1_test[500:]])\n",
        "\n",
        "print('Training Set:', XS_train.shape, YS_train.shape)\n",
        "print('Validation Set:', XS_val.shape, YS_val.shape)\n",
        "print('Testing Set:', XS_test.shape, YS_test.shape)"
      ],
      "execution_count": null,
      "outputs": [
        {
          "output_type": "stream",
          "text": [
            "(400, 64, 64, 1) (400, 11)\n",
            "(500, 64, 64, 1) (500, 11)\n",
            "(100, 64, 64, 1) (100, 11)\n",
            "Training Set: (800, 64, 64, 1) (800, 11)\n",
            "Validation Set: (200, 64, 64, 1) (200, 11)\n",
            "Testing Set: (1000, 64, 64, 1) (1000, 11)\n"
          ],
          "name": "stdout"
        }
      ]
    },
    {
      "cell_type": "code",
      "metadata": {
        "id": "JMiU06xktXGo",
        "colab_type": "code",
        "colab": {}
      },
      "source": [
        "from sklearn.utils import shuffle\n",
        "\n",
        "for i in range(1000):\n",
        "  XF_train, YF_train = shuffle(XS_train, YS_train, random_state=0)\n",
        "  XF_val, YF_val = shuffle(XS_val, YS_val, random_state=0)\n",
        "  XF_test, YF_test = shuffle(XS_test, YS_test, random_state=0)"
      ],
      "execution_count": null,
      "outputs": []
    },
    {
      "cell_type": "code",
      "metadata": {
        "id": "-WClE1X5tx7D",
        "colab_type": "code",
        "colab": {
          "base_uri": "https://localhost:8080/",
          "height": 537
        },
        "outputId": "803b29cb-0f45-4f58-f16f-7d01a5c36176"
      },
      "source": [
        "model2 = Sequential()\n",
        "model2.add(Dense(32, input_shape=((64,64,1))))\n",
        "model2.add(LeakyReLU(alpha=0.2))\n",
        "model2.add(Dropout(0.6))\n",
        "\n",
        "model2.add(Dense(64))\n",
        "model2.add(BatchNormalization(momentum=0.8))\n",
        "model2.add(LeakyReLU(alpha=0.2))\n",
        "model2.add(Dropout(0.6))\n",
        "\n",
        "model2.add(Flatten())\n",
        "\n",
        "model2.add(Dense(512))\n",
        "model2.add(LeakyReLU(alpha=0.2))\n",
        "\n",
        "model2.add(Dropout(0.6))\n",
        "\n",
        "model2.add(Dense(11, activation='sigmoid'))\n",
        "\n",
        "model2.summary()"
      ],
      "execution_count": null,
      "outputs": [
        {
          "output_type": "stream",
          "text": [
            "Model: \"sequential_12\"\n",
            "_________________________________________________________________\n",
            "Layer (type)                 Output Shape              Param #   \n",
            "=================================================================\n",
            "dense_35 (Dense)             (None, 64, 64, 32)        64        \n",
            "_________________________________________________________________\n",
            "leaky_re_lu_15 (LeakyReLU)   (None, 64, 64, 32)        0         \n",
            "_________________________________________________________________\n",
            "dropout_36 (Dropout)         (None, 64, 64, 32)        0         \n",
            "_________________________________________________________________\n",
            "dense_36 (Dense)             (None, 64, 64, 64)        2112      \n",
            "_________________________________________________________________\n",
            "batch_normalization_28 (Batc (None, 64, 64, 64)        256       \n",
            "_________________________________________________________________\n",
            "leaky_re_lu_16 (LeakyReLU)   (None, 64, 64, 64)        0         \n",
            "_________________________________________________________________\n",
            "dropout_37 (Dropout)         (None, 64, 64, 64)        0         \n",
            "_________________________________________________________________\n",
            "flatten_13 (Flatten)         (None, 262144)            0         \n",
            "_________________________________________________________________\n",
            "dense_37 (Dense)             (None, 512)               134218240 \n",
            "_________________________________________________________________\n",
            "dropout_38 (Dropout)         (None, 512)               0         \n",
            "_________________________________________________________________\n",
            "dense_38 (Dense)             (None, 11)                5643      \n",
            "=================================================================\n",
            "Total params: 134,226,315\n",
            "Trainable params: 134,226,187\n",
            "Non-trainable params: 128\n",
            "_________________________________________________________________\n"
          ],
          "name": "stdout"
        }
      ]
    },
    {
      "cell_type": "code",
      "metadata": {
        "id": "9i30kcjLa6Rq",
        "colab_type": "code",
        "colab": {
          "base_uri": "https://localhost:8080/",
          "height": 711
        },
        "outputId": "0d27b4bd-c8b6-4ebc-e75f-03d90db65ba1"
      },
      "source": [
        "model2 = Sequential()\n",
        "model2.add(Conv2D(64, kernel_size=3, strides=2, padding='same', input_shape=((64, 64, 1))))\n",
        "model2.add(LeakyReLU(alpha=0.2))\n",
        "model2.add(Dropout(0.6))\n",
        "\n",
        "model2.add(Conv2D(128, kernel_size=3, strides=2, padding='same'))\n",
        "model2.add(BatchNormalization(momentum=0.8))\n",
        "model2.add(LeakyReLU(alpha=0.2))\n",
        "model2.add(Dropout(0.6))\n",
        "\n",
        "model2.add(Conv2D(256, kernel_size=3, strides=2, padding='same'))\n",
        "model2.add(BatchNormalization(momentum=0.8))\n",
        "model2.add(LeakyReLU(alpha=0.2))\n",
        "model2.add(Dropout(0.6))\n",
        "\n",
        "model2.add(Flatten())\n",
        "\n",
        "model2.add(Dense(512))\n",
        "model2.add(LeakyReLU(alpha=0.2))\n",
        "model2.add(Dropout(0.6))\n",
        "\n",
        "model2.add(Dense(11, activation='sigmoid'))\n",
        "\n",
        "model2.summary()"
      ],
      "execution_count": null,
      "outputs": [
        {
          "output_type": "stream",
          "text": [
            "Model: \"sequential_14\"\n",
            "_________________________________________________________________\n",
            "Layer (type)                 Output Shape              Param #   \n",
            "=================================================================\n",
            "conv2d_38 (Conv2D)           (None, 32, 32, 64)        640       \n",
            "_________________________________________________________________\n",
            "leaky_re_lu_21 (LeakyReLU)   (None, 32, 32, 64)        0         \n",
            "_________________________________________________________________\n",
            "dropout_43 (Dropout)         (None, 32, 32, 64)        0         \n",
            "_________________________________________________________________\n",
            "conv2d_39 (Conv2D)           (None, 16, 16, 128)       73856     \n",
            "_________________________________________________________________\n",
            "batch_normalization_31 (Batc (None, 16, 16, 128)       512       \n",
            "_________________________________________________________________\n",
            "leaky_re_lu_22 (LeakyReLU)   (None, 16, 16, 128)       0         \n",
            "_________________________________________________________________\n",
            "dropout_44 (Dropout)         (None, 16, 16, 128)       0         \n",
            "_________________________________________________________________\n",
            "conv2d_40 (Conv2D)           (None, 8, 8, 256)         295168    \n",
            "_________________________________________________________________\n",
            "batch_normalization_32 (Batc (None, 8, 8, 256)         1024      \n",
            "_________________________________________________________________\n",
            "leaky_re_lu_23 (LeakyReLU)   (None, 8, 8, 256)         0         \n",
            "_________________________________________________________________\n",
            "dropout_45 (Dropout)         (None, 8, 8, 256)         0         \n",
            "_________________________________________________________________\n",
            "flatten_15 (Flatten)         (None, 16384)             0         \n",
            "_________________________________________________________________\n",
            "dense_41 (Dense)             (None, 512)               8389120   \n",
            "_________________________________________________________________\n",
            "leaky_re_lu_24 (LeakyReLU)   (None, 512)               0         \n",
            "_________________________________________________________________\n",
            "dropout_46 (Dropout)         (None, 512)               0         \n",
            "_________________________________________________________________\n",
            "dense_42 (Dense)             (None, 11)                5643      \n",
            "=================================================================\n",
            "Total params: 8,765,963\n",
            "Trainable params: 8,765,195\n",
            "Non-trainable params: 768\n",
            "_________________________________________________________________\n"
          ],
          "name": "stdout"
        }
      ]
    },
    {
      "cell_type": "code",
      "metadata": {
        "id": "NXn9mszktx3l",
        "colab_type": "code",
        "colab": {}
      },
      "source": [
        "optimizer = Adam(lr=0.0002)\n",
        "model2.compile(loss = 'binary_crossentropy', optimizer=optimizer, metrics=['accuracy'])"
      ],
      "execution_count": null,
      "outputs": []
    },
    {
      "cell_type": "code",
      "metadata": {
        "id": "uWFhRm1Ytxz0",
        "colab_type": "code",
        "colab": {
          "base_uri": "https://localhost:8080/",
          "height": 1000
        },
        "outputId": "3c4bacda-9b49-4fab-d2ac-09cb51b7ffe3"
      },
      "source": [
        "history2 = model2.fit(XF_train, YF_train, batch_size = 100, epochs=200, validation_data = (XF_val, YF_val), shuffle = True, verbose = 1)"
      ],
      "execution_count": null,
      "outputs": [
        {
          "output_type": "stream",
          "text": [
            "Epoch 1/200\n",
            "1/8 [==>...........................] - ETA: 0s - loss: 1.1886 - accuracy: 0.1200WARNING:tensorflow:Callbacks method `on_train_batch_end` is slow compared to the batch time (batch time: 0.0071s vs `on_train_batch_end` time: 0.0221s). Check your callbacks.\n",
            "7/8 [=========================>....] - ETA: 0s - loss: 0.6033 - accuracy: 0.0500WARNING:tensorflow:Callbacks method `on_test_batch_end` is slow compared to the batch time (batch time: 0.0017s vs `on_test_batch_end` time: 0.0043s). Check your callbacks.\n",
            "8/8 [==============================] - 0s 47ms/step - loss: 0.5867 - accuracy: 0.0463 - val_loss: 0.2725 - val_accuracy: 0.0500\n",
            "Epoch 2/200\n",
            "8/8 [==============================] - 0s 23ms/step - loss: 0.3788 - accuracy: 0.0575 - val_loss: 0.2786 - val_accuracy: 0.0500\n",
            "Epoch 3/200\n",
            "8/8 [==============================] - 0s 22ms/step - loss: 0.3088 - accuracy: 0.0450 - val_loss: 0.2483 - val_accuracy: 0.0500\n",
            "Epoch 4/200\n",
            "8/8 [==============================] - 0s 22ms/step - loss: 0.2731 - accuracy: 0.0375 - val_loss: 0.2293 - val_accuracy: 0.0500\n",
            "Epoch 5/200\n",
            "8/8 [==============================] - 0s 22ms/step - loss: 0.2523 - accuracy: 0.0500 - val_loss: 0.2241 - val_accuracy: 0.0750\n",
            "Epoch 6/200\n",
            "8/8 [==============================] - 0s 22ms/step - loss: 0.2277 - accuracy: 0.0737 - val_loss: 0.2113 - val_accuracy: 0.0850\n",
            "Epoch 7/200\n",
            "8/8 [==============================] - 0s 21ms/step - loss: 0.2146 - accuracy: 0.0712 - val_loss: 0.2006 - val_accuracy: 0.1000\n",
            "Epoch 8/200\n",
            "8/8 [==============================] - 0s 22ms/step - loss: 0.2091 - accuracy: 0.0650 - val_loss: 0.1924 - val_accuracy: 0.1050\n",
            "Epoch 9/200\n",
            "8/8 [==============================] - 0s 21ms/step - loss: 0.2004 - accuracy: 0.0737 - val_loss: 0.1895 - val_accuracy: 0.1350\n",
            "Epoch 10/200\n",
            "8/8 [==============================] - 0s 22ms/step - loss: 0.1956 - accuracy: 0.0838 - val_loss: 0.1821 - val_accuracy: 0.1450\n",
            "Epoch 11/200\n",
            "8/8 [==============================] - 0s 22ms/step - loss: 0.1953 - accuracy: 0.0787 - val_loss: 0.1740 - val_accuracy: 0.1550\n",
            "Epoch 12/200\n",
            "8/8 [==============================] - 0s 21ms/step - loss: 0.1884 - accuracy: 0.0962 - val_loss: 0.1722 - val_accuracy: 0.1400\n",
            "Epoch 13/200\n",
            "8/8 [==============================] - 0s 22ms/step - loss: 0.1809 - accuracy: 0.0850 - val_loss: 0.1709 - val_accuracy: 0.1550\n",
            "Epoch 14/200\n",
            "8/8 [==============================] - 0s 21ms/step - loss: 0.1824 - accuracy: 0.1213 - val_loss: 0.1677 - val_accuracy: 0.1800\n",
            "Epoch 15/200\n",
            "8/8 [==============================] - 0s 23ms/step - loss: 0.1851 - accuracy: 0.0913 - val_loss: 0.1653 - val_accuracy: 0.2650\n",
            "Epoch 16/200\n",
            "8/8 [==============================] - 0s 21ms/step - loss: 0.1769 - accuracy: 0.1138 - val_loss: 0.1646 - val_accuracy: 0.2600\n",
            "Epoch 17/200\n",
            "8/8 [==============================] - 0s 21ms/step - loss: 0.1768 - accuracy: 0.1488 - val_loss: 0.1631 - val_accuracy: 0.2650\n",
            "Epoch 18/200\n",
            "8/8 [==============================] - 0s 22ms/step - loss: 0.1772 - accuracy: 0.1187 - val_loss: 0.1629 - val_accuracy: 0.2600\n",
            "Epoch 19/200\n",
            "8/8 [==============================] - 0s 21ms/step - loss: 0.1740 - accuracy: 0.1187 - val_loss: 0.1605 - val_accuracy: 0.2500\n",
            "Epoch 20/200\n",
            "8/8 [==============================] - 0s 21ms/step - loss: 0.1705 - accuracy: 0.1363 - val_loss: 0.1594 - val_accuracy: 0.2400\n",
            "Epoch 21/200\n",
            "8/8 [==============================] - 0s 22ms/step - loss: 0.1690 - accuracy: 0.1138 - val_loss: 0.1594 - val_accuracy: 0.2750\n",
            "Epoch 22/200\n",
            "8/8 [==============================] - 0s 21ms/step - loss: 0.1721 - accuracy: 0.1000 - val_loss: 0.1587 - val_accuracy: 0.2750\n",
            "Epoch 23/200\n",
            "8/8 [==============================] - 0s 22ms/step - loss: 0.1663 - accuracy: 0.1425 - val_loss: 0.1579 - val_accuracy: 0.2200\n",
            "Epoch 24/200\n",
            "8/8 [==============================] - 0s 22ms/step - loss: 0.1673 - accuracy: 0.0975 - val_loss: 0.1570 - val_accuracy: 0.2200\n",
            "Epoch 25/200\n",
            "8/8 [==============================] - 0s 22ms/step - loss: 0.1684 - accuracy: 0.1375 - val_loss: 0.1556 - val_accuracy: 0.3150\n",
            "Epoch 26/200\n",
            "8/8 [==============================] - 0s 21ms/step - loss: 0.1641 - accuracy: 0.1500 - val_loss: 0.1567 - val_accuracy: 0.3100\n",
            "Epoch 27/200\n",
            "8/8 [==============================] - 0s 22ms/step - loss: 0.1644 - accuracy: 0.1325 - val_loss: 0.1565 - val_accuracy: 0.2900\n",
            "Epoch 28/200\n",
            "8/8 [==============================] - 0s 22ms/step - loss: 0.1655 - accuracy: 0.1250 - val_loss: 0.1548 - val_accuracy: 0.3150\n",
            "Epoch 29/200\n",
            "8/8 [==============================] - 0s 22ms/step - loss: 0.1664 - accuracy: 0.1475 - val_loss: 0.1540 - val_accuracy: 0.2900\n",
            "Epoch 30/200\n",
            "8/8 [==============================] - 0s 22ms/step - loss: 0.1650 - accuracy: 0.1513 - val_loss: 0.1541 - val_accuracy: 0.2800\n",
            "Epoch 31/200\n",
            "8/8 [==============================] - 0s 21ms/step - loss: 0.1608 - accuracy: 0.1500 - val_loss: 0.1542 - val_accuracy: 0.2800\n",
            "Epoch 32/200\n",
            "8/8 [==============================] - 0s 22ms/step - loss: 0.1641 - accuracy: 0.1388 - val_loss: 0.1545 - val_accuracy: 0.2650\n",
            "Epoch 33/200\n",
            "8/8 [==============================] - 0s 21ms/step - loss: 0.1623 - accuracy: 0.1400 - val_loss: 0.1528 - val_accuracy: 0.2350\n",
            "Epoch 34/200\n",
            "8/8 [==============================] - 0s 21ms/step - loss: 0.1649 - accuracy: 0.1163 - val_loss: 0.1528 - val_accuracy: 0.2150\n",
            "Epoch 35/200\n",
            "8/8 [==============================] - 0s 22ms/step - loss: 0.1623 - accuracy: 0.1175 - val_loss: 0.1532 - val_accuracy: 0.2400\n",
            "Epoch 36/200\n",
            "8/8 [==============================] - 0s 22ms/step - loss: 0.1631 - accuracy: 0.1200 - val_loss: 0.1532 - val_accuracy: 0.2950\n",
            "Epoch 37/200\n",
            "8/8 [==============================] - 0s 21ms/step - loss: 0.1634 - accuracy: 0.1400 - val_loss: 0.1523 - val_accuracy: 0.2400\n",
            "Epoch 38/200\n",
            "8/8 [==============================] - 0s 22ms/step - loss: 0.1594 - accuracy: 0.1175 - val_loss: 0.1518 - val_accuracy: 0.2450\n",
            "Epoch 39/200\n",
            "8/8 [==============================] - 0s 22ms/step - loss: 0.1623 - accuracy: 0.1100 - val_loss: 0.1530 - val_accuracy: 0.2600\n",
            "Epoch 40/200\n",
            "8/8 [==============================] - 0s 21ms/step - loss: 0.1638 - accuracy: 0.1150 - val_loss: 0.1527 - val_accuracy: 0.2800\n",
            "Epoch 41/200\n",
            "8/8 [==============================] - 0s 21ms/step - loss: 0.1595 - accuracy: 0.1475 - val_loss: 0.1524 - val_accuracy: 0.3600\n",
            "Epoch 42/200\n",
            "8/8 [==============================] - 0s 22ms/step - loss: 0.1602 - accuracy: 0.1437 - val_loss: 0.1514 - val_accuracy: 0.3000\n",
            "Epoch 43/200\n",
            "8/8 [==============================] - 0s 22ms/step - loss: 0.1575 - accuracy: 0.1525 - val_loss: 0.1511 - val_accuracy: 0.3200\n",
            "Epoch 44/200\n",
            "8/8 [==============================] - 0s 21ms/step - loss: 0.1576 - accuracy: 0.1488 - val_loss: 0.1516 - val_accuracy: 0.2400\n",
            "Epoch 45/200\n",
            "8/8 [==============================] - 0s 22ms/step - loss: 0.1619 - accuracy: 0.1325 - val_loss: 0.1519 - val_accuracy: 0.2850\n",
            "Epoch 46/200\n",
            "8/8 [==============================] - 0s 21ms/step - loss: 0.1590 - accuracy: 0.1725 - val_loss: 0.1524 - val_accuracy: 0.2650\n",
            "Epoch 47/200\n",
            "8/8 [==============================] - 0s 22ms/step - loss: 0.1583 - accuracy: 0.1450 - val_loss: 0.1522 - val_accuracy: 0.3300\n",
            "Epoch 48/200\n",
            "8/8 [==============================] - 0s 21ms/step - loss: 0.1589 - accuracy: 0.1388 - val_loss: 0.1517 - val_accuracy: 0.3600\n",
            "Epoch 49/200\n",
            "8/8 [==============================] - 0s 22ms/step - loss: 0.1594 - accuracy: 0.1262 - val_loss: 0.1517 - val_accuracy: 0.2800\n",
            "Epoch 50/200\n",
            "8/8 [==============================] - 0s 22ms/step - loss: 0.1591 - accuracy: 0.1262 - val_loss: 0.1514 - val_accuracy: 0.2800\n",
            "Epoch 51/200\n",
            "8/8 [==============================] - 0s 21ms/step - loss: 0.1589 - accuracy: 0.1500 - val_loss: 0.1518 - val_accuracy: 0.3250\n",
            "Epoch 52/200\n",
            "8/8 [==============================] - 0s 22ms/step - loss: 0.1581 - accuracy: 0.1525 - val_loss: 0.1517 - val_accuracy: 0.3100\n",
            "Epoch 53/200\n",
            "8/8 [==============================] - 0s 22ms/step - loss: 0.1583 - accuracy: 0.1513 - val_loss: 0.1515 - val_accuracy: 0.3250\n",
            "Epoch 54/200\n",
            "8/8 [==============================] - 0s 22ms/step - loss: 0.1592 - accuracy: 0.1525 - val_loss: 0.1522 - val_accuracy: 0.2700\n",
            "Epoch 55/200\n",
            "8/8 [==============================] - 0s 22ms/step - loss: 0.1608 - accuracy: 0.1287 - val_loss: 0.1517 - val_accuracy: 0.3300\n",
            "Epoch 56/200\n",
            "8/8 [==============================] - 0s 22ms/step - loss: 0.1566 - accuracy: 0.1513 - val_loss: 0.1510 - val_accuracy: 0.3100\n",
            "Epoch 57/200\n",
            "8/8 [==============================] - 0s 21ms/step - loss: 0.1576 - accuracy: 0.1575 - val_loss: 0.1510 - val_accuracy: 0.3750\n",
            "Epoch 58/200\n",
            "8/8 [==============================] - 0s 22ms/step - loss: 0.1593 - accuracy: 0.1700 - val_loss: 0.1505 - val_accuracy: 0.3350\n",
            "Epoch 59/200\n",
            "8/8 [==============================] - 0s 21ms/step - loss: 0.1583 - accuracy: 0.1250 - val_loss: 0.1517 - val_accuracy: 0.2800\n",
            "Epoch 60/200\n",
            "8/8 [==============================] - 0s 23ms/step - loss: 0.1577 - accuracy: 0.1462 - val_loss: 0.1505 - val_accuracy: 0.2950\n",
            "Epoch 61/200\n",
            "8/8 [==============================] - 0s 21ms/step - loss: 0.1554 - accuracy: 0.1575 - val_loss: 0.1507 - val_accuracy: 0.2950\n",
            "Epoch 62/200\n",
            "8/8 [==============================] - 0s 21ms/step - loss: 0.1575 - accuracy: 0.1462 - val_loss: 0.1511 - val_accuracy: 0.3250\n",
            "Epoch 63/200\n",
            "8/8 [==============================] - 0s 22ms/step - loss: 0.1563 - accuracy: 0.1675 - val_loss: 0.1505 - val_accuracy: 0.3850\n",
            "Epoch 64/200\n",
            "8/8 [==============================] - 0s 21ms/step - loss: 0.1560 - accuracy: 0.1725 - val_loss: 0.1504 - val_accuracy: 0.3750\n",
            "Epoch 65/200\n",
            "8/8 [==============================] - 0s 22ms/step - loss: 0.1549 - accuracy: 0.1525 - val_loss: 0.1502 - val_accuracy: 0.3550\n",
            "Epoch 66/200\n",
            "8/8 [==============================] - 0s 22ms/step - loss: 0.1578 - accuracy: 0.1412 - val_loss: 0.1510 - val_accuracy: 0.3350\n",
            "Epoch 67/200\n",
            "8/8 [==============================] - 0s 21ms/step - loss: 0.1574 - accuracy: 0.1713 - val_loss: 0.1514 - val_accuracy: 0.3450\n",
            "Epoch 68/200\n",
            "8/8 [==============================] - 0s 21ms/step - loss: 0.1558 - accuracy: 0.1262 - val_loss: 0.1510 - val_accuracy: 0.3100\n",
            "Epoch 69/200\n",
            "8/8 [==============================] - 0s 22ms/step - loss: 0.1545 - accuracy: 0.1700 - val_loss: 0.1518 - val_accuracy: 0.3450\n",
            "Epoch 70/200\n",
            "8/8 [==============================] - 0s 21ms/step - loss: 0.1557 - accuracy: 0.1600 - val_loss: 0.1505 - val_accuracy: 0.3200\n",
            "Epoch 71/200\n",
            "8/8 [==============================] - 0s 22ms/step - loss: 0.1553 - accuracy: 0.1550 - val_loss: 0.1501 - val_accuracy: 0.3250\n",
            "Epoch 72/200\n",
            "8/8 [==============================] - 0s 23ms/step - loss: 0.1566 - accuracy: 0.1538 - val_loss: 0.1506 - val_accuracy: 0.3100\n",
            "Epoch 73/200\n",
            "8/8 [==============================] - 0s 21ms/step - loss: 0.1559 - accuracy: 0.1587 - val_loss: 0.1498 - val_accuracy: 0.3550\n",
            "Epoch 74/200\n",
            "8/8 [==============================] - 0s 21ms/step - loss: 0.1575 - accuracy: 0.1587 - val_loss: 0.1505 - val_accuracy: 0.4150\n",
            "Epoch 75/200\n",
            "8/8 [==============================] - 0s 22ms/step - loss: 0.1546 - accuracy: 0.1725 - val_loss: 0.1506 - val_accuracy: 0.3550\n",
            "Epoch 76/200\n",
            "8/8 [==============================] - 0s 22ms/step - loss: 0.1561 - accuracy: 0.1587 - val_loss: 0.1495 - val_accuracy: 0.3450\n",
            "Epoch 77/200\n",
            "8/8 [==============================] - 0s 22ms/step - loss: 0.1535 - accuracy: 0.1575 - val_loss: 0.1489 - val_accuracy: 0.3900\n",
            "Epoch 78/200\n",
            "8/8 [==============================] - 0s 22ms/step - loss: 0.1541 - accuracy: 0.1625 - val_loss: 0.1496 - val_accuracy: 0.2850\n",
            "Epoch 79/200\n",
            "8/8 [==============================] - 0s 21ms/step - loss: 0.1537 - accuracy: 0.1575 - val_loss: 0.1491 - val_accuracy: 0.3950\n",
            "Epoch 80/200\n",
            "8/8 [==============================] - 0s 22ms/step - loss: 0.1563 - accuracy: 0.1475 - val_loss: 0.1497 - val_accuracy: 0.3400\n",
            "Epoch 81/200\n",
            "8/8 [==============================] - 0s 22ms/step - loss: 0.1560 - accuracy: 0.1750 - val_loss: 0.1498 - val_accuracy: 0.3300\n",
            "Epoch 82/200\n",
            "8/8 [==============================] - 0s 22ms/step - loss: 0.1531 - accuracy: 0.1750 - val_loss: 0.1499 - val_accuracy: 0.3400\n",
            "Epoch 83/200\n",
            "8/8 [==============================] - 0s 22ms/step - loss: 0.1546 - accuracy: 0.1787 - val_loss: 0.1494 - val_accuracy: 0.3150\n",
            "Epoch 84/200\n",
            "8/8 [==============================] - 0s 21ms/step - loss: 0.1570 - accuracy: 0.1663 - val_loss: 0.1498 - val_accuracy: 0.3550\n",
            "Epoch 85/200\n",
            "8/8 [==============================] - 0s 22ms/step - loss: 0.1523 - accuracy: 0.1600 - val_loss: 0.1492 - val_accuracy: 0.3600\n",
            "Epoch 86/200\n",
            "8/8 [==============================] - 0s 22ms/step - loss: 0.1551 - accuracy: 0.1450 - val_loss: 0.1491 - val_accuracy: 0.3100\n",
            "Epoch 87/200\n",
            "8/8 [==============================] - 0s 22ms/step - loss: 0.1531 - accuracy: 0.1675 - val_loss: 0.1494 - val_accuracy: 0.3000\n",
            "Epoch 88/200\n",
            "8/8 [==============================] - 0s 23ms/step - loss: 0.1529 - accuracy: 0.1475 - val_loss: 0.1491 - val_accuracy: 0.3500\n",
            "Epoch 89/200\n",
            "8/8 [==============================] - 0s 23ms/step - loss: 0.1545 - accuracy: 0.1637 - val_loss: 0.1488 - val_accuracy: 0.2950\n",
            "Epoch 90/200\n",
            "8/8 [==============================] - 0s 21ms/step - loss: 0.1548 - accuracy: 0.1500 - val_loss: 0.1485 - val_accuracy: 0.2450\n",
            "Epoch 91/200\n",
            "8/8 [==============================] - 0s 22ms/step - loss: 0.1541 - accuracy: 0.1138 - val_loss: 0.1501 - val_accuracy: 0.2050\n",
            "Epoch 92/200\n",
            "8/8 [==============================] - 0s 22ms/step - loss: 0.1551 - accuracy: 0.1213 - val_loss: 0.1490 - val_accuracy: 0.2950\n",
            "Epoch 93/200\n",
            "8/8 [==============================] - 0s 22ms/step - loss: 0.1537 - accuracy: 0.1350 - val_loss: 0.1485 - val_accuracy: 0.2250\n",
            "Epoch 94/200\n",
            "8/8 [==============================] - 0s 22ms/step - loss: 0.1526 - accuracy: 0.1338 - val_loss: 0.1485 - val_accuracy: 0.3100\n",
            "Epoch 95/200\n",
            "8/8 [==============================] - 0s 21ms/step - loss: 0.1525 - accuracy: 0.1275 - val_loss: 0.1490 - val_accuracy: 0.2500\n",
            "Epoch 96/200\n",
            "8/8 [==============================] - 0s 21ms/step - loss: 0.1516 - accuracy: 0.1400 - val_loss: 0.1487 - val_accuracy: 0.2500\n",
            "Epoch 97/200\n",
            "8/8 [==============================] - 0s 22ms/step - loss: 0.1541 - accuracy: 0.1425 - val_loss: 0.1483 - val_accuracy: 0.3350\n",
            "Epoch 98/200\n",
            "8/8 [==============================] - 0s 22ms/step - loss: 0.1533 - accuracy: 0.1412 - val_loss: 0.1484 - val_accuracy: 0.3600\n",
            "Epoch 99/200\n",
            "8/8 [==============================] - 0s 21ms/step - loss: 0.1532 - accuracy: 0.1650 - val_loss: 0.1487 - val_accuracy: 0.5800\n",
            "Epoch 100/200\n",
            "8/8 [==============================] - 0s 22ms/step - loss: 0.1537 - accuracy: 0.1287 - val_loss: 0.1487 - val_accuracy: 0.3150\n",
            "Epoch 101/200\n",
            "8/8 [==============================] - 0s 21ms/step - loss: 0.1538 - accuracy: 0.1287 - val_loss: 0.1482 - val_accuracy: 0.3350\n",
            "Epoch 102/200\n",
            "8/8 [==============================] - 0s 21ms/step - loss: 0.1538 - accuracy: 0.1575 - val_loss: 0.1479 - val_accuracy: 0.3450\n",
            "Epoch 103/200\n",
            "8/8 [==============================] - 0s 22ms/step - loss: 0.1521 - accuracy: 0.1612 - val_loss: 0.1480 - val_accuracy: 0.3050\n",
            "Epoch 104/200\n",
            "8/8 [==============================] - 0s 21ms/step - loss: 0.1523 - accuracy: 0.1675 - val_loss: 0.1486 - val_accuracy: 0.4850\n",
            "Epoch 105/200\n",
            "8/8 [==============================] - 0s 23ms/step - loss: 0.1526 - accuracy: 0.1513 - val_loss: 0.1481 - val_accuracy: 0.3550\n",
            "Epoch 106/200\n",
            "8/8 [==============================] - 0s 22ms/step - loss: 0.1530 - accuracy: 0.1612 - val_loss: 0.1487 - val_accuracy: 0.3500\n",
            "Epoch 107/200\n",
            "8/8 [==============================] - 0s 21ms/step - loss: 0.1510 - accuracy: 0.1525 - val_loss: 0.1485 - val_accuracy: 0.4550\n",
            "Epoch 108/200\n",
            "8/8 [==============================] - 0s 21ms/step - loss: 0.1525 - accuracy: 0.1425 - val_loss: 0.1479 - val_accuracy: 0.3900\n",
            "Epoch 109/200\n",
            "8/8 [==============================] - 0s 22ms/step - loss: 0.1555 - accuracy: 0.1675 - val_loss: 0.1487 - val_accuracy: 0.3050\n",
            "Epoch 110/200\n",
            "8/8 [==============================] - 0s 22ms/step - loss: 0.1525 - accuracy: 0.1688 - val_loss: 0.1485 - val_accuracy: 0.3600\n",
            "Epoch 111/200\n",
            "8/8 [==============================] - 0s 22ms/step - loss: 0.1523 - accuracy: 0.1600 - val_loss: 0.1480 - val_accuracy: 0.3250\n",
            "Epoch 112/200\n",
            "8/8 [==============================] - 0s 22ms/step - loss: 0.1508 - accuracy: 0.1637 - val_loss: 0.1475 - val_accuracy: 0.4600\n",
            "Epoch 113/200\n",
            "8/8 [==============================] - 0s 22ms/step - loss: 0.1498 - accuracy: 0.1650 - val_loss: 0.1477 - val_accuracy: 0.5000\n",
            "Epoch 114/200\n",
            "8/8 [==============================] - 0s 22ms/step - loss: 0.1524 - accuracy: 0.1388 - val_loss: 0.1471 - val_accuracy: 0.3550\n",
            "Epoch 115/200\n",
            "8/8 [==============================] - 0s 22ms/step - loss: 0.1513 - accuracy: 0.1550 - val_loss: 0.1470 - val_accuracy: 0.3950\n",
            "Epoch 116/200\n",
            "8/8 [==============================] - 0s 22ms/step - loss: 0.1509 - accuracy: 0.1325 - val_loss: 0.1474 - val_accuracy: 0.3350\n",
            "Epoch 117/200\n",
            "8/8 [==============================] - 0s 22ms/step - loss: 0.1515 - accuracy: 0.1175 - val_loss: 0.1468 - val_accuracy: 0.3750\n",
            "Epoch 118/200\n",
            "8/8 [==============================] - 0s 22ms/step - loss: 0.1512 - accuracy: 0.1238 - val_loss: 0.1466 - val_accuracy: 0.4100\n",
            "Epoch 119/200\n",
            "8/8 [==============================] - 0s 22ms/step - loss: 0.1508 - accuracy: 0.1325 - val_loss: 0.1461 - val_accuracy: 0.4250\n",
            "Epoch 120/200\n",
            "8/8 [==============================] - 0s 22ms/step - loss: 0.1502 - accuracy: 0.1388 - val_loss: 0.1466 - val_accuracy: 0.3150\n",
            "Epoch 121/200\n",
            "8/8 [==============================] - 0s 22ms/step - loss: 0.1499 - accuracy: 0.1650 - val_loss: 0.1468 - val_accuracy: 0.4450\n",
            "Epoch 122/200\n",
            "8/8 [==============================] - 0s 21ms/step - loss: 0.1516 - accuracy: 0.1538 - val_loss: 0.1465 - val_accuracy: 0.3000\n",
            "Epoch 123/200\n",
            "8/8 [==============================] - 0s 22ms/step - loss: 0.1499 - accuracy: 0.1500 - val_loss: 0.1459 - val_accuracy: 0.4150\n",
            "Epoch 124/200\n",
            "8/8 [==============================] - 0s 21ms/step - loss: 0.1509 - accuracy: 0.1587 - val_loss: 0.1454 - val_accuracy: 0.4200\n",
            "Epoch 125/200\n",
            "8/8 [==============================] - 0s 22ms/step - loss: 0.1502 - accuracy: 0.1688 - val_loss: 0.1449 - val_accuracy: 0.3700\n",
            "Epoch 126/200\n",
            "8/8 [==============================] - 0s 21ms/step - loss: 0.1514 - accuracy: 0.1462 - val_loss: 0.1451 - val_accuracy: 0.6450\n",
            "Epoch 127/200\n",
            "8/8 [==============================] - 0s 22ms/step - loss: 0.1506 - accuracy: 0.1737 - val_loss: 0.1462 - val_accuracy: 0.5450\n",
            "Epoch 128/200\n",
            "8/8 [==============================] - 0s 22ms/step - loss: 0.1486 - accuracy: 0.1838 - val_loss: 0.1455 - val_accuracy: 0.6550\n",
            "Epoch 129/200\n",
            "8/8 [==============================] - 0s 21ms/step - loss: 0.1495 - accuracy: 0.2125 - val_loss: 0.1446 - val_accuracy: 0.6400\n",
            "Epoch 130/200\n",
            "8/8 [==============================] - 0s 21ms/step - loss: 0.1469 - accuracy: 0.2013 - val_loss: 0.1439 - val_accuracy: 0.5450\n",
            "Epoch 131/200\n",
            "8/8 [==============================] - 0s 22ms/step - loss: 0.1483 - accuracy: 0.1562 - val_loss: 0.1439 - val_accuracy: 0.4050\n",
            "Epoch 132/200\n",
            "8/8 [==============================] - 0s 22ms/step - loss: 0.1476 - accuracy: 0.1500 - val_loss: 0.1416 - val_accuracy: 0.6450\n",
            "Epoch 133/200\n",
            "8/8 [==============================] - 0s 22ms/step - loss: 0.1484 - accuracy: 0.1488 - val_loss: 0.1410 - val_accuracy: 0.5800\n",
            "Epoch 134/200\n",
            "8/8 [==============================] - 0s 21ms/step - loss: 0.1482 - accuracy: 0.1562 - val_loss: 0.1406 - val_accuracy: 0.5250\n",
            "Epoch 135/200\n",
            "8/8 [==============================] - 0s 22ms/step - loss: 0.1460 - accuracy: 0.1700 - val_loss: 0.1404 - val_accuracy: 0.5950\n",
            "Epoch 136/200\n",
            "8/8 [==============================] - 0s 21ms/step - loss: 0.1443 - accuracy: 0.2013 - val_loss: 0.1392 - val_accuracy: 0.7600\n",
            "Epoch 137/200\n",
            "8/8 [==============================] - 0s 22ms/step - loss: 0.1458 - accuracy: 0.2237 - val_loss: 0.1374 - val_accuracy: 0.6600\n",
            "Epoch 138/200\n",
            "8/8 [==============================] - 0s 22ms/step - loss: 0.1412 - accuracy: 0.2075 - val_loss: 0.1360 - val_accuracy: 0.6950\n",
            "Epoch 139/200\n",
            "8/8 [==============================] - 0s 22ms/step - loss: 0.1420 - accuracy: 0.2013 - val_loss: 0.1342 - val_accuracy: 0.6950\n",
            "Epoch 140/200\n",
            "8/8 [==============================] - 0s 21ms/step - loss: 0.1419 - accuracy: 0.2125 - val_loss: 0.1324 - val_accuracy: 0.7100\n",
            "Epoch 141/200\n",
            "8/8 [==============================] - 0s 22ms/step - loss: 0.1385 - accuracy: 0.2025 - val_loss: 0.1305 - val_accuracy: 0.7350\n",
            "Epoch 142/200\n",
            "8/8 [==============================] - 0s 22ms/step - loss: 0.1346 - accuracy: 0.2600 - val_loss: 0.1262 - val_accuracy: 0.7400\n",
            "Epoch 143/200\n",
            "8/8 [==============================] - 0s 22ms/step - loss: 0.1314 - accuracy: 0.3013 - val_loss: 0.1226 - val_accuracy: 0.7750\n",
            "Epoch 144/200\n",
            "8/8 [==============================] - 0s 22ms/step - loss: 0.1304 - accuracy: 0.3262 - val_loss: 0.1180 - val_accuracy: 0.8200\n",
            "Epoch 145/200\n",
            "8/8 [==============================] - 0s 21ms/step - loss: 0.1269 - accuracy: 0.3587 - val_loss: 0.1117 - val_accuracy: 0.8200\n",
            "Epoch 146/200\n",
            "8/8 [==============================] - 0s 21ms/step - loss: 0.1196 - accuracy: 0.4238 - val_loss: 0.1055 - val_accuracy: 0.8350\n",
            "Epoch 147/200\n",
            "8/8 [==============================] - 0s 22ms/step - loss: 0.1130 - accuracy: 0.4725 - val_loss: 0.0978 - val_accuracy: 0.8600\n",
            "Epoch 148/200\n",
            "8/8 [==============================] - 0s 22ms/step - loss: 0.1063 - accuracy: 0.5113 - val_loss: 0.0902 - val_accuracy: 0.9050\n",
            "Epoch 149/200\n",
            "8/8 [==============================] - 0s 21ms/step - loss: 0.0995 - accuracy: 0.5325 - val_loss: 0.0799 - val_accuracy: 0.9150\n",
            "Epoch 150/200\n",
            "8/8 [==============================] - 0s 22ms/step - loss: 0.0892 - accuracy: 0.5612 - val_loss: 0.0684 - val_accuracy: 0.9000\n",
            "Epoch 151/200\n",
            "8/8 [==============================] - 0s 22ms/step - loss: 0.0774 - accuracy: 0.6150 - val_loss: 0.0585 - val_accuracy: 0.8950\n",
            "Epoch 152/200\n",
            "8/8 [==============================] - 0s 21ms/step - loss: 0.0755 - accuracy: 0.6075 - val_loss: 0.0523 - val_accuracy: 0.9150\n",
            "Epoch 153/200\n",
            "8/8 [==============================] - 0s 21ms/step - loss: 0.0685 - accuracy: 0.6162 - val_loss: 0.0460 - val_accuracy: 0.9200\n",
            "Epoch 154/200\n",
            "8/8 [==============================] - 0s 22ms/step - loss: 0.0612 - accuracy: 0.6325 - val_loss: 0.0387 - val_accuracy: 0.9350\n",
            "Epoch 155/200\n",
            "8/8 [==============================] - 0s 22ms/step - loss: 0.0541 - accuracy: 0.6587 - val_loss: 0.0342 - val_accuracy: 0.9300\n",
            "Epoch 156/200\n",
            "8/8 [==============================] - 0s 22ms/step - loss: 0.0506 - accuracy: 0.6562 - val_loss: 0.0297 - val_accuracy: 0.9200\n",
            "Epoch 157/200\n",
            "8/8 [==============================] - 0s 21ms/step - loss: 0.0505 - accuracy: 0.6513 - val_loss: 0.0269 - val_accuracy: 0.9100\n",
            "Epoch 158/200\n",
            "8/8 [==============================] - 0s 21ms/step - loss: 0.0431 - accuracy: 0.6687 - val_loss: 0.0244 - val_accuracy: 0.9150\n",
            "Epoch 159/200\n",
            "8/8 [==============================] - 0s 21ms/step - loss: 0.0396 - accuracy: 0.6350 - val_loss: 0.0248 - val_accuracy: 0.9000\n",
            "Epoch 160/200\n",
            "8/8 [==============================] - 0s 22ms/step - loss: 0.0369 - accuracy: 0.6375 - val_loss: 0.0234 - val_accuracy: 0.9000\n",
            "Epoch 161/200\n",
            "8/8 [==============================] - 0s 22ms/step - loss: 0.0337 - accuracy: 0.6425 - val_loss: 0.0202 - val_accuracy: 0.9050\n",
            "Epoch 162/200\n",
            "8/8 [==============================] - 0s 22ms/step - loss: 0.0323 - accuracy: 0.6275 - val_loss: 0.0181 - val_accuracy: 0.8950\n",
            "Epoch 163/200\n",
            "8/8 [==============================] - 0s 21ms/step - loss: 0.0302 - accuracy: 0.6187 - val_loss: 0.0185 - val_accuracy: 0.8750\n",
            "Epoch 164/200\n",
            "8/8 [==============================] - 0s 22ms/step - loss: 0.0343 - accuracy: 0.6300 - val_loss: 0.0162 - val_accuracy: 0.9000\n",
            "Epoch 165/200\n",
            "8/8 [==============================] - 0s 21ms/step - loss: 0.0322 - accuracy: 0.6388 - val_loss: 0.0172 - val_accuracy: 0.8900\n",
            "Epoch 166/200\n",
            "8/8 [==============================] - 0s 22ms/step - loss: 0.0259 - accuracy: 0.6087 - val_loss: 0.0161 - val_accuracy: 0.8600\n",
            "Epoch 167/200\n",
            "8/8 [==============================] - 0s 22ms/step - loss: 0.0259 - accuracy: 0.5713 - val_loss: 0.0162 - val_accuracy: 0.8400\n",
            "Epoch 168/200\n",
            "8/8 [==============================] - 0s 22ms/step - loss: 0.0245 - accuracy: 0.5938 - val_loss: 0.0150 - val_accuracy: 0.8400\n",
            "Epoch 169/200\n",
            "8/8 [==============================] - 0s 22ms/step - loss: 0.0260 - accuracy: 0.5913 - val_loss: 0.0141 - val_accuracy: 0.8500\n",
            "Epoch 170/200\n",
            "8/8 [==============================] - 0s 22ms/step - loss: 0.0220 - accuracy: 0.5763 - val_loss: 0.0126 - val_accuracy: 0.8650\n",
            "Epoch 171/200\n",
            "8/8 [==============================] - 0s 22ms/step - loss: 0.0211 - accuracy: 0.6137 - val_loss: 0.0118 - val_accuracy: 0.8850\n",
            "Epoch 172/200\n",
            "8/8 [==============================] - 0s 23ms/step - loss: 0.0204 - accuracy: 0.5850 - val_loss: 0.0115 - val_accuracy: 0.8300\n",
            "Epoch 173/200\n",
            "8/8 [==============================] - 0s 21ms/step - loss: 0.0186 - accuracy: 0.5512 - val_loss: 0.0091 - val_accuracy: 0.7800\n",
            "Epoch 174/200\n",
            "8/8 [==============================] - 0s 21ms/step - loss: 0.0184 - accuracy: 0.5500 - val_loss: 0.0092 - val_accuracy: 0.7900\n",
            "Epoch 175/200\n",
            "8/8 [==============================] - 0s 22ms/step - loss: 0.0202 - accuracy: 0.5675 - val_loss: 0.0092 - val_accuracy: 0.8300\n",
            "Epoch 176/200\n",
            "8/8 [==============================] - 0s 22ms/step - loss: 0.0183 - accuracy: 0.5925 - val_loss: 0.0087 - val_accuracy: 0.8150\n",
            "Epoch 177/200\n",
            "8/8 [==============================] - 0s 22ms/step - loss: 0.0176 - accuracy: 0.5913 - val_loss: 0.0094 - val_accuracy: 0.8500\n",
            "Epoch 178/200\n",
            "8/8 [==============================] - 0s 22ms/step - loss: 0.0205 - accuracy: 0.5863 - val_loss: 0.0096 - val_accuracy: 0.8600\n",
            "Epoch 179/200\n",
            "8/8 [==============================] - 0s 21ms/step - loss: 0.0155 - accuracy: 0.5900 - val_loss: 0.0087 - val_accuracy: 0.8350\n",
            "Epoch 180/200\n",
            "8/8 [==============================] - 0s 21ms/step - loss: 0.0155 - accuracy: 0.6050 - val_loss: 0.0099 - val_accuracy: 0.8700\n",
            "Epoch 181/200\n",
            "8/8 [==============================] - 0s 22ms/step - loss: 0.0168 - accuracy: 0.6075 - val_loss: 0.0084 - val_accuracy: 0.8650\n",
            "Epoch 182/200\n",
            "8/8 [==============================] - 0s 22ms/step - loss: 0.0141 - accuracy: 0.6237 - val_loss: 0.0079 - val_accuracy: 0.8950\n",
            "Epoch 183/200\n",
            "8/8 [==============================] - 0s 21ms/step - loss: 0.0121 - accuracy: 0.6587 - val_loss: 0.0075 - val_accuracy: 0.8850\n",
            "Epoch 184/200\n",
            "8/8 [==============================] - 0s 23ms/step - loss: 0.0112 - accuracy: 0.6388 - val_loss: 0.0072 - val_accuracy: 0.8950\n",
            "Epoch 185/200\n",
            "8/8 [==============================] - 0s 21ms/step - loss: 0.0122 - accuracy: 0.6425 - val_loss: 0.0075 - val_accuracy: 0.9000\n",
            "Epoch 186/200\n",
            "8/8 [==============================] - 0s 22ms/step - loss: 0.0145 - accuracy: 0.6675 - val_loss: 0.0082 - val_accuracy: 0.9100\n",
            "Epoch 187/200\n",
            "8/8 [==============================] - 0s 22ms/step - loss: 0.0113 - accuracy: 0.6787 - val_loss: 0.0075 - val_accuracy: 0.9100\n",
            "Epoch 188/200\n",
            "8/8 [==============================] - 0s 22ms/step - loss: 0.0130 - accuracy: 0.7275 - val_loss: 0.0089 - val_accuracy: 0.9350\n",
            "Epoch 189/200\n",
            "8/8 [==============================] - 0s 23ms/step - loss: 0.0100 - accuracy: 0.7150 - val_loss: 0.0083 - val_accuracy: 0.9350\n",
            "Epoch 190/200\n",
            "8/8 [==============================] - 0s 21ms/step - loss: 0.0103 - accuracy: 0.7088 - val_loss: 0.0079 - val_accuracy: 0.9400\n",
            "Epoch 191/200\n",
            "8/8 [==============================] - 0s 21ms/step - loss: 0.0129 - accuracy: 0.7188 - val_loss: 0.0073 - val_accuracy: 0.9300\n",
            "Epoch 192/200\n",
            "8/8 [==============================] - 0s 22ms/step - loss: 0.0112 - accuracy: 0.7025 - val_loss: 0.0070 - val_accuracy: 0.9300\n",
            "Epoch 193/200\n",
            "8/8 [==============================] - 0s 22ms/step - loss: 0.0124 - accuracy: 0.6913 - val_loss: 0.0071 - val_accuracy: 0.8950\n",
            "Epoch 194/200\n",
            "8/8 [==============================] - 0s 22ms/step - loss: 0.0104 - accuracy: 0.6300 - val_loss: 0.0072 - val_accuracy: 0.8800\n",
            "Epoch 195/200\n",
            "8/8 [==============================] - 0s 21ms/step - loss: 0.0111 - accuracy: 0.6137 - val_loss: 0.0065 - val_accuracy: 0.8400\n",
            "Epoch 196/200\n",
            "8/8 [==============================] - 0s 22ms/step - loss: 0.0123 - accuracy: 0.6250 - val_loss: 0.0076 - val_accuracy: 0.8850\n",
            "Epoch 197/200\n",
            "8/8 [==============================] - 0s 22ms/step - loss: 0.0110 - accuracy: 0.6438 - val_loss: 0.0074 - val_accuracy: 0.8900\n",
            "Epoch 198/200\n",
            "8/8 [==============================] - 0s 22ms/step - loss: 0.0111 - accuracy: 0.6425 - val_loss: 0.0067 - val_accuracy: 0.8650\n",
            "Epoch 199/200\n",
            "8/8 [==============================] - 0s 21ms/step - loss: 0.0104 - accuracy: 0.6612 - val_loss: 0.0061 - val_accuracy: 0.8500\n",
            "Epoch 200/200\n",
            "8/8 [==============================] - 0s 22ms/step - loss: 0.0094 - accuracy: 0.6288 - val_loss: 0.0073 - val_accuracy: 0.8850\n"
          ],
          "name": "stdout"
        }
      ]
    },
    {
      "cell_type": "code",
      "metadata": {
        "id": "wDOGXxlWe076",
        "colab_type": "code",
        "colab": {}
      },
      "source": [
        "history2 = model2.fit(XF_train, YF_train, batch_size = 100, epochs=200, validation_data = (XF_test, YF_test), shuffle = True, verbose = 1)"
      ],
      "execution_count": null,
      "outputs": []
    },
    {
      "cell_type": "code",
      "metadata": {
        "id": "rpcJqyn-KhJo",
        "colab_type": "code",
        "colab": {
          "base_uri": "https://localhost:8080/",
          "height": 436
        },
        "outputId": "bf2e5d75-f33b-4acd-9ef6-7dd90cb2dcf5"
      },
      "source": [
        "model2.fit(XF_train, YF_train, batch_size = 100, epochs=10, validation_data = (XF_val, YF_val), shuffle = True, verbose = 1)"
      ],
      "execution_count": null,
      "outputs": [
        {
          "output_type": "stream",
          "text": [
            "Epoch 1/10\n",
            "1/8 [==>...........................] - ETA: 0s - loss: 0.0095 - accuracy: 0.7200WARNING:tensorflow:Callbacks method `on_train_batch_end` is slow compared to the batch time (batch time: 0.0064s vs `on_train_batch_end` time: 0.0221s). Check your callbacks.\n",
            "7/8 [=========================>....] - ETA: 0s - loss: 0.0054 - accuracy: 0.6600WARNING:tensorflow:Callbacks method `on_test_batch_end` is slow compared to the batch time (batch time: 0.0017s vs `on_test_batch_end` time: 0.0041s). Check your callbacks.\n",
            "8/8 [==============================] - 0s 34ms/step - loss: 0.0052 - accuracy: 0.6637 - val_loss: 0.0087 - val_accuracy: 0.8750\n",
            "Epoch 2/10\n",
            "8/8 [==============================] - 0s 22ms/step - loss: 0.0043 - accuracy: 0.6938 - val_loss: 0.0089 - val_accuracy: 0.8850\n",
            "Epoch 3/10\n",
            "8/8 [==============================] - 0s 21ms/step - loss: 0.0039 - accuracy: 0.6538 - val_loss: 0.0079 - val_accuracy: 0.8900\n",
            "Epoch 4/10\n",
            "8/8 [==============================] - 0s 22ms/step - loss: 0.0044 - accuracy: 0.6925 - val_loss: 0.0065 - val_accuracy: 0.9050\n",
            "Epoch 5/10\n",
            "8/8 [==============================] - 0s 22ms/step - loss: 0.0035 - accuracy: 0.6963 - val_loss: 0.0059 - val_accuracy: 0.8850\n",
            "Epoch 6/10\n",
            "8/8 [==============================] - 0s 21ms/step - loss: 0.0048 - accuracy: 0.6550 - val_loss: 0.0072 - val_accuracy: 0.8750\n",
            "Epoch 7/10\n",
            "8/8 [==============================] - 0s 22ms/step - loss: 0.0057 - accuracy: 0.6575 - val_loss: 0.0072 - val_accuracy: 0.8500\n",
            "Epoch 8/10\n",
            "8/8 [==============================] - 0s 22ms/step - loss: 0.0047 - accuracy: 0.6600 - val_loss: 0.0074 - val_accuracy: 0.8550\n",
            "Epoch 9/10\n",
            "8/8 [==============================] - 0s 22ms/step - loss: 0.0033 - accuracy: 0.6288 - val_loss: 0.0071 - val_accuracy: 0.8500\n",
            "Epoch 10/10\n",
            "8/8 [==============================] - 0s 22ms/step - loss: 0.0028 - accuracy: 0.6225 - val_loss: 0.0074 - val_accuracy: 0.8500\n"
          ],
          "name": "stdout"
        },
        {
          "output_type": "execute_result",
          "data": {
            "text/plain": [
              "<tensorflow.python.keras.callbacks.History at 0x7f11a2402470>"
            ]
          },
          "metadata": {
            "tags": []
          },
          "execution_count": 147
        }
      ]
    },
    {
      "cell_type": "markdown",
      "metadata": {
        "id": "83siCyc4y6rj",
        "colab_type": "text"
      },
      "source": [
        "##**Training Results**##"
      ]
    },
    {
      "cell_type": "code",
      "metadata": {
        "id": "TomSC5PyOP6D",
        "colab_type": "code",
        "colab": {
          "base_uri": "https://localhost:8080/",
          "height": 495
        },
        "outputId": "9415ea8b-ce2d-4f4d-89c8-e730b51332db"
      },
      "source": [
        "import matplotlib.pyplot as plt\n",
        "acc = history2.history['accuracy']\n",
        "val_acc = history2.history['val_accuracy']\n",
        "loss = history2.history['loss']\n",
        "val_loss = history2.history['val_loss']\n",
        "\n",
        "epochs = range(len(acc))\n",
        "\n",
        "plt.figure(figsize=(8,5), dpi=100)\n",
        "plt.plot(epochs, acc, 'r', label='Training accuracy')\n",
        "plt.plot(epochs, val_acc, 'b', label='Validation accuracy')\n",
        "plt.plot(epochs, loss, 'r', linestyle='dashed', label='Training accuracy')\n",
        "plt.plot(epochs, val_loss, 'b', linestyle='dashed', label='Validation accuracy')\n",
        "plt.title('Training and validation accuracy')\n",
        "plt.legend(loc=0)\n",
        "plt.figure()"
      ],
      "execution_count": null,
      "outputs": [
        {
          "output_type": "execute_result",
          "data": {
            "text/plain": [
              "<Figure size 432x288 with 0 Axes>"
            ]
          },
          "metadata": {
            "tags": []
          },
          "execution_count": 156
        },
        {
          "output_type": "display_data",
          "data": {
            "image/png": "[encoded data removed]",
            "text/plain": [
              "<Figure size 800x500 with 1 Axes>"
            ]
          },
          "metadata": {
            "tags": [],
            "needs_background": "light"
          }
        },
        {
          "output_type": "display_data",
          "data": {
            "text/plain": [
              "<Figure size 432x288 with 0 Axes>"
            ]
          },
          "metadata": {
            "tags": []
          }
        }
      ]
    },
    {
      "cell_type": "code",
      "metadata": {
        "id": "q1YbZG_lzMPq",
        "colab_type": "code",
        "colab": {}
      },
      "source": [
        "for i in range(20):\n",
        "  plt.imshow(np.squeeze(XF_test[i]), cmap='gray')\n",
        "  plt.axis('off')\n",
        "  plt.show()\n",
        "  print(YF_test[i])"
      ],
      "execution_count": null,
      "outputs": []
    },
    {
      "cell_type": "code",
      "metadata": {
        "id": "wcIKJAs3txwt",
        "colab_type": "code",
        "colab": {
          "base_uri": "https://localhost:8080/",
          "height": 121
        },
        "outputId": "934370e5-9497-4aef-8201-e0bd25d3b2db"
      },
      "source": [
        "model2.predict(XF_test[0:2])"
      ],
      "execution_count": null,
      "outputs": [
        {
          "output_type": "execute_result",
          "data": {
            "text/plain": [
              "array([[0.0000000e+00, 0.0000000e+00, 0.0000000e+00, 0.0000000e+00,\n",
              "        0.0000000e+00, 0.0000000e+00, 0.0000000e+00, 1.0000000e+00,\n",
              "        0.0000000e+00, 0.0000000e+00, 1.0000000e+00],\n",
              "       [9.9834085e-01, 1.2080270e-02, 1.4199453e-03, 1.4253678e-03,\n",
              "        2.2534153e-03, 2.0786193e-03, 7.5387955e-03, 3.6766063e-03,\n",
              "        1.7614814e-03, 1.2913409e-02, 3.2239992e-04]], dtype=float32)"
            ]
          },
          "metadata": {
            "tags": []
          },
          "execution_count": 50
        }
      ]
    },
    {
      "cell_type": "code",
      "metadata": {
        "id": "WY6LIlOmEsCe",
        "colab_type": "code",
        "colab": {}
      },
      "source": [
        "class1 = model2.predict(XF_test)\n",
        "\n",
        "Labels = ['Amit','Aswal','Daniel','John','Kevin','Lalita','Ram','Sancho','Vinod','Vivek']\n",
        "for i in range(20):\n",
        "  real = 0\n",
        "  index_sign = np.argmax(class1[i][:10])\n",
        "  \n",
        "  index = class1[i][10]\n",
        "  if index > 0.5:\n",
        "    real = 1\n",
        "  print('Signature',i,'=',Labels[index_sign], \"; Genuiness:\", real)\n",
        "  print(YF_test[i])"
      ],
      "execution_count": null,
      "outputs": []
    },
    {
      "cell_type": "markdown",
      "metadata": {
        "id": "pzZWiBlSzDul",
        "colab_type": "text"
      },
      "source": [
        "##**Training and Testing Accuracy**##"
      ]
    },
    {
      "cell_type": "code",
      "metadata": {
        "id": "83GzWmKeuvkj",
        "colab_type": "code",
        "colab": {
          "base_uri": "https://localhost:8080/",
          "height": 87
        },
        "outputId": "3ff6c502-ac2e-4539-8de8-139a8ba8b89c"
      },
      "source": [
        "class1 = model2.predict(XF_train)\n",
        "\n",
        "c1, w1 = 0, 0\n",
        "c2, w2 = 0, 0\n",
        "\n",
        "Labels = ['Amit','Aswal','Daniel','John','Kevin','Lalita','Ram','Sancho','Vinod','Vivek']\n",
        "for i in range(len(class1)):\n",
        "  real = 0\n",
        "  index_sign = np.argmax(class1[i][:10])\n",
        "  GT_sign = np.argmax(YF_train[i][:10])\n",
        "  \n",
        "  index = class1[i][10]\n",
        "  if index > 0.5:\n",
        "    real = 1\n",
        "  #print('Signature',i,'=',Labels[index_sign], \"; Genuiness:\", real)\n",
        "  if int(real) == int(YF_train[i][10]):\n",
        "    c1+=1\n",
        "  else:\n",
        "    w1+=1\n",
        "  \n",
        "  if int(index_sign) == int(GT_sign):\n",
        "    c2+=1\n",
        "  else:\n",
        "    w2+=1\n",
        "\n",
        "print(\"Genuine Accuracy:\", c1/(c1+w1)*100)\n",
        "print(\"Correct:\", c1, \"Wrong:\", w1)\n",
        "\n",
        "print(\"Signature Accuracy:\", c2/(c2+w2)*100)\n",
        "print(\"Correct:\", c2, \"Wrong:\", w2)"
      ],
      "execution_count": null,
      "outputs": [
        {
          "output_type": "stream",
          "text": [
            "Genuine Accuracy: 100.0\n",
            "Correct: 800 Wrong: 0\n",
            "Signature Accuracy: 100.0\n",
            "Correct: 800 Wrong: 0\n"
          ],
          "name": "stdout"
        }
      ]
    },
    {
      "cell_type": "code",
      "metadata": {
        "id": "BaTiEDTBMmtF",
        "colab_type": "code",
        "colab": {
          "base_uri": "https://localhost:8080/",
          "height": 87
        },
        "outputId": "579188d2-1829-41eb-f361-820783134d24"
      },
      "source": [
        "class1 = model2.predict(XF_test)\n",
        "\n",
        "c1, w1 = 0, 0\n",
        "c2, w2 = 0, 0\n",
        "\n",
        "Labels = ['Amit','Aswal','Daniel','John','Kevin','Lalita','Ram','Sancho','Vinod','Vivek']\n",
        "for i in range(len(class1)):\n",
        "  real = 0\n",
        "  index_sign = np.argmax(class1[i][:10])\n",
        "  GT_sign = np.argmax(YF_test[i][:10])\n",
        "  \n",
        "  index = class1[i][10]\n",
        "  if index > 0.5:\n",
        "    real = 1\n",
        "  #print('Signature',i,'=',Labels[index_sign], \"; Genuiness:\", real)\n",
        "  if int(real) == int(YF_test[i][10]):\n",
        "    c1+=1\n",
        "  else:\n",
        "    w1+=1\n",
        "  \n",
        "  if int(index_sign) == int(GT_sign):\n",
        "    c2+=1\n",
        "  else:\n",
        "    w2+=1\n",
        "\n",
        "print(\"Genuine Accuracy:\", c1/(c1+w1)*100)\n",
        "print(\"Correct:\", c1, \"Wrong:\", w1)\n",
        "\n",
        "print(\"Signature Accuracy:\", c2/(c2+w2)*100)\n",
        "print(\"Correct:\", c2, \"Wrong:\", w2)"
      ],
      "execution_count": null,
      "outputs": [
        {
          "output_type": "stream",
          "text": [
            "Genuine Accuracy: 100.0\n",
            "Correct: 1000 Wrong: 0\n",
            "Signature Accuracy: 99.8\n",
            "Correct: 998 Wrong: 2\n"
          ],
          "name": "stdout"
        }
      ]
    },
    {
      "cell_type": "code",
      "metadata": {
        "id": "zcrnxllAUXy_",
        "colab_type": "code",
        "colab": {
          "base_uri": "https://localhost:8080/",
          "height": 850
        },
        "outputId": "bf1f2b24-796f-4156-96bf-dd175888c533"
      },
      "source": [
        "Labels = ['Amit','Aswal','Daniel','John','Kevin','Lalita','Ram','Sancho','Vinod','Vivek']\n",
        "\n",
        "def show_confusion_matrix(validations, predictions):\n",
        "\n",
        "    matrix = metrics.confusion_matrix(validations, predictions)\n",
        "    plt.figure(figsize=(8, 6), dpi=100)\n",
        "    sns.heatmap(matrix,\n",
        "                cmap='coolwarm',\n",
        "                linecolor='white',\n",
        "                linewidths=1,\n",
        "                xticklabels=Labels,\n",
        "                yticklabels=Labels,\n",
        "                annot=True,\n",
        "                fmt='d')\n",
        "    plt.title('Confusion Matrix')\n",
        "    plt.ylabel('True Label')\n",
        "    plt.xlabel('Predicted Label')\n",
        "    plt.show()\n",
        "\n",
        "y_pred_test = model2.predict(XF_test)\n",
        "# Take the class with the highest probability from the test predictions\n",
        "max_y_pred_test = np.argmax(y_pred_test[:, :10], axis=1)\n",
        "max_y_test = np.argmax(YF_test[:, :10], axis=1)\n",
        "\n",
        "show_confusion_matrix(max_y_test, max_y_pred_test)\n",
        "\n",
        "print(metrics.classification_report(max_y_test, max_y_pred_test))"
      ],
      "execution_count": null,
      "outputs": [
        {
          "output_type": "display_data",
          "data": {
            "image/png": "[encoded data removed]",
            "text/plain": [
              "<Figure size 800x600 with 2 Axes>"
            ]
          },
          "metadata": {
            "tags": [],
            "needs_background": "light"
          }
        },
        {
          "output_type": "stream",
          "text": [
            "              precision    recall  f1-score   support\n",
            "\n",
            "           0       0.99      1.00      1.00       100\n",
            "           1       1.00      1.00      1.00       100\n",
            "           2       1.00      1.00      1.00       100\n",
            "           3       0.99      1.00      1.00       100\n",
            "           4       1.00      1.00      1.00       100\n",
            "           5       1.00      0.99      0.99       100\n",
            "           6       1.00      1.00      1.00       100\n",
            "           7       1.00      0.99      0.99       100\n",
            "           8       1.00      1.00      1.00       100\n",
            "           9       1.00      1.00      1.00       100\n",
            "\n",
            "    accuracy                           1.00      1000\n",
            "   macro avg       1.00      1.00      1.00      1000\n",
            "weighted avg       1.00      1.00      1.00      1000\n",
            "\n"
          ],
          "name": "stdout"
        }
      ]
    },
    {
      "cell_type": "code",
      "metadata": {
        "id": "VtZS1sRfNxyL",
        "colab_type": "code",
        "colab": {
          "base_uri": "https://localhost:8080/",
          "height": 485
        },
        "outputId": "dfc712ac-d208-4e8a-d990-6bfc02d1df99"
      },
      "source": [
        "Labels = ['Fake', 'True']\n",
        "\n",
        "def show_confusion_matrix(validations, predictions):\n",
        "\n",
        "    matrix = metrics.confusion_matrix(validations, predictions)\n",
        "    plt.figure(figsize=(4, 3), dpi=100)\n",
        "    sns.heatmap(matrix,\n",
        "                cmap='coolwarm',\n",
        "                linecolor='white',\n",
        "                linewidths=1,\n",
        "                xticklabels=Labels,\n",
        "                yticklabels=Labels,\n",
        "                annot=True,\n",
        "                fmt='d')\n",
        "    plt.title('Confusion Matrix')\n",
        "    plt.ylabel('True Label')\n",
        "    plt.xlabel('Predicted Label')\n",
        "    plt.show()\n",
        "\n",
        "y_pred_test = model2.predict(XF_test)\n",
        "# Take the class with the highest probability from the test predictions\n",
        "max_y_pred_test = np.round(y_pred_test[:, 10])\n",
        "max_y_test = np.round(YF_test[:, 10])\n",
        "\n",
        "show_confusion_matrix(max_y_test, max_y_pred_test)\n",
        "\n",
        "print(metrics.classification_report(max_y_test, max_y_pred_test))"
      ],
      "execution_count": null,
      "outputs": [
        {
          "output_type": "display_data",
          "data": {
            "image/png": "[encoded data removed]",
            "text/plain": [
              "<Figure size 400x300 with 2 Axes>"
            ]
          },
          "metadata": {
            "tags": [],
            "needs_background": "light"
          }
        },
        {
          "output_type": "stream",
          "text": [
            "              precision    recall  f1-score   support\n",
            "\n",
            "         0.0       1.00      1.00      1.00       500\n",
            "         1.0       1.00      1.00      1.00       500\n",
            "\n",
            "    accuracy                           1.00      1000\n",
            "   macro avg       1.00      1.00      1.00      1000\n",
            "weighted avg       1.00      1.00      1.00      1000\n",
            "\n"
          ],
          "name": "stdout"
        }
      ]
    },
    {
      "cell_type": "markdown",
      "metadata": {
        "id": "dUr1FpnazNsJ",
        "colab_type": "text"
      },
      "source": [
        "##**Validation Accuracy**##"
      ]
    },
    {
      "cell_type": "code",
      "metadata": {
        "id": "GdyJ9pKRvPlY",
        "colab_type": "code",
        "colab": {
          "base_uri": "https://localhost:8080/",
          "height": 87
        },
        "outputId": "e0425ac7-3506-45ac-c15b-3212ae3acfd9"
      },
      "source": [
        "class1 = model2.predict(XF_val)\n",
        "\n",
        "c1, w1 = 0, 0\n",
        "c2, w2 = 0, 0\n",
        "\n",
        "Labels = ['Amit','Aswal','Daniel','John','Kevin','Lalita','Ram','Sancho','Vinod','Vivek']\n",
        "for i in range(len(class1)):\n",
        "  real = 0\n",
        "  index_sign = np.argmax(class1[i][:10])\n",
        "  GT_sign = np.argmax(YF_val[i][:10])\n",
        "  \n",
        "  index = class1[i][10]\n",
        "  if index > 0.5:\n",
        "    real = 1\n",
        "  #print('Signature',i,'=',Labels[index_sign], \"; Genuiness:\", real)\n",
        "  if int(real) == int(YF_val[i][10]):\n",
        "    c1+=1\n",
        "  else:\n",
        "    w1+=1\n",
        "  \n",
        "  if int(index_sign) == int(GT_sign):\n",
        "    c2+=1\n",
        "  else:\n",
        "    w2+=1\n",
        "\n",
        "print(\"Genuine Accuracy:\", c1/(c1+w1)*100)\n",
        "print(\"Correct:\", c1, \"Wrong:\", w1)\n",
        "\n",
        "print(\"Signature Accuracy:\", c2/(c2+w2)*100)\n",
        "print(\"Correct:\", c2, \"Wrong:\", w2)"
      ],
      "execution_count": null,
      "outputs": [
        {
          "output_type": "stream",
          "text": [
            "Genuine Accuracy: 100.0\n",
            "Correct: 200 Wrong: 0\n",
            "Signature Accuracy: 99.5\n",
            "Correct: 199 Wrong: 1\n"
          ],
          "name": "stdout"
        }
      ]
    },
    {
      "cell_type": "code",
      "metadata": {
        "id": "jXNy1SSvvZsJ",
        "colab_type": "code",
        "colab": {
          "base_uri": "https://localhost:8080/",
          "height": 850
        },
        "outputId": "2998815b-70ef-4135-e1c4-2cd32e555225"
      },
      "source": [
        "Labels = ['Amit','Aswal','Daniel','John','Kevin','Lalita','Ram','Sancho','Vinod','Vivek']\n",
        "\n",
        "def show_confusion_matrix(validations, predictions):\n",
        "\n",
        "    matrix = metrics.confusion_matrix(validations, predictions)\n",
        "    plt.figure(figsize=(8, 6), dpi=100)\n",
        "    sns.heatmap(matrix,\n",
        "                cmap='coolwarm',\n",
        "                linecolor='white',\n",
        "                linewidths=1,\n",
        "                xticklabels=Labels,\n",
        "                yticklabels=Labels,\n",
        "                annot=True,\n",
        "                fmt='d')\n",
        "    plt.title('Confusion Matrix')\n",
        "    plt.ylabel('True Label')\n",
        "    plt.xlabel('Predicted Label')\n",
        "    plt.show()\n",
        "\n",
        "y_pred_test = model2.predict(XF_val)\n",
        "# Take the class with the highest probability from the test predictions\n",
        "max_y_pred_test = np.argmax(y_pred_test[:, :10], axis=1)\n",
        "max_y_test = np.argmax(YF_val[:, :10], axis=1)\n",
        "\n",
        "show_confusion_matrix(max_y_test, max_y_pred_test)\n",
        "\n",
        "print(metrics.classification_report(max_y_test, max_y_pred_test))"
      ],
      "execution_count": null,
      "outputs": [
        {
          "output_type": "display_data",
          "data": {
            "image/png": "[encoded data removed]",
            "text/plain": [
              "<Figure size 800x600 with 2 Axes>"
            ]
          },
          "metadata": {
            "tags": [],
            "needs_background": "light"
          }
        },
        {
          "output_type": "stream",
          "text": [
            "              precision    recall  f1-score   support\n",
            "\n",
            "           0       1.00      1.00      1.00        20\n",
            "           1       1.00      1.00      1.00        20\n",
            "           2       1.00      1.00      1.00        20\n",
            "           3       1.00      1.00      1.00        20\n",
            "           4       1.00      1.00      1.00        20\n",
            "           5       1.00      1.00      1.00        20\n",
            "           6       1.00      0.95      0.97        20\n",
            "           7       0.95      1.00      0.98        20\n",
            "           8       1.00      1.00      1.00        20\n",
            "           9       1.00      1.00      1.00        20\n",
            "\n",
            "    accuracy                           0.99       200\n",
            "   macro avg       1.00      0.99      0.99       200\n",
            "weighted avg       1.00      0.99      0.99       200\n",
            "\n"
          ],
          "name": "stdout"
        }
      ]
    },
    {
      "cell_type": "code",
      "metadata": {
        "id": "ugA8CGTgvblL",
        "colab_type": "code",
        "colab": {
          "base_uri": "https://localhost:8080/",
          "height": 485
        },
        "outputId": "f3bfbdc8-be5e-4af5-bdf8-ec5ba220dd0b"
      },
      "source": [
        "Labels = ['Fake', 'True']\n",
        "\n",
        "def show_confusion_matrix(validations, predictions):\n",
        "\n",
        "    matrix = metrics.confusion_matrix(validations, predictions)\n",
        "    plt.figure(figsize=(4, 3), dpi=100)\n",
        "    sns.heatmap(matrix,\n",
        "                cmap='coolwarm',\n",
        "                linecolor='white',\n",
        "                linewidths=1,\n",
        "                xticklabels=Labels,\n",
        "                yticklabels=Labels,\n",
        "                annot=True,\n",
        "                fmt='d')\n",
        "    plt.title('Confusion Matrix')\n",
        "    plt.ylabel('True Label')\n",
        "    plt.xlabel('Predicted Label')\n",
        "    plt.show()\n",
        "\n",
        "y_pred_test = model2.predict(XF_val)\n",
        "# Take the class with the highest probability from the test predictions\n",
        "max_y_pred_test = np.round(y_pred_test[:, 10])\n",
        "max_y_test = np.round(YF_val[:, 10])\n",
        "\n",
        "show_confusion_matrix(max_y_test, max_y_pred_test)\n",
        "\n",
        "print(metrics.classification_report(max_y_test, max_y_pred_test))"
      ],
      "execution_count": null,
      "outputs": [
        {
          "output_type": "display_data",
          "data": {
            "image/png": "[encoded data removed]",
            "text/plain": [
              "<Figure size 400x300 with 2 Axes>"
            ]
          },
          "metadata": {
            "tags": [],
            "needs_background": "light"
          }
        },
        {
          "output_type": "stream",
          "text": [
            "              precision    recall  f1-score   support\n",
            "\n",
            "         0.0       1.00      1.00      1.00       100\n",
            "         1.0       1.00      1.00      1.00       100\n",
            "\n",
            "    accuracy                           1.00       200\n",
            "   macro avg       1.00      1.00      1.00       200\n",
            "weighted avg       1.00      1.00      1.00       200\n",
            "\n"
          ],
          "name": "stdout"
        }
      ]
    },
    {
      "cell_type": "markdown",
      "metadata": {
        "id": "SkBUtUG30qAa",
        "colab_type": "text"
      },
      "source": [
        "##**Adversarial Noise**##"
      ]
    },
    {
      "cell_type": "code",
      "metadata": {
        "id": "tyxZj24c0oT3",
        "colab_type": "code",
        "colab": {
          "base_uri": "https://localhost:8080/",
          "height": 248
        },
        "outputId": "a9330bc0-dd14-46e1-dc2b-7906effe76d6"
      },
      "source": [
        "plt.imshow(np.squeeze(test1_data[0]), cmap='binary')\n",
        "plt.axis('off')\n",
        "plt.show()"
      ],
      "execution_count": null,
      "outputs": [
        {
          "output_type": "display_data",
          "data": {
            "image/png": "[encoded data removed]",
            "text/plain": [
              "<Figure size 432x288 with 1 Axes>"
            ]
          },
          "metadata": {
            "tags": [],
            "needs_background": "light"
          }
        }
      ]
    },
    {
      "cell_type": "code",
      "metadata": {
        "id": "hINlOfd013lJ",
        "colab_type": "code",
        "colab": {
          "base_uri": "https://localhost:8080/",
          "height": 243
        },
        "outputId": "1e2b250b-70ba-49f7-d24b-951a19fa111e"
      },
      "source": [
        "print(np.squeeze(test1_data[0]))"
      ],
      "execution_count": null,
      "outputs": [
        {
          "output_type": "stream",
          "text": [
            "[[1.40760624e-11 8.39153691e-23 5.74248298e-20 ... 7.42665131e-12\n",
            "  4.21025675e-07 4.47489583e-05]\n",
            " [3.18902425e-20 2.72788910e-31 5.82076849e-38 ... 4.57825899e-18\n",
            "  6.64625147e-14 3.76495482e-05]\n",
            " [1.10421200e-16 2.78622237e-34 1.76582687e-37 ... 8.87671504e-19\n",
            "  1.13831710e-15 1.90036788e-12]\n",
            " ...\n",
            " [8.75050828e-05 1.08230302e-09 1.44012403e-18 ... 0.00000000e+00\n",
            "  1.21818179e-33 7.60543589e-20]\n",
            " [1.28583741e-10 2.60143857e-18 1.31585454e-23 ... 0.00000000e+00\n",
            "  4.41137536e-33 1.20948015e-20]\n",
            " [9.97635561e-06 7.53755511e-14 3.46548848e-18 ... 2.50809982e-22\n",
            "  1.07079570e-21 5.23762128e-17]]\n"
          ],
          "name": "stdout"
        }
      ]
    },
    {
      "cell_type": "code",
      "metadata": {
        "id": "_U4-prPx2Hjd",
        "colab_type": "code",
        "colab": {}
      },
      "source": [
        "image = Image.fromarray(np.squeeze(test1_data[0]))"
      ],
      "execution_count": null,
      "outputs": []
    },
    {
      "cell_type": "code",
      "metadata": {
        "id": "8NXBQbNV7YIo",
        "colab_type": "code",
        "colab": {}
      },
      "source": [
        "image1 = test1_data[0]"
      ],
      "execution_count": null,
      "outputs": []
    },
    {
      "cell_type": "code",
      "metadata": {
        "id": "s545q7EwlWcU",
        "colab_type": "code",
        "colab": {}
      },
      "source": [
        "image_round = np.round(image1)"
      ],
      "execution_count": null,
      "outputs": []
    },
    {
      "cell_type": "code",
      "metadata": {
        "id": "HrNjkTWwla90",
        "colab_type": "code",
        "colab": {
          "base_uri": "https://localhost:8080/",
          "height": 867
        },
        "outputId": "b6fd6d3a-2dd7-46b9-b07f-830fe82527d1"
      },
      "source": [
        "print(image_round)"
      ],
      "execution_count": null,
      "outputs": [
        {
          "output_type": "stream",
          "text": [
            "[[[0.]\n",
            "  [0.]\n",
            "  [0.]\n",
            "  ...\n",
            "  [0.]\n",
            "  [0.]\n",
            "  [0.]]\n",
            "\n",
            " [[0.]\n",
            "  [0.]\n",
            "  [0.]\n",
            "  ...\n",
            "  [0.]\n",
            "  [0.]\n",
            "  [0.]]\n",
            "\n",
            " [[0.]\n",
            "  [0.]\n",
            "  [0.]\n",
            "  ...\n",
            "  [0.]\n",
            "  [0.]\n",
            "  [0.]]\n",
            "\n",
            " ...\n",
            "\n",
            " [[0.]\n",
            "  [0.]\n",
            "  [0.]\n",
            "  ...\n",
            "  [0.]\n",
            "  [0.]\n",
            "  [0.]]\n",
            "\n",
            " [[0.]\n",
            "  [0.]\n",
            "  [0.]\n",
            "  ...\n",
            "  [0.]\n",
            "  [0.]\n",
            "  [0.]]\n",
            "\n",
            " [[0.]\n",
            "  [0.]\n",
            "  [0.]\n",
            "  ...\n",
            "  [0.]\n",
            "  [0.]\n",
            "  [0.]]]\n"
          ],
          "name": "stdout"
        }
      ]
    },
    {
      "cell_type": "code",
      "metadata": {
        "id": "QfD0TIxS4BvQ",
        "colab_type": "code",
        "colab": {}
      },
      "source": [
        "imageio.imsave(os.path.join(\"/content/amit.png\"),img_as_ubyte(image1))"
      ],
      "execution_count": null,
      "outputs": []
    },
    {
      "cell_type": "code",
      "metadata": {
        "id": "0-vho1Iy4wdG",
        "colab_type": "code",
        "colab": {}
      },
      "source": [
        "amit = cv2.imread('/content/amit.png', 0)\n",
        "amit = np.expand_dims(amit, axis = 2)"
      ],
      "execution_count": null,
      "outputs": []
    },
    {
      "cell_type": "code",
      "metadata": {
        "id": "2oIeRaZ430wj",
        "colab_type": "code",
        "colab": {
          "base_uri": "https://localhost:8080/",
          "height": 248
        },
        "outputId": "28849037-f00b-4947-df0f-89f4dfad8dd3"
      },
      "source": [
        "plt.imshow(np.squeeze(amit), cmap='binary')\n",
        "plt.axis('off')\n",
        "plt.show()"
      ],
      "execution_count": null,
      "outputs": [
        {
          "output_type": "display_data",
          "data": {
            "image/png": "[encoded data removed]",
            "text/plain": [
              "<Figure size 432x288 with 1 Axes>"
            ]
          },
          "metadata": {
            "tags": [],
            "needs_background": "light"
          }
        }
      ]
    },
    {
      "cell_type": "code",
      "metadata": {
        "id": "XKbABpjH48ya",
        "colab_type": "code",
        "colab": {
          "base_uri": "https://localhost:8080/",
          "height": 867
        },
        "outputId": "f317575f-ebe0-470c-ea08-d9aae4a521f7"
      },
      "source": [
        "print(amit)"
      ],
      "execution_count": null,
      "outputs": [
        {
          "output_type": "stream",
          "text": [
            "[[[0]\n",
            "  [0]\n",
            "  [0]\n",
            "  ...\n",
            "  [0]\n",
            "  [0]\n",
            "  [0]]\n",
            "\n",
            " [[0]\n",
            "  [0]\n",
            "  [0]\n",
            "  ...\n",
            "  [0]\n",
            "  [0]\n",
            "  [0]]\n",
            "\n",
            " [[0]\n",
            "  [0]\n",
            "  [0]\n",
            "  ...\n",
            "  [0]\n",
            "  [0]\n",
            "  [0]]\n",
            "\n",
            " ...\n",
            "\n",
            " [[0]\n",
            "  [0]\n",
            "  [0]\n",
            "  ...\n",
            "  [0]\n",
            "  [0]\n",
            "  [0]]\n",
            "\n",
            " [[0]\n",
            "  [0]\n",
            "  [0]\n",
            "  ...\n",
            "  [0]\n",
            "  [0]\n",
            "  [0]]\n",
            "\n",
            " [[0]\n",
            "  [0]\n",
            "  [0]\n",
            "  ...\n",
            "  [0]\n",
            "  [0]\n",
            "  [0]]]\n"
          ],
          "name": "stdout"
        }
      ]
    },
    {
      "cell_type": "code",
      "metadata": {
        "id": "F1DKQYzJ6NHz",
        "colab_type": "code",
        "colab": {}
      },
      "source": [
        "a_noise = np.subtract(np.squeeze(image1), np.squeeze(amit))"
      ],
      "execution_count": null,
      "outputs": []
    },
    {
      "cell_type": "code",
      "metadata": {
        "id": "9z1j0HiW6wdy",
        "colab_type": "code",
        "colab": {
          "base_uri": "https://localhost:8080/",
          "height": 243
        },
        "outputId": "0f732805-e3a5-4aea-e8c8-8ce826bf961f"
      },
      "source": [
        "print(a_noise)"
      ],
      "execution_count": null,
      "outputs": [
        {
          "output_type": "stream",
          "text": [
            "[[1.40760624e-11 8.39153691e-23 5.74248298e-20 ... 7.42665131e-12\n",
            "  4.21025675e-07 4.47489583e-05]\n",
            " [3.18902425e-20 2.72788910e-31 5.82076849e-38 ... 4.57825899e-18\n",
            "  6.64625147e-14 3.76495482e-05]\n",
            " [1.10421200e-16 2.78622237e-34 1.76582687e-37 ... 8.87671504e-19\n",
            "  1.13831710e-15 1.90036788e-12]\n",
            " ...\n",
            " [8.75050828e-05 1.08230302e-09 1.44012403e-18 ... 0.00000000e+00\n",
            "  1.21818179e-33 7.60543589e-20]\n",
            " [1.28583741e-10 2.60143857e-18 1.31585454e-23 ... 0.00000000e+00\n",
            "  4.41137536e-33 1.20948015e-20]\n",
            " [9.97635561e-06 7.53755511e-14 3.46548848e-18 ... 2.50809982e-22\n",
            "  1.07079570e-21 5.23762128e-17]]\n"
          ],
          "name": "stdout"
        }
      ]
    },
    {
      "cell_type": "code",
      "metadata": {
        "id": "PkYMMvC7_VPZ",
        "colab_type": "code",
        "colab": {
          "base_uri": "https://localhost:8080/",
          "height": 69
        },
        "outputId": "6357950b-14a8-4531-c28b-279807dbe923"
      },
      "source": [
        "print(a_noise.shape)\n",
        "print(np.max(a_noise*255))\n",
        "print(np.max(image1*255))"
      ],
      "execution_count": null,
      "outputs": [
        {
          "output_type": "stream",
          "text": [
            "(64, 64)\n",
            "0.4523505\n",
            "255.0\n"
          ],
          "name": "stdout"
        }
      ]
    },
    {
      "cell_type": "code",
      "metadata": {
        "id": "edcuYc4mClwL",
        "colab_type": "code",
        "colab": {
          "base_uri": "https://localhost:8080/",
          "height": 285
        },
        "outputId": "c74355ec-d393-47cf-c457-5bed7e1212a5"
      },
      "source": [
        "plt.imshow(a_noise, cmap='gray')"
      ],
      "execution_count": null,
      "outputs": [
        {
          "output_type": "execute_result",
          "data": {
            "text/plain": [
              "<matplotlib.image.AxesImage at 0x7f11a0b95940>"
            ]
          },
          "metadata": {
            "tags": []
          },
          "execution_count": 179
        },
        {
          "output_type": "display_data",
          "data": {
            "image/png": "[encoded data removed]",
            "text/plain": [
              "<Figure size 432x288 with 1 Axes>"
            ]
          },
          "metadata": {
            "tags": [],
            "needs_background": "light"
          }
        }
      ]
    },
    {
      "cell_type": "code",
      "metadata": {
        "id": "0oN7S71kJXwW",
        "colab_type": "code",
        "colab": {}
      },
      "source": [
        "def softmax(x):\n",
        "  e_x = np.exp(x)\n",
        "  return e_x/sum(e_x)"
      ],
      "execution_count": null,
      "outputs": []
    },
    {
      "cell_type": "code",
      "metadata": {
        "id": "HuJcrSTm8lWE",
        "colab_type": "code",
        "colab": {
          "base_uri": "https://localhost:8080/",
          "height": 87
        },
        "outputId": "82f80e7e-c415-4c71-f290-dc653687eafb"
      },
      "source": [
        "i = 0\n",
        "class1 = model2.predict(np.expand_dims(image1, axis=0))\n",
        "\n",
        "Labels = ['Amit','Aswal','Daniel','John','Kevin','Lalita','Ram','Sancho','Vinod','Vivek']\n",
        "real = 0\n",
        "index_soft = softmax(class1[i][:10])\n",
        "index_sign = np.argmax(class1[i][:10])\n",
        "  \n",
        "index = class1[i][10]\n",
        "if index > 0.5:\n",
        "  real = 1\n",
        "print('Signature',i,'=',Labels[index_sign], \"; Genuiness:\", real)\n",
        "print(\"Softmax Probabilities:\", index_soft)\n",
        "print(\"Real Probability:\", index)"
      ],
      "execution_count": null,
      "outputs": [
        {
          "output_type": "stream",
          "text": [
            "Signature 0 = Amit ; Genuiness: 0\n",
            "Softmax Probabilities: [0.23132868 0.08534999 0.08526855 0.08532372 0.08529861 0.08548891\n",
            " 0.08536716 0.08546957 0.08528539 0.08581939]\n",
            "Real Probability: 8.402544e-05\n"
          ],
          "name": "stdout"
        }
      ]
    },
    {
      "cell_type": "code",
      "metadata": {
        "id": "uLqk1wFg-Qcs",
        "colab_type": "code",
        "colab": {
          "base_uri": "https://localhost:8080/",
          "height": 87
        },
        "outputId": "9704c460-70f9-4a72-8d57-94e4e599fb55"
      },
      "source": [
        "i = 0\n",
        "class1 = model2.predict(np.expand_dims(amit, axis=0))\n",
        "\n",
        "Labels = ['Amit','Aswal','Daniel','John','Kevin','Lalita','Ram','Sancho','Vinod','Vivek']\n",
        "real = 0\n",
        "index_soft = softmax(class1[i][:10])\n",
        "index_sign = np.argmax(class1[i][:10])\n",
        "  \n",
        "index = class1[i][10]\n",
        "if index > 0.5:\n",
        "  real = 1\n",
        "print('Signature',i,'=',Labels[index_sign], \"; Genuiness:\", real)\n",
        "print(\"Softmax Probabilities:\", index_soft)\n",
        "print(\"Real Probability:\", index)"
      ],
      "execution_count": null,
      "outputs": [
        {
          "output_type": "stream",
          "text": [
            "Signature 0 = Amit ; Genuiness: 1\n",
            "Softmax Probabilities: [0.23196931 0.08533674 0.08533674 0.08533674 0.08533674 0.08533674\n",
            " 0.08533674 0.08533674 0.08533674 0.08533674]\n",
            "Real Probability: 0.99999535\n"
          ],
          "name": "stdout"
        }
      ]
    },
    {
      "cell_type": "code",
      "metadata": {
        "id": "ukNZEo_rAWTY",
        "colab_type": "code",
        "colab": {
          "base_uri": "https://localhost:8080/",
          "height": 35
        },
        "outputId": "10cf28db-1250-411f-e1b9-6e82856bbd6b"
      },
      "source": [
        "image2 = np.expand_dims(X_train[99], axis=(0,3))\n",
        "print(image2.shape)"
      ],
      "execution_count": null,
      "outputs": [
        {
          "output_type": "stream",
          "text": [
            "(1, 64, 64, 1)\n"
          ],
          "name": "stdout"
        }
      ]
    },
    {
      "cell_type": "code",
      "metadata": {
        "id": "zZlx5qF6-h0G",
        "colab_type": "code",
        "colab": {
          "base_uri": "https://localhost:8080/",
          "height": 87
        },
        "outputId": "25d95102-4c19-4383-bfbc-461dcb85ec0a"
      },
      "source": [
        "i = 0\n",
        "class1 = model2.predict(image2)\n",
        "\n",
        "Labels = ['Amit','Aswal','Daniel','John','Kevin','Lalita','Ram','Sancho','Vinod','Vivek']\n",
        "real = 0\n",
        "\n",
        "index_soft = softmax(class1[i][:10])\n",
        "index_sign = np.argmax(class1[i][:10])\n",
        "  \n",
        "index = class1[i][10]\n",
        "if index > 0.5:\n",
        "  real = 1\n",
        "print('Signature',i,'=',Labels[index_sign], \"; Genuiness:\", real)\n",
        "print(\"Softmax Probabilities:\", index_soft)\n",
        "print(\"Real Probability:\", index)"
      ],
      "execution_count": null,
      "outputs": [
        {
          "output_type": "stream",
          "text": [
            "Signature 0 = Amit ; Genuiness: 1\n",
            "Softmax Probabilities: [0.23196931 0.08533674 0.08533674 0.08533674 0.08533674 0.08533674\n",
            " 0.08533675 0.08533674 0.08533674 0.08533674]\n",
            "Real Probability: 1.0\n"
          ],
          "name": "stdout"
        }
      ]
    },
    {
      "cell_type": "code",
      "metadata": {
        "id": "xwCs_M83_vNR",
        "colab_type": "code",
        "colab": {
          "base_uri": "https://localhost:8080/",
          "height": 52
        },
        "outputId": "303a576b-b168-42f9-db90-3dc1c8246016"
      },
      "source": [
        "vivek = np.add(np.squeeze(image2), a_noise)\n",
        "vivek = np.expand_dims(vivek, axis=(0,3))\n",
        "print(vivek.shape)\n",
        "\n",
        "amit_noise = np.add(np.squeeze(image1), a_noise)\n",
        "amit_noise = np.expand_dims(amit_noise, axis=(0,3))\n",
        "print(amit_noise.shape)"
      ],
      "execution_count": null,
      "outputs": [
        {
          "output_type": "stream",
          "text": [
            "(1, 64, 64, 1)\n",
            "(1, 64, 64, 1)\n"
          ],
          "name": "stdout"
        }
      ]
    },
    {
      "cell_type": "code",
      "metadata": {
        "id": "s1LxI-WXA7MB",
        "colab_type": "code",
        "colab": {
          "base_uri": "https://localhost:8080/",
          "height": 87
        },
        "outputId": "1349893c-4291-4676-a980-ec085642f6a0"
      },
      "source": [
        "i = 0\n",
        "class1 = model2.predict(amit_noise)\n",
        "\n",
        "Labels = ['Amit','Aswal','Daniel','John','Kevin','Lalita','Ram','Sancho','Vinod','Vivek']\n",
        "real = 0\n",
        "index_soft = softmax(class1[i][:10])\n",
        "index_sign = np.argmax(class1[i][:10])\n",
        "  \n",
        "index = class1[i][10]\n",
        "if index > 0.5:\n",
        "  real = 1\n",
        "print('Signature',i,'=',Labels[index_sign], \"; Genuiness:\", real)\n",
        "print(\"Softmax Probabilities:\", index_soft)\n",
        "print(\"Real Probability:\", index)"
      ],
      "execution_count": null,
      "outputs": [
        {
          "output_type": "stream",
          "text": [
            "Signature 0 = Daniel ; Genuiness: 0\n",
            "Softmax Probabilities: [0.07442373 0.07442373 0.20230466 0.07442373 0.07442373 0.07442373\n",
            " 0.20230466 0.07442373 0.07442462 0.07442373]\n",
            "Real Probability: 0.0\n"
          ],
          "name": "stdout"
        }
      ]
    },
    {
      "cell_type": "code",
      "metadata": {
        "id": "tqhxLB2wCybu",
        "colab_type": "code",
        "colab": {
          "base_uri": "https://localhost:8080/",
          "height": 285
        },
        "outputId": "4bbb7371-287f-4544-9822-0f1be30c2462"
      },
      "source": [
        "plt.imshow(np.squeeze(vivek), cmap='gray')"
      ],
      "execution_count": null,
      "outputs": [
        {
          "output_type": "execute_result",
          "data": {
            "text/plain": [
              "<matplotlib.image.AxesImage at 0x7f11a4500ef0>"
            ]
          },
          "metadata": {
            "tags": []
          },
          "execution_count": 210
        },
        {
          "output_type": "display_data",
          "data": {
            "image/png": "[encoded data removed]",
            "text/plain": [
              "<Figure size 432x288 with 1 Axes>"
            ]
          },
          "metadata": {
            "tags": [],
            "needs_background": "light"
          }
        }
      ]
    },
    {
      "cell_type": "code",
      "metadata": {
        "id": "vQSe-5whGfDp",
        "colab_type": "code",
        "colab": {
          "base_uri": "https://localhost:8080/",
          "height": 285
        },
        "outputId": "8b494ec2-e3ed-447e-ee79-421cc1bc3a0b"
      },
      "source": [
        "plt.imshow(np.squeeze(amit_noise), cmap='gray')"
      ],
      "execution_count": null,
      "outputs": [
        {
          "output_type": "execute_result",
          "data": {
            "text/plain": [
              "<matplotlib.image.AxesImage at 0x7f11ae1995c0>"
            ]
          },
          "metadata": {
            "tags": []
          },
          "execution_count": 211
        },
        {
          "output_type": "display_data",
          "data": {
            "image/png": "[encoded data removed]",
            "text/plain": [
              "<Figure size 432x288 with 1 Axes>"
            ]
          },
          "metadata": {
            "tags": [],
            "needs_background": "light"
          }
        }
      ]
    }
  ]
}